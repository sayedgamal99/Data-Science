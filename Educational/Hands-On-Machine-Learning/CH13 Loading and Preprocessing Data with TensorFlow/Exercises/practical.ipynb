{
 "cells": [
  {
   "cell_type": "markdown",
   "metadata": {},
   "source": [
    "## CH13 Exercises: Loading and Preprocessing Data With Tensorflow\n"
   ]
  },
  {
   "cell_type": "markdown",
   "metadata": {},
   "source": [
    "- 9. Load the Fashion MNIST dataset:(introduced in Chapter 10);\n",
    "\n",
    "  - split it into a training set, a validation set, and a test set; shuffle the training set; and save each dataset to multiple TFRecord files.\n",
    "\n",
    "  - Each record should be a serialized Example protobuf with two features: the serialized image (use tf.io.serialize_tensor() to serialize each image), and the label.\n",
    "\n",
    "  - Then use tf.data to create an efficient dataset for each set.\n",
    "\n",
    "  - Finally, use a Keras model to train these datasets, including a preprocessing layer to standardize each input feature. Try to make the input pipeline as efficient as possible, using TensorBoard to visualize profiling data.\n"
   ]
  },
  {
   "cell_type": "markdown",
   "metadata": {},
   "source": [
    "1- loading the data\n"
   ]
  },
  {
   "cell_type": "code",
   "execution_count": 113,
   "metadata": {},
   "outputs": [],
   "source": [
    "import tensorflow as tf\n",
    "from tensorflow.keras.datasets.fashion_mnist import load_data\n",
    "from sklearn.model_selection import train_test_split\n",
    "import matplotlib.pyplot as plt\n",
    "import numpy as np"
   ]
  },
  {
   "cell_type": "code",
   "execution_count": 46,
   "metadata": {},
   "outputs": [],
   "source": [
    "(X_train_full, y_train_full), (X_test, y_test) = tf.keras.datasets.fashion_mnist.load_data()\n",
    "X_valid, X_train = X_train_full[:5000], X_train_full[5000:]\n",
    "y_valid, y_train = y_train_full[:5000], y_train_full[5000:]"
   ]
  },
  {
   "cell_type": "code",
   "execution_count": 47,
   "metadata": {},
   "outputs": [
    {
     "data": {
      "text/plain": [
       "((55000, 28, 28), (5000,), (10000, 28, 28), array([9, 0, 0], dtype=uint8))"
      ]
     },
     "execution_count": 47,
     "metadata": {},
     "output_type": "execute_result"
    }
   ],
   "source": [
    "X_train.shape, y_valid.shape, X_test.shape, y_valid[:3]"
   ]
  },
  {
   "cell_type": "code",
   "execution_count": 48,
   "metadata": {},
   "outputs": [
    {
     "data": {
      "text/plain": [
       "(28, 28)"
      ]
     },
     "execution_count": 48,
     "metadata": {},
     "output_type": "execute_result"
    }
   ],
   "source": [
    "img = X_train[0]\n",
    "img.shape"
   ]
  },
  {
   "cell_type": "code",
   "execution_count": 49,
   "metadata": {},
   "outputs": [
    {
     "name": "stdout",
     "output_type": "stream",
     "text": [
      "Train Data Length:  55000\n",
      "Valid Length:  5000\n",
      "Test Length:  10000\n"
     ]
    },
    {
     "data": {
      "text/plain": [
       "<_ShuffleDataset element_spec=(TensorSpec(shape=(28, 28), dtype=tf.uint8, name=None), TensorSpec(shape=(), dtype=tf.uint8, name=None))>"
      ]
     },
     "execution_count": 49,
     "metadata": {},
     "output_type": "execute_result"
    }
   ],
   "source": [
    "train_dataset = tf.data.Dataset.from_tensor_slices((X_train,y_train))\n",
    "train_dataset = train_dataset.shuffle(buffer_size=len(X_train),seed=42)\n",
    "\n",
    "valid_dataset = tf.data.Dataset.from_tensor_slices((X_valid,y_valid))\n",
    "test_dataset =  tf.data.Dataset.from_tensor_slices((X_test,y_test))\n",
    "\n",
    "print('Train Data Length: ', len(train_dataset))\n",
    "print('Valid Length: ',len(valid_dataset))\n",
    "print('Test Length: ', len(test_dataset))\n",
    "train_dataset"
   ]
  },
  {
   "cell_type": "markdown",
   "metadata": {},
   "source": [
    "let's save each dataset into multiple tfrecord files, for example 10 files for each data.\n"
   ]
  },
  {
   "cell_type": "code",
   "execution_count": 50,
   "metadata": {},
   "outputs": [
    {
     "data": {
      "text/plain": [
       "TensorShape([28, 28])"
      ]
     },
     "execution_count": 50,
     "metadata": {},
     "output_type": "execute_result"
    }
   ],
   "source": [
    "next(iter(train_dataset))[0].shape"
   ]
  },
  {
   "cell_type": "code",
   "execution_count": 51,
   "metadata": {},
   "outputs": [
    {
     "data": {
      "text/plain": [
       "5500"
      ]
     },
     "execution_count": 51,
     "metadata": {},
     "output_type": "execute_result"
    }
   ],
   "source": [
    "55000//10 + 55000%10"
   ]
  },
  {
   "cell_type": "code",
   "execution_count": 52,
   "metadata": {},
   "outputs": [
    {
     "name": "stdout",
     "output_type": "stream",
     "text": [
      "train_file0 file saved successfully\n",
      "train_file1 file saved successfully\n",
      "train_file2 file saved successfully\n",
      "train_file3 file saved successfully\n",
      "train_file4 file saved successfully\n",
      "train_file5 file saved successfully\n",
      "train_file6 file saved successfully\n",
      "train_file7 file saved successfully\n",
      "train_file8 file saved successfully\n",
      "train_file9 file saved successfully\n",
      "==================================================\n",
      "Train files finished.\n",
      " --------------------------------------------------\n",
      "valid_file0 file saved successfully\n",
      "valid_file1 file saved successfully\n",
      "valid_file2 file saved successfully\n",
      "valid_file3 file saved successfully\n",
      "valid_file4 file saved successfully\n",
      "valid_file5 file saved successfully\n",
      "valid_file6 file saved successfully\n",
      "valid_file7 file saved successfully\n",
      "valid_file8 file saved successfully\n",
      "valid_file9 file saved successfully\n",
      "==================================================\n",
      "Valid files finished.\n",
      " --------------------------------------------------\n",
      "test_file0 file saved successfully\n",
      "test_file1 file saved successfully\n",
      "test_file2 file saved successfully\n",
      "test_file3 file saved successfully\n",
      "test_file4 file saved successfully\n",
      "test_file5 file saved successfully\n",
      "test_file6 file saved successfully\n",
      "test_file7 file saved successfully\n",
      "test_file8 file saved successfully\n",
      "test_file9 file saved successfully\n",
      "==================================================\n",
      "Test files finished.\n",
      " --------------------------------------------------\n"
     ]
    }
   ],
   "source": [
    "from tensorflow.train import Example, Features, Feature, BytesList, Int64List\n",
    "\n",
    "def save_dataset_to_10_tfrecord(data_iter, length, the_type='Train'):\n",
    "    if the_type == 'Train':\n",
    "        name = 'train_file'\n",
    "    elif the_type == 'Valid':\n",
    "        name = 'valid_file'\n",
    "    else:\n",
    "        name = 'test_file'\n",
    "\n",
    "    for i in range(10):\n",
    "        with tf.io.TFRecordWriter(f'ignored/{name}{i+1}.tfrecord') as f:\n",
    "            for _ in range(length // 10):\n",
    "                try:\n",
    "                    img, label = next(data_iter)\n",
    "                    data = tf.io.encode_jpeg(img[..., tf.newaxis])\n",
    "                    example_with_image = Example(features=Features(feature={\n",
    "                        \"image\": Feature(bytes_list=BytesList(value=[data.numpy()])),  # Encoded image data\n",
    "                        \"label\": Feature(int64_list=Int64List(value=[label]))  # Label \n",
    "                    }))\n",
    "                    serialized_example = example_with_image.SerializeToString()\n",
    "                    f.write(serialized_example)\n",
    "                except StopIteration:\n",
    "                    print(\"Data iterator exhausted. Ending early.\")\n",
    "                    break  # Stop if there are no more data\n",
    "\n",
    "            print(f'{name}{i} file saved successfully')\n",
    "    \n",
    "    print('=' * 50)\n",
    "    print(f'{the_type} files finished.\\n','-'*50)\n",
    "\n",
    "\n",
    "save_dataset_to_10_tfrecord(iter(train_dataset),len(train_dataset), 'Train')\n",
    "save_dataset_to_10_tfrecord(iter(valid_dataset),len(valid_dataset), 'Valid')\n",
    "save_dataset_to_10_tfrecord(iter(test_dataset),len(test_dataset), 'Test')"
   ]
  },
  {
   "cell_type": "markdown",
   "metadata": {},
   "source": [
    "ok, we saved each dataset into 10 tfrecord files, now we try to read them again..\n"
   ]
  },
  {
   "cell_type": "code",
   "execution_count": 66,
   "metadata": {},
   "outputs": [],
   "source": [
    "feature_descriptions = {\n",
    "        \"image\": tf.io.FixedLenFeature([], tf.string, default_value=\"\"),\n",
    "        \"label\": tf.io.FixedLenFeature([], tf.int64, default_value=-1)\n",
    "        }\n",
    "\n",
    "def parse(serialized_example):\n",
    "        example = tf.io.parse_single_example(serialized_example,feature_description)\n",
    "        image = tf.io.decode_jpeg(example[\"image\"].values[0])\n",
    "        image = tf.reshape(image, shape=[28,28])\n",
    "        return image, example[\"label\"]"
   ]
  },
  {
   "cell_type": "code",
   "execution_count": 72,
   "metadata": {},
   "outputs": [
    {
     "name": "stdout",
     "output_type": "stream",
     "text": [
      "(30, 28, 28) (30,)\n",
      "tf.Tensor([6 6 2 7 0 7 3 3 2 7 9 6 2 3 3 6 2 9 2 4 3 9 0 1 1 1 6 4 6 1], shape=(30,), dtype=int64)\n",
      "(30, 28, 28) (30,)\n",
      "tf.Tensor([0 9 1 4 0 2 3 1 3 8 7 7 6 6 5 3 5 5 5 0 6 0 5 2 3 1 1 3 2 9], shape=(30,), dtype=int64)\n"
     ]
    }
   ],
   "source": [
    "for x,y in (tf.data.TFRecordDataset('ignored\\\\train_file5.tfrecord')).map(parse).batch(30).take(2):\n",
    "    print(x.shape, y.shape)\n",
    "    print(y)"
   ]
  },
  {
   "cell_type": "code",
   "execution_count": 54,
   "metadata": {},
   "outputs": [
    {
     "name": "stdout",
     "output_type": "stream",
     "text": [
      "<_ShuffleDataset element_spec=TensorSpec(shape=(), dtype=tf.string, name=None)> 10\n",
      "[b'ignored\\\\train_file5.tfrecord', b'ignored\\\\train_file9.tfrecord', b'ignored\\\\train_file6.tfrecord', b'ignored\\\\train_file4.tfrecord', b'ignored\\\\train_file7.tfrecord', b'ignored\\\\train_file10.tfrecord', b'ignored\\\\train_file2.tfrecord', b'ignored\\\\train_file8.tfrecord', b'ignored\\\\train_file3.tfrecord', b'ignored\\\\train_file1.tfrecord']\n"
     ]
    }
   ],
   "source": [
    "train_filepaths = 'ignored/train_file*.tfrecord'\n",
    "train_filepath_dataset = tf.data.Dataset.list_files(train_filepaths,seed=42)\n",
    "\n",
    "valid_filepaths = 'ignored/valid_file*.tfrecord'\n",
    "valid_filepath_dataset =  tf.data.Dataset.list_files(valid_filepaths,shuffle=False)\n",
    "\n",
    "test_filepaths = 'ignored/test_file*.tfrecord'\n",
    "test_filepath_dataset =  tf.data.Dataset.list_files(test_filepaths,shuffle=False)\n",
    "\n",
    "\n",
    "\n",
    "print(train_filepath_dataset, len(train_filepath_dataset))\n",
    "print(list(train_filepath_dataset.as_numpy_iterator()))"
   ]
  },
  {
   "cell_type": "markdown",
   "metadata": {},
   "source": [
    "### reading the data from files:"
   ]
  },
  {
   "cell_type": "code",
   "execution_count": 106,
   "metadata": {},
   "outputs": [],
   "source": [
    "def reader(filepath_dataset, n_readers=10):\n",
    "    return filepath_dataset.interleave(num_parallel_calls=tf.data.AUTOTUNE,\n",
    "            map_func = lambda filepath: tf.data.TFRecordDataset(filepath).map(parse),\n",
    "            cycle_length=n_readers).cache().batch(32).prefetch(1)\n",
    "\n",
    "train_dataset = reader(train_filepath_dataset)\n",
    "valid_dataset = reader(valid_filepath_dataset)\n",
    "test_dataset = reader(test_filepath_dataset)"
   ]
  },
  {
   "cell_type": "code",
   "execution_count": 107,
   "metadata": {},
   "outputs": [
    {
     "name": "stdout",
     "output_type": "stream",
     "text": [
      "Input: (32, 28, 28), Label: (32,)\n"
     ]
    }
   ],
   "source": [
    "for x, y in train_dataset.take(1):\n",
    "    print(f\"Input: {x.shape}, Label: {y.shape}\")\n"
   ]
  },
  {
   "cell_type": "code",
   "execution_count": 93,
   "metadata": {},
   "outputs": [
    {
     "data": {
      "image/png": "[encoded data removed]",
      "text/plain": [
       "<Figure size 640x480 with 5 Axes>"
      ]
     },
     "metadata": {},
     "output_type": "display_data"
    }
   ],
   "source": [
    "for X, y in valid_dataset.take(1):\n",
    "    for i in range(5):\n",
    "        plt.subplot(1, 5, i + 1)\n",
    "        plt.imshow(X[i].numpy(), cmap=\"binary\")\n",
    "        plt.axis(\"off\")\n",
    "        plt.title(str(y[i].numpy()))"
   ]
  },
  {
   "cell_type": "markdown",
   "metadata": {},
   "source": [
    "### Wrap Up:\n"
   ]
  },
  {
   "cell_type": "markdown",
   "metadata": {},
   "source": [
    "### Model\n"
   ]
  },
  {
   "cell_type": "code",
   "execution_count": null,
   "metadata": {},
   "outputs": [],
   "source": []
  },
  {
   "cell_type": "code",
   "execution_count": 108,
   "metadata": {},
   "outputs": [],
   "source": [
    "sample_image_batches = train_dataset.take(100).map(lambda image, label: image)"
   ]
  },
  {
   "cell_type": "code",
   "execution_count": 115,
   "metadata": {},
   "outputs": [
    {
     "data": {
      "text/plain": [
       "(3200, 28, 28)"
      ]
     },
     "execution_count": 115,
     "metadata": {},
     "output_type": "execute_result"
    }
   ],
   "source": [
    "np.concatenate(list(sample_image_batches.as_numpy_iterator()),\n",
    "                            axis=0).astype(np.float32).shape"
   ]
  },
  {
   "cell_type": "code",
   "execution_count": 122,
   "metadata": {},
   "outputs": [],
   "source": [
    "tf.random.set_seed(42)\n",
    "\n",
    "norm_layer = tf.keras.layers.Normalization(input_shape=[28, 28])\n",
    "\n",
    "sample_image_batches = train_dataset.take(100).map(lambda image, label: image)\n",
    "sample_images = np.concatenate(list(sample_image_batches.as_numpy_iterator()),\n",
    "                            axis=0).astype(np.float32)\n",
    "norm_layer.adapt(sample_images)\n",
    "\n",
    "model = tf.keras.Sequential([\n",
    "    norm_layer,\n",
    "    tf.keras.layers.Flatten(),\n",
    "    tf.keras.layers.Dense(512,activation='leaky_relu'),\n",
    "    tf.keras.layers.Dense(128,activation='leaky_relu'),\n",
    "    tf.keras.layers.Dense(10,activation='softmax')\n",
    "])"
   ]
  },
  {
   "cell_type": "code",
   "execution_count": 118,
   "metadata": {},
   "outputs": [
    {
     "name": "stdout",
     "output_type": "stream",
     "text": [
      "Model: \"sequential_6\"\n",
      "_________________________________________________________________\n",
      " Layer (type)                Output Shape              Param #   \n",
      "=================================================================\n",
      " normalization_7 (Normaliza  (None, 28, 28)            57        \n",
      " tion)                                                           \n",
      "                                                                 \n",
      " flatten_4 (Flatten)         (None, 784)               0         \n",
      "                                                                 \n",
      " dense_18 (Dense)            (None, 512)               401920    \n",
      "                                                                 \n",
      " dense_19 (Dense)            (None, 128)               65664     \n",
      "                                                                 \n",
      " dense_20 (Dense)            (None, 10)                1290      \n",
      "                                                                 \n",
      "=================================================================\n",
      "Total params: 468931 (1.79 MB)\n",
      "Trainable params: 468874 (1.79 MB)\n",
      "Non-trainable params: 57 (232.00 Byte)\n",
      "_________________________________________________________________\n"
     ]
    }
   ],
   "source": [
    "model.summary()"
   ]
  },
  {
   "cell_type": "code",
   "execution_count": 123,
   "metadata": {},
   "outputs": [],
   "source": [
    "model.compile(optimizer='adam',\n",
    "            loss=tf.keras.losses.SparseCategoricalCrossentropy(),\n",
    "            metrics=['accuracy'])\n"
   ]
  },
  {
   "cell_type": "code",
   "execution_count": 124,
   "metadata": {},
   "outputs": [
    {
     "name": "stdout",
     "output_type": "stream",
     "text": [
      "Epoch 1/5\n",
      "1719/1719 [==============================] - 9s 5ms/step - loss: 0.4623 - accuracy: 0.8320 - val_loss: 0.3827 - val_accuracy: 0.8618\n",
      "Epoch 2/5\n",
      "1719/1719 [==============================] - 8s 5ms/step - loss: 0.3587 - accuracy: 0.8674 - val_loss: 0.3733 - val_accuracy: 0.8712\n",
      "Epoch 3/5\n",
      "1719/1719 [==============================] - 8s 5ms/step - loss: 0.3192 - accuracy: 0.8808 - val_loss: 0.3770 - val_accuracy: 0.8696\n",
      "Epoch 4/5\n",
      "1719/1719 [==============================] - 8s 5ms/step - loss: 0.2942 - accuracy: 0.8904 - val_loss: 0.3776 - val_accuracy: 0.8782\n",
      "Epoch 5/5\n",
      "1719/1719 [==============================] - 8s 5ms/step - loss: 0.2755 - accuracy: 0.8967 - val_loss: 0.3970 - val_accuracy: 0.8760\n"
     ]
    }
   ],
   "source": [
    "history = model.fit(train_dataset,epochs=5,validation_data=valid_dataset)"
   ]
  },
  {
   "cell_type": "markdown",
   "metadata": {},
   "source": [
    "---"
   ]
  }
 ],
 "metadata": {
  "kernelspec": {
   "display_name": "homl3",
   "language": "python",
   "name": "python3"
  },
  "language_info": {
   "codemirror_mode": {
    "name": "ipython",
    "version": 3
   },
   "file_extension": ".py",
   "mimetype": "text/x-python",
   "name": "python",
   "nbconvert_exporter": "python",
   "pygments_lexer": "ipython3",
   "version": "3.10.14"
  }
 },
 "nbformat": 4,
 "nbformat_minor": 2
}
