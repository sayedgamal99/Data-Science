{
 "cells": [
  {
   "cell_type": "markdown",
   "metadata": {},
   "source": [
    "## Chapter 12 Practical Exercises: Custom Models and Training with TensorFlow\n"
   ]
  },
  {
   "cell_type": "markdown",
   "metadata": {},
   "source": [
    "##### 12. Implement a custom layer that performs layer normalization (we will use this type of layer in Chapter 15):\n"
   ]
  },
  {
   "cell_type": "markdown",
   "metadata": {},
   "source": [
    "a. The build() method should define two trainable weights α and β, both of\n",
    "shape input_shape[-1:] and data type tf.float32. α should be initialized\n",
    "with 1s, and β with 0s.\n"
   ]
  },
  {
   "cell_type": "code",
   "execution_count": 16,
   "metadata": {},
   "outputs": [],
   "source": [
    "import tensorflow as tf\n",
    "import numpy as np"
   ]
  },
  {
   "cell_type": "code",
   "execution_count": 3,
   "metadata": {},
   "outputs": [],
   "source": [
    "class NormalizeLayer(tf.keras.layers.Layer):\n",
    "    def __init__(self, **kwargs):\n",
    "        super().__init__(**kwargs)\n",
    "    \n",
    "    def build(self, batch_input_shape):\n",
    "        self.alphas = self.add_weight('alpha',batch_input_shape[-1:],tf.float32,\n",
    "                                    initializer=tf.keras.initializers.Constant(1.0)) \n",
    "        self.betas = self.add_weight('beta', batch_input_shape[-1:],tf.float32,\n",
    "                                    initializer=tf.keras.initializers.Constant(0.0)) \n",
    "    def call(self, input):\n",
    "        pass"
   ]
  },
  {
   "cell_type": "markdown",
   "metadata": {},
   "source": [
    "b.\n",
    "The `call()` method should compute the mean (μ) and standard deviation (σ) of each instance's features. For this, you can use `tf.nn.moments(inputs, axes=-1, keepdims=True)`, which returns the mean (μ) and the variance (σ^2) of all instances (compute the square root of the variance to get the standard deviation). Then, the function should compute and return:\n",
    "\n",
    "$$\n",
    "\\alpha \\otimes \\left( \\frac{X - \\mu}{\\sigma + \\epsilon} \\right) + \\beta\n",
    "$$\n",
    "\n",
    "where _ represents elementwise multiplication (`_`), and ε is a smoothing term (a small constant to avoid division by zero, e.g., 0.001).\n"
   ]
  },
  {
   "cell_type": "code",
   "execution_count": 11,
   "metadata": {},
   "outputs": [
    {
     "data": {
      "text/plain": [
       "(<tf.Tensor: shape=(2, 1), dtype=int32, numpy=\n",
       " array([[ 78],\n",
       "        [120]])>,\n",
       " <tf.Tensor: shape=(2, 1), dtype=int32, numpy=\n",
       " array([[ 7511],\n",
       "        [20475]])>)"
      ]
     },
     "execution_count": 11,
     "metadata": {},
     "output_type": "execute_result"
    }
   ],
   "source": [
    "tf.nn.moments(x=tf.constant([[33,3,200],[34,5,322]]),axes=-1,keepdims=True)"
   ]
  },
  {
   "cell_type": "code",
   "execution_count": 46,
   "metadata": {},
   "outputs": [],
   "source": [
    "class NormalizeLayer(tf.keras.layers.Layer):\n",
    "    def __init__(self, eps=0.001, **kwargs):\n",
    "        super().__init__(**kwargs)\n",
    "        self.eps = eps\n",
    "\n",
    "    def build(self, batch_input_shape):\n",
    "        self.alphas = self.add_weight('alpha',batch_input_shape[-1:],tf.float32,\n",
    "                                    initializer='ones'\n",
    "                                    # tf.keras.initializers.Constant(1.0)\n",
    "                                    ) \n",
    "        self.betas = self.add_weight('beta', batch_input_shape[-1:],tf.float32,\n",
    "                                    initializer='zeros') \n",
    "        \n",
    "    def call(self, X):\n",
    "        mean, var = tf.nn.moments(x=X,axes=-1,keepdims=True)\n",
    "        return self.alphas * ((X - mean) / (tf.sqrt(var + self.eps))) + self.betas\n",
    "    \n",
    "    def get_config(self):\n",
    "        base_config = super().get_config()\n",
    "        return {**base_config, \"epsilon\": self.eps}"
   ]
  },
  {
   "cell_type": "markdown",
   "metadata": {},
   "source": [
    "c. Ensure that your custom layer produces the same (or very nearly the same) output as the tf.keras.layers.LayerNormalization layer.\n"
   ]
  },
  {
   "cell_type": "code",
   "execution_count": 47,
   "metadata": {},
   "outputs": [
    {
     "data": {
      "text/plain": [
       "<tf.Tensor: shape=(), dtype=float32, numpy=4.7683717e-08>"
      ]
     },
     "execution_count": 47,
     "metadata": {},
     "output_type": "execute_result"
    }
   ],
   "source": [
    "keras_norm_layer = tf.keras.layers.LayerNormalization()\n",
    "\n",
    "\n",
    "data = tf.constant(np.arange(10).reshape(5, 2) * 10, dtype=tf.float32)\n",
    "custom_layer_norm = NormalizeLayer()\n",
    "keras_layer_norm = tf.keras.layers.LayerNormalization()\n",
    "\n",
    "tf.reduce_mean(tf.keras.losses.mean_absolute_error(\n",
    "    keras_layer_norm(data), custom_layer_norm(data)))\n"
   ]
  },
  {
   "cell_type": "markdown",
   "metadata": {},
   "source": [
    "very small number. it's worked!"
   ]
  },
  {
   "cell_type": "markdown",
   "metadata": {},
   "source": [
    "so let's do the check:"
   ]
  },
  {
   "cell_type": "code",
   "execution_count": 49,
   "metadata": {},
   "outputs": [
    {
     "data": {
      "text/plain": [
       "<tf.Tensor: shape=(), dtype=float32, numpy=1.1920929e-08>"
      ]
     },
     "execution_count": 49,
     "metadata": {},
     "output_type": "execute_result"
    }
   ],
   "source": [
    "tf.keras.utils.set_random_seed(42)\n",
    "random_alphas = np.random.rand(data.shape[-1])\n",
    "random_betas = np.random.rand(data.shape[-1])\n",
    "\n",
    "custom_layer_norm.set_weights([random_alphas, random_betas])\n",
    "keras_layer_norm.set_weights([random_alphas, random_betas])\n",
    "\n",
    "tf.reduce_mean(tf.keras.losses.mean_absolute_error(\n",
    "    keras_layer_norm(data), custom_layer_norm(data)))"
   ]
  },
  {
   "cell_type": "markdown",
   "metadata": {},
   "source": [
    "----"
   ]
  }
 ],
 "metadata": {
  "kernelspec": {
   "display_name": "homl3",
   "language": "python",
   "name": "python3"
  },
  "language_info": {
   "codemirror_mode": {
    "name": "ipython",
    "version": 3
   },
   "file_extension": ".py",
   "mimetype": "text/x-python",
   "name": "python",
   "nbconvert_exporter": "python",
   "pygments_lexer": "ipython3",
   "version": "3.10.14"
  }
 },
 "nbformat": 4,
 "nbformat_minor": 2
}
