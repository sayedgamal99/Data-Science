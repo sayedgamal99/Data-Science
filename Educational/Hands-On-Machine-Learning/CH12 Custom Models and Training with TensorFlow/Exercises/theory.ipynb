{
 "cells": [
  {
   "cell_type": "markdown",
   "metadata": {},
   "source": [
    "## Chapter 12 Exercises: Custom Models and Training with TensorFlow\n"
   ]
  },
  {
   "cell_type": "markdown",
   "metadata": {},
   "source": [
    "1. How would you describe TensorFlow in a short sentence? What are its main features? Can you name other popular deep learning libraries?\n"
   ]
  },
  {
   "cell_type": "markdown",
   "metadata": {},
   "source": [
    "TensorFlow is a deep-learning large library ( framework ) that enable users to build and train models at high level.\n",
    "\n",
    "Its core is similar to NumPy, but it also features GPU support, support for distributed computing, computation graph analysis and optimization capabilities (with a portable graph format that allows you to train a TensorFlow model in one environment and run it in another), an optimization API based on reverse-mode autodiff, and several powerful APIs such as tf.keras, tf.data, tf.image, tf.signal, and more.\n",
    "\n",
    "Pytorch, jax are also deep learning libraries.\n"
   ]
  },
  {
   "cell_type": "markdown",
   "metadata": {},
   "source": [
    "---\n"
   ]
  },
  {
   "cell_type": "markdown",
   "metadata": {},
   "source": [
    "2.  Is TensorFlow a drop-in replacement for NumPy? What are the main differences between the two?\n"
   ]
  },
  {
   "cell_type": "markdown",
   "metadata": {},
   "source": [
    "It is not exactly the replacement because tensorflow provide more.\n",
    "\n",
    "Tensorflow work with tensors, which can be used by ( and specifically created to ) **GPUs** and numpy not.\n",
    "\n",
    "Tensorflow is huge framework that provide many high-level APIs those make the process of deeplearning so easy and you have not build every thing from scratch each time.\n",
    "\n",
    "some functions do not behave in exactly the same way (for example, tf.transpose() creates a transposed copy of a tensor, while NumPy's T attribute creates a transposed view, without actually copying any data). Lastly, NumPy arrays are mutable, while TensorFlow tensors are not (but you can use a tf.Variable if you need a mutable object).\n"
   ]
  },
  {
   "cell_type": "markdown",
   "metadata": {},
   "source": [
    "---\n"
   ]
  },
  {
   "cell_type": "markdown",
   "metadata": {},
   "source": [
    "3. Do you get the same result with tf.range(10) and tf.constant(np.arange(10))?\n"
   ]
  },
  {
   "cell_type": "code",
   "execution_count": 1,
   "metadata": {},
   "outputs": [],
   "source": [
    "import tensorflow as tf\n",
    "import numpy as np"
   ]
  },
  {
   "cell_type": "code",
   "execution_count": 19,
   "metadata": {},
   "outputs": [
    {
     "name": "stdout",
     "output_type": "stream",
     "text": [
      "Tensor 1 (tf.range(10)): tf.Tensor([0 1 2 3 4 5 6 7 8 9], shape=(10,), dtype=int32)\n",
      "Tensor 2 (tf.constant(np.arange(10))): tf.Tensor([0 1 2 3 4 5 6 7 8 9], shape=(10,), dtype=int32)\n",
      "\n",
      "Data type of Tensor 1: <dtype: 'int32'>\n",
      "Data type of Tensor 2: <dtype: 'int32'>\n",
      "\n",
      "The tensors have the same data type.\n",
      "\n",
      "Are the tensor values equal?: tf.Tensor(True, shape=(), dtype=bool)\n"
     ]
    }
   ],
   "source": [
    "import tensorflow as tf\n",
    "import numpy as np\n",
    "\n",
    "# Create a tensor using tf.range\n",
    "tensor1 = tf.range(10)\n",
    "\n",
    "# Create a tensor using tf.constant and np.arange\n",
    "tensor2 = tf.constant(np.arange(10))\n",
    "\n",
    "# Print the tensors\n",
    "print(\"Tensor 1 (tf.range(10)):\", tensor1)\n",
    "print(\"Tensor 2 (tf.constant(np.arange(10))):\", tensor2)\n",
    "\n",
    "# Check the data types\n",
    "print(\"\\nData type of Tensor 1:\", tensor1.dtype)\n",
    "print(\"Data type of Tensor 2:\", tensor2.dtype)\n",
    "\n",
    "# Check if tensors are created differently\n",
    "if tensor1.dtype != tensor2.dtype:\n",
    "    print(\"\\nThe tensors are different in data type.\")\n",
    "else:\n",
    "    print(\"\\nThe tensors have the same data type.\")\n",
    "\n",
    "# Check if they are equal in value\n",
    "print(\"\\nAre the tensor values equal?:\", tf.reduce_all(tf.equal(tensor1, tensor2)))\n"
   ]
  },
  {
   "cell_type": "markdown",
   "metadata": {},
   "source": [
    "So They are the same exactly, but author needs is to distinguish between default numpy dtypes which is in his version int64 and default tensorflow dtypes which is int32\n"
   ]
  },
  {
   "cell_type": "markdown",
   "metadata": {},
   "source": [
    "---\n"
   ]
  },
  {
   "cell_type": "markdown",
   "metadata": {},
   "source": []
  }
 ],
 "metadata": {
  "kernelspec": {
   "display_name": "Python 3",
   "language": "python",
   "name": "python3"
  },
  "language_info": {
   "codemirror_mode": {
    "name": "ipython",
    "version": 3
   },
   "file_extension": ".py",
   "mimetype": "text/x-python",
   "name": "python",
   "nbconvert_exporter": "python",
   "pygments_lexer": "ipython3",
   "version": "3.10.14"
  }
 },
 "nbformat": 4,
 "nbformat_minor": 2
}
