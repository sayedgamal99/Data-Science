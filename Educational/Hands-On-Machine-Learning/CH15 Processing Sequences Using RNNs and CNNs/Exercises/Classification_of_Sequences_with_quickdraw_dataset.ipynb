{
  "nbformat": 4,
  "nbformat_minor": 0,
  "metadata": {
    "colab": {
      "provenance": [],
      "gpuType": "T4"
    },
    "kernelspec": {
      "name": "python3",
      "display_name": "Python 3"
    },
    "language_info": {
      "name": "python"
    },
    "accelerator": "GPU"
  },
  "cells": [
    {
      "cell_type": "markdown",
      "source": [
        " 9. Train a classification model for the SketchRNN dataset, available in TensorFlow datasets\n"
      ],
      "metadata": {
        "id": "KHbz677bMoJw"
      }
    },
    {
      "cell_type": "code",
      "source": [
        "import tensorflow as tf\n",
        "import numpy as np\n",
        "import tensorflow_datasets as tfds\n",
        "from pathlib import Path"
      ],
      "metadata": {
        "id": "GU6nLf5lXKpW"
      },
      "execution_count": 15,
      "outputs": []
    },
    {
      "cell_type": "code",
      "source": [
        "\n",
        "tf_download_root = 'http://download.tensorflow.org/data/'\n",
        "filename = 'quickdraw_tutorial_dataset_v1.tar.gz'\n",
        "filepath = tf.keras.utils.get_file(filename, tf_download_root + filename, cache_dir='.', extract=True)"
      ],
      "metadata": {
        "collapsed": true,
        "colab": {
          "base_uri": "https://localhost:8080/"
        },
        "id": "MhTRjZX4V6V8",
        "outputId": "de63f30f-7afb-4781-d1fc-5ebeb2a6f68c"
      },
      "execution_count": 10,
      "outputs": [
        {
          "output_type": "stream",
          "name": "stdout",
          "text": [
            "Downloading data from http://download.tensorflow.org/data/quickdraw_tutorial_dataset_v1.tar.gz\n",
            "\u001b[1m1065301781/1065301781\u001b[0m \u001b[32m━━━━━━━━━━━━━━━━━━━━\u001b[0m\u001b[37m\u001b[0m \u001b[1m9s\u001b[0m 0us/step\n"
          ]
        }
      ]
    },
    {
      "cell_type": "code",
      "source": [
        "quickdraw_dir = Path(filepath).parent\n",
        "train_files = sorted([str(p) for p in (quickdraw_dir.glob('training.tfrecord-*'))])\n",
        "valid_files = sorted([str(p) for p in (quickdraw_dir.glob('eval.tfrecord-*'))])"
      ],
      "metadata": {
        "id": "mN7fevKvZHwL"
      },
      "execution_count": 18,
      "outputs": []
    },
    {
      "cell_type": "code",
      "source": [
        "with open(quickdraw_dir / 'eval.tfrecord.classes') as test_classes_file:\n",
        "    test_classes = test_classes_file.readlines()\n",
        "\n",
        "with open(quickdraw_dir/'training.tfrecord.classes') as train_classes_file:\n",
        "    train_classes = train_classes_file.readlines()\n",
        "\n"
      ],
      "metadata": {
        "id": "2xV9BymYZwSA"
      },
      "execution_count": 19,
      "outputs": []
    },
    {
      "cell_type": "code",
      "source": [
        "assert train_classes == test_classes\n",
        "class_names = [name.strip().lower() for name in train_classes]"
      ],
      "metadata": {
        "id": "hT33DTfTbMzC"
      },
      "execution_count": 22,
      "outputs": []
    },
    {
      "cell_type": "code",
      "source": [
        "sorted(class_names)[:15]"
      ],
      "metadata": {
        "colab": {
          "base_uri": "https://localhost:8080/"
        },
        "id": "FTyEA1YJbOIK",
        "outputId": "dfd018eb-6530-4159-e7d7-50d05e535a7d"
      },
      "execution_count": 24,
      "outputs": [
        {
          "output_type": "execute_result",
          "data": {
            "text/plain": [
              "['aircraft carrier',\n",
              " 'airplane',\n",
              " 'alarm clock',\n",
              " 'ambulance',\n",
              " 'angel',\n",
              " 'animal migration',\n",
              " 'ant',\n",
              " 'anvil',\n",
              " 'apple',\n",
              " 'arm',\n",
              " 'asparagus',\n",
              " 'axe',\n",
              " 'backpack',\n",
              " 'banana',\n",
              " 'bandage']"
            ]
          },
          "metadata": {},
          "execution_count": 24
        }
      ]
    },
    {
      "cell_type": "markdown",
      "source": [
        "let's know the stracture of the data"
      ],
      "metadata": {
        "id": "nDTOyAd2fPG4"
      }
    },
    {
      "cell_type": "code",
      "source": [
        "def inspect_record(tfrecord_file):\n",
        "    raw_dataset = tf.data.TFRecordDataset([tfrecord_file])\n",
        "    for raw_record in raw_dataset.take(1):\n",
        "        example = tf.train.Example()\n",
        "        example.ParseFromString(raw_record.numpy())\n",
        "        print(example)\n",
        "\n",
        "# Inspect a TFRecord\n",
        "inspect_record('datasets/training.tfrecord-00000-of-00010')"
      ],
      "metadata": {
        "colab": {
          "base_uri": "https://localhost:8080/"
        },
        "id": "yI0a8Zb1beuc",
        "outputId": "4cdad2ed-6c95-4781-834c-5dc2d1515e83"
      },
      "execution_count": 29,
      "outputs": [
        {
          "output_type": "stream",
          "name": "stdout",
          "text": [
            "features {\n",
            "  feature {\n",
            "    key: \"shape\"\n",
            "    value {\n",
            "      int64_list {\n",
            "        value: 55\n",
            "        value: 3\n",
            "      }\n",
            "    }\n",
            "  }\n",
            "  feature {\n",
            "    key: \"ink\"\n",
            "    value {\n",
            "      float_list {\n",
            "        value: 0.01968503\n",
            "        value: 0.0509554148\n",
            "        value: 0\n",
            "        value: 0.0314961076\n",
            "        value: 0.0318471193\n",
            "        value: 0\n",
            "        value: 0.122047246\n",
            "        value: -0.0127388239\n",
            "        value: 0\n",
            "        value: 0.0669291\n",
            "        value: -0.0509554148\n",
            "        value: 0\n",
            "        value: -0.015748024\n",
            "        value: -0.133757979\n",
            "        value: 0\n",
            "        value: -0.0551181436\n",
            "        value: -0.178343952\n",
            "        value: 0\n",
            "        value: -0.047244072\n",
            "        value: -0.0445859879\n",
            "        value: 0\n",
            "        value: -0.043307066\n",
            "        value: -0.00636942685\n",
            "        value: 0\n",
            "        value: -0.0590551496\n",
            "        value: 0.0509554148\n",
            "        value: 0\n",
            "        value: -0.0905511677\n",
            "        value: 0.191082805\n",
            "        value: 0\n",
            "        value: -0.003937006\n",
            "        value: 0.114649653\n",
            "        value: 0\n",
            "        value: 0.0472441\n",
            "        value: 0.363057375\n",
            "        value: 0\n",
            "        value: 0.03937006\n",
            "        value: 0.0509554148\n",
            "        value: 0\n",
            "        value: 0.0551181436\n",
            "        value: 0.0127388239\n",
            "        value: 0\n",
            "        value: 0.110236228\n",
            "        value: -0.0318471193\n",
            "        value: 0\n",
            "        value: 0.051181078\n",
            "        value: -0.0445860028\n",
            "        value: 0\n",
            "        value: 0.157480299\n",
            "        value: -0.210191071\n",
            "        value: 0\n",
            "        value: 0.0944882\n",
            "        value: -0.108280241\n",
            "        value: 0\n",
            "        value: 0.003937006\n",
            "        value: -0.0636943\n",
            "        value: 0\n",
            "        value: -0.043307066\n",
            "        value: -0.203821659\n",
            "        value: 0\n",
            "        value: -0.0551181436\n",
            "        value: -0.140127376\n",
            "        value: 0\n",
            "        value: -0.0629920959\n",
            "        value: -0.082802549\n",
            "        value: 0\n",
            "        value: -0.196850419\n",
            "        value: -0.114649683\n",
            "        value: 0\n",
            "        value: -0.153543293\n",
            "        value: 0\n",
            "        value: 0\n",
            "        value: -0.0708661377\n",
            "        value: 0.0318471342\n",
            "        value: 0\n",
            "        value: -0.145669311\n",
            "        value: 0.191082805\n",
            "        value: 0\n",
            "        value: -0.0629921108\n",
            "        value: 0.0318471342\n",
            "        value: 0\n",
            "        value: -0.0866141766\n",
            "        value: -0.0318471342\n",
            "        value: 0\n",
            "        value: -0.0826771706\n",
            "        value: -0.191082805\n",
            "        value: 0\n",
            "        value: -0.0118110236\n",
            "        value: -0.0127388537\n",
            "        value: 0\n",
            "        value: -0.027559055\n",
            "        value: 0.0254777074\n",
            "        value: 0\n",
            "        value: 0.00393700786\n",
            "        value: 0.184713379\n",
            "        value: 0\n",
            "        value: 0.0393700823\n",
            "        value: 0.273885369\n",
            "        value: 0\n",
            "        value: 0.0275590569\n",
            "        value: -0.0254777372\n",
            "        value: 0\n",
            "        value: 0.011811018\n",
            "        value: -0.0700636804\n",
            "        value: 0\n",
            "        value: 0.0393700823\n",
            "        value: -0.0700637102\n",
            "        value: 0\n",
            "        value: 0.169291347\n",
            "        value: -0.0382165611\n",
            "        value: 0\n",
            "        value: 0.177165329\n",
            "        value: -0.101910815\n",
            "        value: 0\n",
            "        value: 0.192913383\n",
            "        value: -0.0636942685\n",
            "        value: 0\n",
            "        value: 0.0551181436\n",
            "        value: 0.0254777074\n",
            "        value: 0\n",
            "        value: 0.0905511379\n",
            "        value: 0.178343937\n",
            "        value: 0\n",
            "        value: 0.0314961076\n",
            "        value: 0.184713364\n",
            "        value: 0\n",
            "        value: -0.015748024\n",
            "        value: 0.114649713\n",
            "        value: 0\n",
            "        value: -0.0590551496\n",
            "        value: 0.127388537\n",
            "        value: 0\n",
            "        value: -0.0866141915\n",
            "        value: 0.127388537\n",
            "        value: 0\n",
            "        value: -0.055118084\n",
            "        value: 0.0254777074\n",
            "        value: 0\n",
            "        value: -0.0669291615\n",
            "        value: -0.0191082954\n",
            "        value: 0\n",
            "        value: -0.047244072\n",
            "        value: -0.133757949\n",
            "        value: 0\n",
            "        value: -0.023622036\n",
            "        value: -0.152866244\n",
            "        value: 0\n",
            "        value: 0.01968503\n",
            "        value: -0.0700637102\n",
            "        value: 0\n",
            "        value: 0.027559042\n",
            "        value: -0.0254777074\n",
            "        value: 0\n",
            "        value: 0.0748031735\n",
            "        value: 0.0382165909\n",
            "        value: 0\n",
            "        value: 0.011811018\n",
            "        value: 0.0318471193\n",
            "        value: 0\n",
            "        value: -0.047244072\n",
            "        value: 0.0127388239\n",
            "        value: 0\n",
            "        value: -0.0511811376\n",
            "        value: -0.0445859432\n",
            "        value: 1\n",
            "      }\n",
            "    }\n",
            "  }\n",
            "  feature {\n",
            "    key: \"class_index\"\n",
            "    value {\n",
            "      int64_list {\n",
            "        value: 0\n",
            "      }\n",
            "    }\n",
            "  }\n",
            "}\n",
            "\n"
          ]
        }
      ]
    },
    {
      "cell_type": "markdown",
      "source": [
        "we can feed this stracture to any llm and ask for parsing function for easy using or extract the stracture manualy."
      ],
      "metadata": {
        "id": "1X3y14yHgs-y"
      }
    },
    {
      "cell_type": "markdown",
      "source": [
        "**Data stracture and further details about next function** in this disscussion:\n",
        "\n",
        "https://chatgpt.com/share/6757b589-92bc-800a-8dfc-913c678f8f8d"
      ],
      "metadata": {
        "id": "r_QW5K-inX_1"
      }
    },
    {
      "cell_type": "code",
      "source": [
        "feature_descriptions = {\n",
        "        \"ink\": tf.io.VarLenFeature(dtype=tf.float32),\n",
        "        \"shape\": tf.io.FixedLenFeature([2], dtype=tf.int64),\n",
        "        \"class_index\": tf.io.FixedLenFeature([1], dtype=tf.int64)\n",
        "    }\n",
        "\n",
        "def parse(data_batch):\n",
        "  examples = tf.io.parse_example(data_batch, feature_descriptions)\n",
        "  flat_sketches = tf.sparse.to_dense(examples['ink'])\n",
        "  sketches = tf.reshape(flat_sketches, shape=[tf.size(data_batch),-1,3])#reshaping to (batchsize, number of points, the 3 is triplets x,y,t)\n",
        "  lengths = examples['shape'][:,0]#selects number of points in each example over the batch\n",
        "  labels = examples['class_index'][:,0]#this removes the extra dim\n",
        "  return sketches, lengths, labels"
      ],
      "metadata": {
        "id": "4tm4DFPRgq37"
      },
      "execution_count": null,
      "outputs": []
    },
    {
      "cell_type": "code",
      "source": [],
      "metadata": {
        "id": "3x7O3kxqm9Gg"
      },
      "execution_count": null,
      "outputs": []
    }
  ]
}