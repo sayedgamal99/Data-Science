{
 "cells": [
  {
   "cell_type": "markdown",
   "id": "c411d16f",
   "metadata": {
    "id": "ggVICmR_lDmx",
    "papermill": {
     "duration": 0.010436,
     "end_time": "2025-01-02T22:04:40.768266",
     "exception": false,
     "start_time": "2025-01-02T22:04:40.757830",
     "status": "completed"
    },
    "tags": []
   },
   "source": [
    "#  Chapter 16: Natural Language Processing with RNNs and Attention"
   ]
  },
  {
   "cell_type": "code",
   "execution_count": 1,
   "id": "a1f7585c",
   "metadata": {
    "execution": {
     "iopub.execute_input": "2025-01-02T22:04:40.788247Z",
     "iopub.status.busy": "2025-01-02T22:04:40.787904Z",
     "iopub.status.idle": "2025-01-02T22:04:49.009848Z",
     "shell.execute_reply": "2025-01-02T22:04:49.008849Z"
    },
    "id": "kGPHeBvwlDmz",
    "papermill": {
     "duration": 8.233826,
     "end_time": "2025-01-02T22:04:49.011662",
     "exception": false,
     "start_time": "2025-01-02T22:04:40.777836",
     "status": "completed"
    },
    "tags": []
   },
   "outputs": [],
   "source": [
    "import os\n",
    "os.environ[\"TF_USE_LEGACY_KERAS\"] = \"1\" \n",
    "\n",
    "import tensorflow as tf\n",
    "import numpy as np\n",
    "from pathlib import Path\n",
    "import tf_keras"
   ]
  },
  {
   "cell_type": "code",
   "execution_count": 2,
   "id": "3e75d8e6",
   "metadata": {
    "execution": {
     "iopub.execute_input": "2025-01-02T22:04:49.033105Z",
     "iopub.status.busy": "2025-01-02T22:04:49.032494Z",
     "iopub.status.idle": "2025-01-02T22:04:49.678657Z",
     "shell.execute_reply": "2025-01-02T22:04:49.677851Z"
    },
    "id": "IIdD6DJIlDm0",
    "outputId": "688cc633-fb31-4ef3-c339-0097afcff21e",
    "papermill": {
     "duration": 0.658129,
     "end_time": "2025-01-02T22:04:49.679917",
     "exception": false,
     "start_time": "2025-01-02T22:04:49.021788",
     "status": "completed"
    },
    "tags": []
   },
   "outputs": [
    {
     "name": "stdout",
     "output_type": "stream",
     "text": [
      "Downloading data from https://homl.info/shakespeare\n",
      "1115394/1115394 [==============================] - 0s 0us/step\n"
     ]
    }
   ],
   "source": [
    "\n",
    "shakespeare_url = \"https://homl.info/shakespeare\"  # shortcut URL\n",
    "filepath = tf.keras.utils.get_file(\"shakespeare.txt\", shakespeare_url)\n",
    "with open(filepath) as f:\n",
    "    shakespeare_text = f.read()"
   ]
  },
  {
   "cell_type": "code",
   "execution_count": 3,
   "id": "ca03de46",
   "metadata": {
    "execution": {
     "iopub.execute_input": "2025-01-02T22:04:49.700492Z",
     "iopub.status.busy": "2025-01-02T22:04:49.700236Z",
     "iopub.status.idle": "2025-01-02T22:04:49.704501Z",
     "shell.execute_reply": "2025-01-02T22:04:49.703688Z"
    },
    "id": "D6bLc0i3nwns",
    "outputId": "ab6e1b8e-72b3-48ba-807c-8aa00921e9f2",
    "papermill": {
     "duration": 0.015616,
     "end_time": "2025-01-02T22:04:49.705661",
     "exception": false,
     "start_time": "2025-01-02T22:04:49.690045",
     "status": "completed"
    },
    "tags": []
   },
   "outputs": [
    {
     "name": "stdout",
     "output_type": "stream",
     "text": [
      "First Citizen:\n",
      "Before we proceed any further, hear me speak.\n",
      "\n",
      "All:\n",
      "Speak, speak.\n"
     ]
    }
   ],
   "source": [
    "print(shakespeare_text[:80])"
   ]
  },
  {
   "cell_type": "code",
   "execution_count": 4,
   "id": "a702773f",
   "metadata": {
    "execution": {
     "iopub.execute_input": "2025-01-02T22:04:49.725642Z",
     "iopub.status.busy": "2025-01-02T22:04:49.725426Z",
     "iopub.status.idle": "2025-01-02T22:04:49.741183Z",
     "shell.execute_reply": "2025-01-02T22:04:49.740194Z"
    },
    "id": "uN6lMOKSn-ex",
    "outputId": "c934481e-1d9c-44ba-f4e9-b56f5e25063e",
    "papermill": {
     "duration": 0.026971,
     "end_time": "2025-01-02T22:04:49.742508",
     "exception": false,
     "start_time": "2025-01-02T22:04:49.715537",
     "status": "completed"
    },
    "tags": []
   },
   "outputs": [
    {
     "name": "stdout",
     "output_type": "stream",
     "text": [
      "\n",
      " !$&',-.3:;?abcdefghijklmnopqrstuvwxyz\n",
      "39\n"
     ]
    }
   ],
   "source": [
    "all_chars  = \"\".join(sorted(set(shakespeare_text.lower())))\n",
    "print(all_chars)\n",
    "print(len(all_chars))"
   ]
  },
  {
   "cell_type": "markdown",
   "id": "3b7c7a68",
   "metadata": {
    "id": "R7JKQcEOoTZa",
    "papermill": {
     "duration": 0.009437,
     "end_time": "2025-01-02T22:04:49.761673",
     "exception": false,
     "start_time": "2025-01-02T22:04:49.752236",
     "status": "completed"
    },
    "tags": []
   },
   "source": [
    "## Generating Shakespearean Text Using a Character RNN"
   ]
  },
  {
   "cell_type": "markdown",
   "id": "b4a770d1",
   "metadata": {
    "id": "yNXX2EUpomcj",
    "papermill": {
     "duration": 0.009451,
     "end_time": "2025-01-02T22:04:49.780768",
     "exception": false,
     "start_time": "2025-01-02T22:04:49.771317",
     "status": "completed"
    },
    "tags": []
   },
   "source": [
    "### Preparing Dataset for a char level rnn model"
   ]
  },
  {
   "cell_type": "markdown",
   "id": "7d05b3d6",
   "metadata": {
    "id": "VsEzAzNpoQ2X",
    "papermill": {
     "duration": 0.009168,
     "end_time": "2025-01-02T22:04:49.799357",
     "exception": false,
     "start_time": "2025-01-02T22:04:49.790189",
     "status": "completed"
    },
    "tags": []
   },
   "source": [
    "#### Text Vectorization"
   ]
  },
  {
   "cell_type": "code",
   "execution_count": 5,
   "id": "bcbfe01c",
   "metadata": {
    "execution": {
     "iopub.execute_input": "2025-01-02T22:04:49.819697Z",
     "iopub.status.busy": "2025-01-02T22:04:49.819399Z",
     "iopub.status.idle": "2025-01-02T22:04:52.549516Z",
     "shell.execute_reply": "2025-01-02T22:04:52.548476Z"
    },
    "id": "IwRa58oQoJqV",
    "outputId": "814a5d49-050b-42c6-94b5-cf2738617efc",
    "papermill": {
     "duration": 2.742124,
     "end_time": "2025-01-02T22:04:52.550893",
     "exception": false,
     "start_time": "2025-01-02T22:04:49.808769",
     "status": "completed"
    },
    "tags": []
   },
   "outputs": [
    {
     "data": {
      "text/plain": [
       "<tf.Tensor: shape=(1115394,), dtype=int64, numpy=array([21,  7, 10, ..., 22, 28, 12])>"
      ]
     },
     "execution_count": 5,
     "metadata": {},
     "output_type": "execute_result"
    }
   ],
   "source": [
    "text_vec_layer = tf.keras.layers.TextVectorization(split='character', standardize='lower')\n",
    "text_vec_layer.adapt([shakespeare_text])\n",
    "encoded = text_vec_layer([shakespeare_text])[0]\n",
    "encoded"
   ]
  },
  {
   "cell_type": "code",
   "execution_count": 6,
   "id": "305e09d6",
   "metadata": {
    "execution": {
     "iopub.execute_input": "2025-01-02T22:04:52.572842Z",
     "iopub.status.busy": "2025-01-02T22:04:52.572534Z",
     "iopub.status.idle": "2025-01-02T22:04:52.581387Z",
     "shell.execute_reply": "2025-01-02T22:04:52.580428Z"
    },
    "id": "22HqryeMo9m-",
    "outputId": "b74e3a9c-4cd4-4646-b226-3955d2f841d4",
    "papermill": {
     "duration": 0.0216,
     "end_time": "2025-01-02T22:04:52.582758",
     "exception": false,
     "start_time": "2025-01-02T22:04:52.561158",
     "status": "completed"
    },
    "tags": []
   },
   "outputs": [
    {
     "name": "stdout",
     "output_type": "stream",
     "text": [
      "n_tokens: 39\n",
      "dataset_size: 1115394\n"
     ]
    }
   ],
   "source": [
    "encoded -= 2 # drop 0 for padding and 1 for unkown tokens\n",
    "n_tokens = text_vec_layer.vocabulary_size()-2\n",
    "dataset_size = len(encoded)\n",
    "print(\"n_tokens:\", n_tokens)\n",
    "print(\"dataset_size:\", dataset_size)"
   ]
  },
  {
   "cell_type": "markdown",
   "id": "b3e2b9b6",
   "metadata": {
    "id": "b_y5WRc6p2NB",
    "papermill": {
     "duration": 0.009796,
     "end_time": "2025-01-02T22:04:52.602938",
     "exception": false,
     "start_time": "2025-01-02T22:04:52.593142",
     "status": "completed"
    },
    "tags": []
   },
   "source": [
    "it is seq2seq model"
   ]
  },
  {
   "cell_type": "code",
   "execution_count": 7,
   "id": "4c34a52d",
   "metadata": {
    "execution": {
     "iopub.execute_input": "2025-01-02T22:04:52.624140Z",
     "iopub.status.busy": "2025-01-02T22:04:52.623802Z",
     "iopub.status.idle": "2025-01-02T22:04:52.628812Z",
     "shell.execute_reply": "2025-01-02T22:04:52.628129Z"
    },
    "id": "IV4ry7kspnTt",
    "papermill": {
     "duration": 0.017078,
     "end_time": "2025-01-02T22:04:52.630021",
     "exception": false,
     "start_time": "2025-01-02T22:04:52.612943",
     "status": "completed"
    },
    "tags": []
   },
   "outputs": [],
   "source": [
    "def to_dataset(sequence, length, shuffle=False, seed=None, batch_size=32):\n",
    "    dataset = tf.data.Dataset.from_tensor_slices(sequence)\n",
    "    dataset = dataset.window(length+1, shift=1, drop_remainder =True)\n",
    "    dataset = dataset.flat_map(lambda window: window.batch(length+1))\n",
    "    if shuffle:\n",
    "      dataset = dataset.shuffle(buffer_size=100_000, seed=seed)\n",
    "    dataset = dataset.batch(batch_size)\n",
    "    return dataset.map(lambda window: (window[:,:-1], window[:,1:])).prefetch(1)"
   ]
  },
  {
   "cell_type": "code",
   "execution_count": 8,
   "id": "54100de5",
   "metadata": {
    "execution": {
     "iopub.execute_input": "2025-01-02T22:04:52.651616Z",
     "iopub.status.busy": "2025-01-02T22:04:52.651283Z",
     "iopub.status.idle": "2025-01-02T22:04:52.744002Z",
     "shell.execute_reply": "2025-01-02T22:04:52.743171Z"
    },
    "id": "Bx0wgQbEvrXh",
    "papermill": {
     "duration": 0.105162,
     "end_time": "2025-01-02T22:04:52.745496",
     "exception": false,
     "start_time": "2025-01-02T22:04:52.640334",
     "status": "completed"
    },
    "tags": []
   },
   "outputs": [
    {
     "data": {
      "text/plain": [
       "[(<tf.Tensor: shape=(1, 4), dtype=int64, numpy=array([[ 4,  5,  2, 23]])>,\n",
       "  <tf.Tensor: shape=(1, 4), dtype=int64, numpy=array([[ 5,  2, 23,  3]])>)]"
      ]
     },
     "execution_count": 8,
     "metadata": {},
     "output_type": "execute_result"
    }
   ],
   "source": [
    "# There's just one sample in this dataset: the input represents \"to b\" and the\n",
    "# output represents \"o be\"\n",
    "list(to_dataset(text_vec_layer([\"To be\"])[0], length=4))"
   ]
  },
  {
   "cell_type": "code",
   "execution_count": 9,
   "id": "710244b0",
   "metadata": {
    "execution": {
     "iopub.execute_input": "2025-01-02T22:04:52.767339Z",
     "iopub.status.busy": "2025-01-02T22:04:52.766966Z",
     "iopub.status.idle": "2025-01-02T22:04:53.290866Z",
     "shell.execute_reply": "2025-01-02T22:04:53.290169Z"
    },
    "id": "QXiSTEIlrMy4",
    "papermill": {
     "duration": 0.536351,
     "end_time": "2025-01-02T22:04:53.292321",
     "exception": false,
     "start_time": "2025-01-02T22:04:52.755970",
     "status": "completed"
    },
    "tags": []
   },
   "outputs": [],
   "source": [
    "length = 100\n",
    "tf.random.set_seed(42)\n",
    "\n",
    "train_set = to_dataset(encoded[:1_000_000], length=100, shuffle=True, seed=42)\n",
    "valid_set = to_dataset(encoded[1_000_000:1_060_000], length=100)\n",
    "test_set = to_dataset(encoded[1_060_000:], length=100)\n"
   ]
  },
  {
   "cell_type": "markdown",
   "id": "be0f2626",
   "metadata": {
    "id": "gk63mwP6r4-c",
    "papermill": {
     "duration": 0.009747,
     "end_time": "2025-01-02T22:04:53.312252",
     "exception": false,
     "start_time": "2025-01-02T22:04:53.302505",
     "status": "completed"
    },
    "tags": []
   },
   "source": [
    "### Building and Training the Char-RNN Model\n"
   ]
  },
  {
   "cell_type": "code",
   "execution_count": 10,
   "id": "54b110d9",
   "metadata": {
    "execution": {
     "iopub.execute_input": "2025-01-02T22:04:53.332731Z",
     "iopub.status.busy": "2025-01-02T22:04:53.332458Z",
     "iopub.status.idle": "2025-01-02T22:04:53.719717Z",
     "shell.execute_reply": "2025-01-02T22:04:53.718967Z"
    },
    "id": "kY2pmL0JrvaP",
    "papermill": {
     "duration": 0.399496,
     "end_time": "2025-01-02T22:04:53.721377",
     "exception": false,
     "start_time": "2025-01-02T22:04:53.321881",
     "status": "completed"
    },
    "tags": []
   },
   "outputs": [],
   "source": [
    "model = tf.keras.Sequential([\n",
    "    tf.keras.layers.Embedding(input_dim=n_tokens, output_dim=16),\n",
    "    tf.keras.layers.GRU(128, return_sequences=True),\n",
    "    tf.keras.layers.Dense(n_tokens, activation='softmax'),\n",
    "])\n",
    "\n",
    "\n",
    "model.compile(loss='sparse_categorical_crossentropy', optimizer='nadam',\n",
    "              metrics=['accuracy'])\n",
    "\n",
    "model_ckpt = tf.keras.callbacks.ModelCheckpoint(\n",
    " \"my_shakespeare_model.keras\", monitor=\"val_accuracy\", save_best_only=True)"
   ]
  },
  {
   "cell_type": "code",
   "execution_count": 11,
   "id": "8dbc6b4b",
   "metadata": {
    "execution": {
     "iopub.execute_input": "2025-01-02T22:04:53.743164Z",
     "iopub.status.busy": "2025-01-02T22:04:53.742868Z",
     "iopub.status.idle": "2025-01-02T22:04:53.759126Z",
     "shell.execute_reply": "2025-01-02T22:04:53.758183Z"
    },
    "id": "X6bVn23_u1BF",
    "outputId": "94714040-f6d2-4cd2-e803-0a2d349fe2f6",
    "papermill": {
     "duration": 0.028471,
     "end_time": "2025-01-02T22:04:53.760527",
     "exception": false,
     "start_time": "2025-01-02T22:04:53.732056",
     "status": "completed"
    },
    "tags": []
   },
   "outputs": [
    {
     "name": "stdout",
     "output_type": "stream",
     "text": [
      "Model: \"sequential\"\n",
      "_________________________________________________________________\n",
      " Layer (type)                Output Shape              Param #   \n",
      "=================================================================\n",
      " embedding (Embedding)       (None, None, 16)          624       \n",
      "                                                                 \n",
      " gru (GRU)                   (None, None, 128)         56064     \n",
      "                                                                 \n",
      " dense (Dense)               (None, None, 39)          5031      \n",
      "                                                                 \n",
      "=================================================================\n",
      "Total params: 61719 (241.09 KB)\n",
      "Trainable params: 61719 (241.09 KB)\n",
      "Non-trainable params: 0 (0.00 Byte)\n",
      "_________________________________________________________________\n"
     ]
    }
   ],
   "source": [
    "model.summary()"
   ]
  },
  {
   "cell_type": "code",
   "execution_count": 12,
   "id": "cee49d4c",
   "metadata": {
    "execution": {
     "iopub.execute_input": "2025-01-02T22:04:53.782540Z",
     "iopub.status.busy": "2025-01-02T22:04:53.782299Z",
     "iopub.status.idle": "2025-01-02T22:09:49.509984Z",
     "shell.execute_reply": "2025-01-02T22:09:49.509282Z"
    },
    "id": "sRLAF770uRUs",
    "outputId": "bda73fdd-b3a4-4192-9828-aa3af0f02100",
    "papermill": {
     "duration": 295.740261,
     "end_time": "2025-01-02T22:09:49.511707",
     "exception": false,
     "start_time": "2025-01-02T22:04:53.771446",
     "status": "completed"
    },
    "tags": []
   },
   "outputs": [
    {
     "name": "stdout",
     "output_type": "stream",
     "text": [
      "31247/31247 [==============================] - 296s 9ms/step - loss: 1.4054 - accuracy: 0.5704 - val_loss: 1.6168 - val_accuracy: 0.5328\n"
     ]
    }
   ],
   "source": [
    "history = model.fit(train_set, validation_data=valid_set, epochs=1,\n",
    " callbacks=[model_ckpt])\n"
   ]
  },
  {
   "cell_type": "markdown",
   "id": "72630b34",
   "metadata": {
    "id": "KJ9F9K3zubMQ",
    "papermill": {
     "duration": 0.227362,
     "end_time": "2025-01-02T22:09:50.012696",
     "exception": false,
     "start_time": "2025-01-02T22:09:49.785334",
     "status": "completed"
    },
    "tags": []
   },
   "source": [
    "#### shakespeare model"
   ]
  },
  {
   "cell_type": "code",
   "execution_count": 13,
   "id": "74cecacc",
   "metadata": {
    "execution": {
     "iopub.execute_input": "2025-01-02T22:09:50.472686Z",
     "iopub.status.busy": "2025-01-02T22:09:50.472293Z",
     "iopub.status.idle": "2025-01-02T22:09:50.698250Z",
     "shell.execute_reply": "2025-01-02T22:09:50.697290Z"
    },
    "id": "zsJbgOituYIJ",
    "papermill": {
     "duration": 0.46138,
     "end_time": "2025-01-02T22:09:50.699854",
     "exception": false,
     "start_time": "2025-01-02T22:09:50.238474",
     "status": "completed"
    },
    "tags": []
   },
   "outputs": [],
   "source": [
    "shakespeare_model = tf.keras.Sequential([\n",
    "    text_vec_layer,\n",
    "    tf.keras.layers.Lambda(lambda X:X-2),\n",
    "    model\n",
    "])"
   ]
  },
  {
   "cell_type": "code",
   "execution_count": 14,
   "id": "761aac90",
   "metadata": {
    "execution": {
     "iopub.execute_input": "2025-01-02T22:09:51.154693Z",
     "iopub.status.busy": "2025-01-02T22:09:51.154346Z",
     "iopub.status.idle": "2025-01-02T22:09:53.911908Z",
     "shell.execute_reply": "2025-01-02T22:09:53.911130Z"
    },
    "id": "9lowGE-YxtwJ",
    "outputId": "6171cba6-800a-40ba-bcbf-356f0a552ed2",
    "papermill": {
     "duration": 2.987102,
     "end_time": "2025-01-02T22:09:53.913485",
     "exception": false,
     "start_time": "2025-01-02T22:09:50.926383",
     "status": "completed"
    },
    "tags": []
   },
   "outputs": [
    {
     "name": "stdout",
     "output_type": "stream",
     "text": [
      "Downloading data from https://github.com/ageron/data/raw/main/shakespeare_model.tgz\n",
      "352865/352865 [==============================] - 0s 0us/step\n"
     ]
    }
   ],
   "source": [
    "# or we can the pretrained model\n",
    "url = \"https://github.com/ageron/data/raw/main/shakespeare_model.tgz\"\n",
    "path = tf.keras.utils.get_file(\"shakespeare_model.tgz\", url, extract=True)\n",
    "model_path = Path(path).with_name(\"shakespeare_model\")\n",
    "shakespeare_model = tf.keras.models.load_model(model_path)"
   ]
  },
  {
   "cell_type": "code",
   "execution_count": 15,
   "id": "9eeeb0aa",
   "metadata": {
    "execution": {
     "iopub.execute_input": "2025-01-02T22:09:54.445578Z",
     "iopub.status.busy": "2025-01-02T22:09:54.445218Z",
     "iopub.status.idle": "2025-01-02T22:09:54.450187Z",
     "shell.execute_reply": "2025-01-02T22:09:54.449331Z"
    },
    "id": "xshpDtK20oEF",
    "outputId": "f3d36e88-420d-436c-bf96-bc6e401cf2d2",
    "papermill": {
     "duration": 0.250819,
     "end_time": "2025-01-02T22:09:54.451613",
     "exception": false,
     "start_time": "2025-01-02T22:09:54.200794",
     "status": "completed"
    },
    "tags": []
   },
   "outputs": [
    {
     "data": {
      "text/plain": [
       "PosixPath('/root/.keras/datasets/shakespeare_model')"
      ]
     },
     "execution_count": 15,
     "metadata": {},
     "output_type": "execute_result"
    }
   ],
   "source": [
    "model_path"
   ]
  },
  {
   "cell_type": "code",
   "execution_count": 16,
   "id": "5d135c2e",
   "metadata": {
    "execution": {
     "iopub.execute_input": "2025-01-02T22:09:54.901249Z",
     "iopub.status.busy": "2025-01-02T22:09:54.900802Z",
     "iopub.status.idle": "2025-01-02T22:09:54.920808Z",
     "shell.execute_reply": "2025-01-02T22:09:54.919939Z"
    },
    "id": "0zUAgHRFuxl5",
    "outputId": "e67d4541-e9d2-4ed8-a969-3461342b5824",
    "papermill": {
     "duration": 0.2476,
     "end_time": "2025-01-02T22:09:54.922137",
     "exception": false,
     "start_time": "2025-01-02T22:09:54.674537",
     "status": "completed"
    },
    "tags": []
   },
   "outputs": [
    {
     "name": "stdout",
     "output_type": "stream",
     "text": [
      "Model: \"sequential_12\"\n",
      "_________________________________________________________________\n",
      " Layer (type)                Output Shape              Param #   \n",
      "=================================================================\n",
      " text_vectorization (TextVe  (None, None)              0         \n",
      " ctorization)                                                    \n",
      "                                                                 \n",
      " lambda_5 (Lambda)           (None, None)              0         \n",
      "                                                                 \n",
      " sequential (Sequential)     (None, None, 39)          61719     \n",
      "                                                                 \n",
      "=================================================================\n",
      "Total params: 61719 (241.09 KB)\n",
      "Trainable params: 61719 (241.09 KB)\n",
      "Non-trainable params: 0 (0.00 Byte)\n",
      "_________________________________________________________________\n"
     ]
    }
   ],
   "source": [
    "shakespeare_model.summary()"
   ]
  },
  {
   "cell_type": "markdown",
   "id": "66e628ff",
   "metadata": {
    "id": "D84edM0eu8M_",
    "papermill": {
     "duration": 0.277365,
     "end_time": "2025-01-02T22:09:55.421306",
     "exception": false,
     "start_time": "2025-01-02T22:09:55.143941",
     "status": "completed"
    },
    "tags": []
   },
   "source": [
    "predicting next character:"
   ]
  },
  {
   "cell_type": "code",
   "execution_count": 17,
   "id": "fa9ea5ee",
   "metadata": {
    "execution": {
     "iopub.execute_input": "2025-01-02T22:09:55.877907Z",
     "iopub.status.busy": "2025-01-02T22:09:55.877585Z",
     "iopub.status.idle": "2025-01-02T22:09:56.348553Z",
     "shell.execute_reply": "2025-01-02T22:09:56.347523Z"
    },
    "id": "SDkWyotsuxih",
    "papermill": {
     "duration": 0.699755,
     "end_time": "2025-01-02T22:09:56.350042",
     "exception": false,
     "start_time": "2025-01-02T22:09:55.650287",
     "status": "completed"
    },
    "tags": []
   },
   "outputs": [
    {
     "name": "stdout",
     "output_type": "stream",
     "text": [
      "1/1 [==============================] - 0s 416ms/step\n",
      "(39,) \n",
      "\n",
      " [2.62803667e-07 8.46599162e-01 3.86034893e-09 8.14233907e-03\n",
      " 4.25274558e-02 1.99383777e-02 1.72885373e-09 1.05552886e-07\n",
      " 4.21643667e-02 5.01867980e-05 3.98378077e-08 1.20775737e-02\n",
      " 7.48878182e-10 2.40257457e-02 1.22273931e-07 4.47270181e-03\n",
      " 7.88819818e-07 5.85966049e-08 3.93114881e-11 1.68770228e-07\n",
      " 1.02234582e-10 1.17807680e-07 1.17004639e-09 1.69419268e-09\n",
      " 1.78766947e-14 6.97030064e-12 2.04375930e-08 1.45089970e-07\n",
      " 1.35860112e-09 2.69558997e-09 1.38071476e-09 3.50191414e-08\n",
      " 4.10210994e-08 1.81903772e-07 1.64991976e-09 2.30294030e-20\n",
      " 1.44912560e-20 4.53920965e-27 3.76948330e-14] \n",
      "\n",
      "tf.Tensor(3, shape=(), dtype=int64)\n",
      "predicted character is:  e\n"
     ]
    }
   ],
   "source": [
    "y_propas = shakespeare_model.predict(['To be or not to b'])[0]\n",
    "print( y_propas[-1].shape,'\\n\\n', y_propas[-1],'\\n')\n",
    "predicted_char = tf.argmax(y_propas[-1])\n",
    "print(predicted_char+2) # predicted character index + 2 to map the original char again\n",
    "\n",
    "print(\"predicted character is: \", text_vec_layer.get_vocabulary()[predicted_char+2])"
   ]
  },
  {
   "cell_type": "markdown",
   "id": "c8cefabe",
   "metadata": {
    "papermill": {
     "duration": 0.295755,
     "end_time": "2025-01-02T22:09:56.884619",
     "exception": false,
     "start_time": "2025-01-02T22:09:56.588864",
     "status": "completed"
    },
    "tags": []
   },
   "source": [
    "### Generating Shakespear 'FAKE' text"
   ]
  },
  {
   "cell_type": "markdown",
   "id": "989c6e54",
   "metadata": {
    "papermill": {
     "duration": 0.223142,
     "end_time": "2025-01-02T22:09:57.333203",
     "exception": false,
     "start_time": "2025-01-02T22:09:57.110061",
     "status": "completed"
    },
    "tags": []
   },
   "source": [
    "Instead of using greedy decoding (predict next character and add it to the current text and use all to predict next char and so on.)\n",
    "\n",
    "The previous approach lead to repeated words.\n",
    "\n",
    "We can use random sampling (with keeping the estimated propabilty of the model prediction when sampling)\n"
   ]
  },
  {
   "cell_type": "code",
   "execution_count": 18,
   "id": "e7d3ebe7",
   "metadata": {
    "execution": {
     "iopub.execute_input": "2025-01-02T22:09:57.844279Z",
     "iopub.status.busy": "2025-01-02T22:09:57.843779Z",
     "iopub.status.idle": "2025-01-02T22:09:57.988375Z",
     "shell.execute_reply": "2025-01-02T22:09:57.987024Z"
    },
    "id": "7HEbXQd_uxcn",
    "papermill": {
     "duration": 0.388908,
     "end_time": "2025-01-02T22:09:57.989905",
     "exception": false,
     "start_time": "2025-01-02T22:09:57.600997",
     "status": "completed"
    },
    "tags": []
   },
   "outputs": [
    {
     "name": "stdout",
     "output_type": "stream",
     "text": [
      "> logits:  tf.Tensor([[-0.6931472 -0.9162907 -2.3025851]], shape=(1, 3), dtype=float32)\n",
      "> Sampling results:  tf.Tensor([[2 0 1 0 0 0 1 2]], shape=(1, 8), dtype=int64)\n"
     ]
    }
   ],
   "source": [
    "tf.random.set_seed(412)\n",
    "\n",
    "log_propas = tf.math.log([[.5,.4,.1]]) # simulate the logits\n",
    "print(\"> logits: \", log_propas)\n",
    "\n",
    "print(\"> Sampling results: \", tf.random.categorical(log_propas, num_samples=8))"
   ]
  },
  {
   "cell_type": "code",
   "execution_count": 19,
   "id": "8baa0e66",
   "metadata": {
    "execution": {
     "iopub.execute_input": "2025-01-02T22:09:58.511939Z",
     "iopub.status.busy": "2025-01-02T22:09:58.511638Z",
     "iopub.status.idle": "2025-01-02T22:09:58.518908Z",
     "shell.execute_reply": "2025-01-02T22:09:58.518033Z"
    },
    "papermill": {
     "duration": 0.296371,
     "end_time": "2025-01-02T22:09:58.520299",
     "exception": false,
     "start_time": "2025-01-02T22:09:58.223928",
     "status": "completed"
    },
    "tags": []
   },
   "outputs": [
    {
     "data": {
      "text/plain": [
       "0"
      ]
     },
     "execution_count": 19,
     "metadata": {},
     "output_type": "execute_result"
    }
   ],
   "source": [
    "tf.random.categorical(log_propas, num_samples=1).numpy()[0,0]"
   ]
  },
  {
   "cell_type": "markdown",
   "id": "60931181",
   "metadata": {
    "papermill": {
     "duration": 0.222651,
     "end_time": "2025-01-02T22:09:58.970562",
     "exception": false,
     "start_time": "2025-01-02T22:09:58.747911",
     "status": "completed"
    },
    "tags": []
   },
   "source": [
    "we can take the control over the generated diversity of the text using `temperature`\n",
    "\n",
    "> high values indicates creativity\n",
    "> \n",
    "> low values indicates precision"
   ]
  },
  {
   "cell_type": "code",
   "execution_count": 20,
   "id": "1869d5bb",
   "metadata": {
    "execution": {
     "iopub.execute_input": "2025-01-02T22:09:59.423299Z",
     "iopub.status.busy": "2025-01-02T22:09:59.422953Z",
     "iopub.status.idle": "2025-01-02T22:09:59.427630Z",
     "shell.execute_reply": "2025-01-02T22:09:59.426979Z"
    },
    "id": "AAJY317euww4",
    "papermill": {
     "duration": 0.233455,
     "end_time": "2025-01-02T22:09:59.428771",
     "exception": false,
     "start_time": "2025-01-02T22:09:59.195316",
     "status": "completed"
    },
    "tags": []
   },
   "outputs": [],
   "source": [
    "def next_char(text, temperature=1):\n",
    "    y_propas = shakespeare_model.predict([text], verbose=0)[0,-1:]\n",
    "    y_propas = tf.math.log(y_propas) / temperature\n",
    "    predicted_ind = tf.random.categorical(y_propas, num_samples=1).numpy()[0,0]\n",
    "    return text_vec_layer.get_vocabulary()[predicted_ind+2]\n",
    "\n",
    "def generate(text, n_char=50, temperature=1):\n",
    "    for _ in range(n_char):\n",
    "        text += next_char(text, temperature)\n",
    "    return text\n"
   ]
  },
  {
   "cell_type": "code",
   "execution_count": 21,
   "id": "e278748f",
   "metadata": {
    "execution": {
     "iopub.execute_input": "2025-01-02T22:09:59.936021Z",
     "iopub.status.busy": "2025-01-02T22:09:59.935690Z",
     "iopub.status.idle": "2025-01-02T22:10:10.843929Z",
     "shell.execute_reply": "2025-01-02T22:10:10.842770Z"
    },
    "papermill": {
     "duration": 11.140501,
     "end_time": "2025-01-02T22:10:10.845393",
     "exception": false,
     "start_time": "2025-01-02T22:09:59.704892",
     "status": "completed"
    },
    "tags": []
   },
   "outputs": [
    {
     "name": "stdout",
     "output_type": "stream",
     "text": [
      "to be or not to be the duke\n",
      "as it is a proper strange death,\n",
      "and th\n",
      "==================================================\n",
      "to be or not to be\n",
      "companions are profession, rack yortires underta\n",
      "==================================================\n",
      "to be or not to bpevicm-v lv!?$mz?gmjz :3?ljb'va;!td&\n",
      "i.ur3l'-j!3eu\n",
      "==================================================\n"
     ]
    }
   ],
   "source": [
    "tf.random.set_seed(42)\n",
    "print(generate('to be or not to b', temperature=0.01),end= '\\n'+'='*50+'\\n')\n",
    "print(generate('to be or not to b', temperature=1),end= '\\n'+'='*50+'\\n')\n",
    "print(generate('to be or not to b', temperature=199),end= '\\n'+'='*50+'\\n')"
   ]
  },
  {
   "cell_type": "markdown",
   "id": "8aa246a0",
   "metadata": {
    "papermill": {
     "duration": 0.223941,
     "end_time": "2025-01-02T22:10:11.294836",
     "exception": false,
     "start_time": "2025-01-02T22:10:11.070895",
     "status": "completed"
    },
    "tags": []
   },
   "source": [
    "### Sampling from top k charcters"
   ]
  },
  {
   "cell_type": "code",
   "execution_count": 22,
   "id": "f4a3a3ee",
   "metadata": {
    "execution": {
     "iopub.execute_input": "2025-01-02T22:10:11.801075Z",
     "iopub.status.busy": "2025-01-02T22:10:11.800764Z",
     "iopub.status.idle": "2025-01-02T22:10:11.806547Z",
     "shell.execute_reply": "2025-01-02T22:10:11.805813Z"
    },
    "papermill": {
     "duration": 0.283314,
     "end_time": "2025-01-02T22:10:11.807747",
     "exception": false,
     "start_time": "2025-01-02T22:10:11.524433",
     "status": "completed"
    },
    "tags": []
   },
   "outputs": [],
   "source": [
    "def next_char(text, model, text_vec_layer, k=5, temperature=1.0):\n",
    "    y_probs = model.predict([text], verbose=0)[0, -1:]\n",
    "    y_probs = tf.math.log(y_probs) / temperature\n",
    "    top_k_indices = tf.math.top_k(y_probs, k=k).indices\n",
    "    top_k_probs = tf.gather(y_probs, top_k_indices, axis=-1)\n",
    "    top_k_probs = tf.reshape(top_k_probs, (1, -1))\n",
    "    predicted_idx = tf.random.categorical(top_k_probs, num_samples=1)[0, 0]\n",
    "    char_idx = top_k_indices[0].numpy()[predicted_idx]+2\n",
    "    return text_vec_layer.get_vocabulary()[char_idx]\n",
    "\n",
    "def generate(text, model, text_vec_layer, n_chars=50, k=5, temperature=1.0):\n",
    "    generated_text = text\n",
    "    for _ in range(n_chars):\n",
    "        generated_text += next_char(generated_text, model, text_vec_layer, k, temperature)\n",
    "    return generated_text"
   ]
  },
  {
   "cell_type": "code",
   "execution_count": 23,
   "id": "dbd3ad65",
   "metadata": {
    "execution": {
     "iopub.execute_input": "2025-01-02T22:10:12.257045Z",
     "iopub.status.busy": "2025-01-02T22:10:12.256738Z",
     "iopub.status.idle": "2025-01-02T22:10:34.957513Z",
     "shell.execute_reply": "2025-01-02T22:10:34.956451Z"
    },
    "papermill": {
     "duration": 22.927988,
     "end_time": "2025-01-02T22:10:34.959001",
     "exception": false,
     "start_time": "2025-01-02T22:10:12.031013",
     "status": "completed"
    },
    "tags": []
   },
   "outputs": [
    {
     "name": "stdout",
     "output_type": "stream",
     "text": [
      "To be or not to be the destined mercy;\n",
      "the sad prisoner to trances all the shoulder with the law as a true.\n",
      "\n",
      "lord:\n",
      "in\n",
      "------------------------------------------------------------ \n",
      "\n",
      "\n",
      "To be or not to be the duke\n",
      "as it is a proper strange death,\n",
      "and then the strange daughter is a strange daughter,\n",
      "and\n",
      "------------------------------------------------------------ \n",
      "\n",
      "\n",
      "To be or not to brustyie, this.. we\n",
      "weake musa sussioges!' pednart,'t ninroa nieccy, stay.--wine\n",
      "he've\n",
      "sort. if\n",
      "york?\n",
      "------------------------------------------------------------ \n",
      "\n",
      "\n"
     ]
    }
   ],
   "source": [
    "tf.random.set_seed(42)\n",
    "generated_text = generate(\"To be or not to b\", shakespeare_model, text_vec_layer, n_chars=100, k=5, temperature=0.7)\n",
    "print(generated_text)\n",
    "print('-'*60,'\\n\\n')\n",
    "\n",
    "generated_text = generate(\"To be or not to b\", shakespeare_model, text_vec_layer, n_chars=100, k=5, temperature=0.001)\n",
    "print(generated_text)\n",
    "print('-'*60,'\\n\\n')\n",
    "\n",
    "generated_text = generate(\"To be or not to b\", shakespeare_model, text_vec_layer, n_chars=100, k=5, temperature=60)\n",
    "print(generated_text)\n",
    "print('-'*60,'\\n\\n')"
   ]
  },
  {
   "cell_type": "markdown",
   "id": "18b5898a",
   "metadata": {
    "papermill": {
     "duration": 0.290208,
     "end_time": "2025-01-02T22:10:35.477223",
     "exception": false,
     "start_time": "2025-01-02T22:10:35.187015",
     "status": "completed"
    },
    "tags": []
   },
   "source": [
    "### Nucleus Sampling and Beam Search Generation"
   ]
  },
  {
   "cell_type": "code",
   "execution_count": 24,
   "id": "90b9c6d7",
   "metadata": {
    "execution": {
     "iopub.execute_input": "2025-01-02T22:10:35.935454Z",
     "iopub.status.busy": "2025-01-02T22:10:35.935125Z",
     "iopub.status.idle": "2025-01-02T22:10:35.954028Z",
     "shell.execute_reply": "2025-01-02T22:10:35.953307Z"
    },
    "papermill": {
     "duration": 0.248693,
     "end_time": "2025-01-02T22:10:35.955423",
     "exception": false,
     "start_time": "2025-01-02T22:10:35.706730",
     "status": "completed"
    },
    "tags": []
   },
   "outputs": [],
   "source": [
    "def generate_beam_search(text, max_length=50, beam_width=3, temperature=1.0):\n",
    "    beams = [(0.0, text)]\n",
    "    completed_beams = []\n",
    "    \n",
    "    for _ in range(max_length):\n",
    "        candidates = []\n",
    "        for score, beam_text in beams:\n",
    "            y_probs = shakespeare_model.predict([beam_text], verbose=0)[0, -1:]\n",
    "            logits = tf.math.log(y_probs) / temperature\n",
    "            top_k_logits, top_k_indices = tf.math.top_k(logits, k=beam_width)\n",
    "            \n",
    "            for logit, token_idx in zip(top_k_logits[0], top_k_indices[0]):\n",
    "                next_char = text_vec_layer.get_vocabulary()[token_idx.numpy() + 2]\n",
    "                new_text = beam_text + next_char\n",
    "                new_score = score - float(logit)\n",
    "                candidates.append((new_score, new_text))\n",
    "        \n",
    "        beams = sorted(candidates, key=lambda x: x[0])[:beam_width] # cut off top candidates after each generation step.\n",
    "    \n",
    "    return beams[0][1]\n",
    "\n",
    "def generate_nucleus(text, max_length=50, p=0.9, temperature=1.0):\n",
    "    result = text\n",
    "    \n",
    "    for _ in range(max_length):\n",
    "        y_probs = shakespeare_model.predict([result], verbose=0)[0, -1:]\n",
    "        logits = tf.math.log(y_probs) / temperature\n",
    "        probs = tf.nn.softmax(logits, axis=-1)[0]\n",
    "        sorted_indices = tf.argsort(probs, direction='DESCENDING')\n",
    "        sorted_probs = tf.gather(probs, sorted_indices)\n",
    "        cumulative_probs = tf.cumsum(sorted_probs)\n",
    "        nucleus_mask = cumulative_probs <= p\n",
    "        filtered_probs = sorted_probs * tf.cast(nucleus_mask, tf.float32)\n",
    "        filtered_probs = filtered_probs / tf.reduce_sum(filtered_probs)\n",
    "        sample_idx = tf.random.categorical(tf.math.log(filtered_probs[None, :]), num_samples=1)[0, 0]\n",
    "        char_idx = sorted_indices[sample_idx]\n",
    "        next_char = text_vec_layer.get_vocabulary()[char_idx.numpy() + 2]\n",
    "        result += next_char\n",
    "    \n",
    "    return result"
   ]
  },
  {
   "cell_type": "code",
   "execution_count": 25,
   "id": "93a752b7",
   "metadata": {
    "execution": {
     "iopub.execute_input": "2025-01-02T22:10:36.403922Z",
     "iopub.status.busy": "2025-01-02T22:10:36.403620Z",
     "iopub.status.idle": "2025-01-02T22:11:16.671256Z",
     "shell.execute_reply": "2025-01-02T22:11:16.670032Z"
    },
    "papermill": {
     "duration": 40.493422,
     "end_time": "2025-01-02T22:11:16.672925",
     "exception": false,
     "start_time": "2025-01-02T22:10:36.179503",
     "status": "completed"
    },
    "tags": []
   },
   "outputs": [
    {
     "name": "stdout",
     "output_type": "stream",
     "text": [
      "-------------------Beam Search (conservative)-------------------\n",
      "to be or not to be the daughter\n",
      "than the duke is too much strange.\n",
      "\n",
      "================================================================\n",
      "\n",
      "---------------------Beam Search (standard)---------------------\n",
      "to be or not to be heard\n",
      "that he hath made your honour will be the \n",
      "================================================================\n",
      "\n",
      "-------------------Nucleus Sampling (focused)-------------------\n",
      "to be or not to be the house.\n",
      "\n",
      "claudio:\n",
      "a pardon for my state to se\n",
      "================================================================\n",
      "\n",
      "-------------------Nucleus Sampling (creative)------------------\n",
      "to be or not to breathe her\n",
      "or tranio, the roberly o' thee:\n",
      "he shou\n"
     ]
    }
   ],
   "source": [
    "print(\"-------------------Beam Search (conservative)-------------------\")\n",
    "print(generate_beam_search(\"to be or not to b\", max_length=50, beam_width=3, temperature=0.7))\n",
    "print(\"=\"*64)\n",
    "\n",
    "print(\"\\n---------------------Beam Search (standard)---------------------\")\n",
    "print(generate_beam_search(\"to be or not to b\", max_length=50, beam_width=5, temperature=1.0))\n",
    "print(\"=\"*64)\n",
    "\n",
    "print(\"\\n-------------------Nucleus Sampling (focused)-------------------\")\n",
    "print(generate_nucleus(\"to be or not to b\", max_length=50, p=0.9, temperature=0.7))\n",
    "print(\"=\"*64)\n",
    "\n",
    "print(\"\\n-------------------Nucleus Sampling (creative)------------------\")\n",
    "print(generate_nucleus(\"to be or not to b\", max_length=50, p=0.95, temperature=1.3))"
   ]
  },
  {
   "cell_type": "markdown",
   "id": "bac01f97",
   "metadata": {
    "papermill": {
     "duration": 0.224912,
     "end_time": "2025-01-02T22:11:17.169624",
     "exception": false,
     "start_time": "2025-01-02T22:11:16.944712",
     "status": "completed"
    },
    "tags": []
   },
   "source": [
    "###  Stateful RNN"
   ]
  },
  {
   "cell_type": "markdown",
   "id": "8ca63fef",
   "metadata": {
    "papermill": {
     "duration": 0.226737,
     "end_time": "2025-01-02T22:11:17.619358",
     "exception": false,
     "start_time": "2025-01-02T22:11:17.392621",
     "status": "completed"
    },
    "tags": []
   },
   "source": [
    "Preparing the dataset for statefull rnn, it must takes sequential and non-overlaping dataset rather than shuffled and overlapped dataset for stateless rnn."
   ]
  },
  {
   "cell_type": "code",
   "execution_count": 26,
   "id": "9e659bce",
   "metadata": {
    "execution": {
     "iopub.execute_input": "2025-01-02T22:11:18.117784Z",
     "iopub.status.busy": "2025-01-02T22:11:18.117452Z",
     "iopub.status.idle": "2025-01-02T22:11:18.218769Z",
     "shell.execute_reply": "2025-01-02T22:11:18.218029Z"
    },
    "papermill": {
     "duration": 0.377385,
     "end_time": "2025-01-02T22:11:18.220460",
     "exception": false,
     "start_time": "2025-01-02T22:11:17.843075",
     "status": "completed"
    },
    "tags": []
   },
   "outputs": [],
   "source": [
    "def to_dataset_for_stateful_rnn(sequence, length):\n",
    "    ds = tf.data.Dataset.from_tensor_slices(sequence)\n",
    "    ds = ds.window(length+1, shift = length, drop_remainder=True)\n",
    "    ds = ds.flat_map(lambda window: window.batch(length+1)).batch(1)\n",
    "    return ds.map(lambda window: (window[:,:-1], window[:,1:])).prefetch(1)\n",
    "\n",
    "stateful_train_set = to_dataset_for_stateful_rnn(encoded[:1_000_000], length)\n",
    "stateful_valid_set = to_dataset_for_stateful_rnn(encoded[1_000_000:1_060_000],length)\n",
    "stateful_test_set = to_dataset_for_stateful_rnn(encoded[1_060_000:], length)"
   ]
  },
  {
   "cell_type": "markdown",
   "id": "e8570189",
   "metadata": {
    "papermill": {
     "duration": 0.229333,
     "end_time": "2025-01-02T22:11:18.674930",
     "exception": false,
     "start_time": "2025-01-02T22:11:18.445597",
     "status": "completed"
    },
    "tags": []
   },
   "source": [
    "### Using Batching with Statful RNN"
   ]
  },
  {
   "cell_type": "code",
   "execution_count": 27,
   "id": "fcfd7c08",
   "metadata": {
    "execution": {
     "iopub.execute_input": "2025-01-02T22:11:19.187747Z",
     "iopub.status.busy": "2025-01-02T22:11:19.187411Z",
     "iopub.status.idle": "2025-01-02T22:11:20.165405Z",
     "shell.execute_reply": "2025-01-02T22:11:20.164473Z"
    },
    "papermill": {
     "duration": 1.266865,
     "end_time": "2025-01-02T22:11:20.166995",
     "exception": false,
     "start_time": "2025-01-02T22:11:18.900130",
     "status": "completed"
    },
    "tags": []
   },
   "outputs": [],
   "source": [
    "def to_non_overlapping_windows(sequence, length):\n",
    "    ds = tf.data.Dataset.from_tensor_slices(sequence)\n",
    "    ds = ds.window(length + 1, shift=length, drop_remainder=True)\n",
    "    return ds.flat_map(lambda window: window.batch(length + 1))\n",
    "\n",
    "def to_batched_dataset_for_stateful_rnn(sequence, length, batch_size=32):\n",
    "    parts = np.array_split(sequence, batch_size)\n",
    "    datasets = tuple(to_non_overlapping_windows(part, length) for part in parts) \n",
    "    ds = tf.data.Dataset.zip(datasets).map(lambda *windows: tf.stack(windows))\n",
    "    return ds.map(lambda window: (window[:, :-1], window[:, 1:])).prefetch(1)\n",
    "\n",
    "stateful_train_set = to_batched_dataset_for_stateful_rnn(encoded[:1_000_000], length)\n",
    "stateful_valid_set = to_batched_dataset_for_stateful_rnn(encoded[1_000_000:1_060_000],length)\n",
    "stateful_test_set = to_batched_dataset_for_stateful_rnn(encoded[1_060_000:], length)"
   ]
  },
  {
   "cell_type": "code",
   "execution_count": 28,
   "id": "ad912a34",
   "metadata": {
    "execution": {
     "iopub.execute_input": "2025-01-02T22:11:20.620955Z",
     "iopub.status.busy": "2025-01-02T22:11:20.620637Z",
     "iopub.status.idle": "2025-01-02T22:11:20.718636Z",
     "shell.execute_reply": "2025-01-02T22:11:20.717459Z"
    },
    "papermill": {
     "duration": 0.328168,
     "end_time": "2025-01-02T22:11:20.720194",
     "exception": false,
     "start_time": "2025-01-02T22:11:20.392026",
     "status": "completed"
    },
    "tags": []
   },
   "outputs": [
    {
     "name": "stdout",
     "output_type": "stream",
     "text": [
      "Sequence: \n",
      " tf.Tensor(\n",
      "[[ 0  1  2]\n",
      " [13 14 15]\n",
      " [26 27 28]\n",
      " [38 39 40]], shape=(4, 3), dtype=int32) \n",
      "Target: \n",
      " tf.Tensor(\n",
      "[[ 1  2  3]\n",
      " [14 15 16]\n",
      " [27 28 29]\n",
      " [39 40 41]], shape=(4, 3), dtype=int32) \n",
      "\n",
      "\n",
      "Sequence: \n",
      " tf.Tensor(\n",
      "[[ 3  4  5]\n",
      " [16 17 18]\n",
      " [29 30 31]\n",
      " [41 42 43]], shape=(4, 3), dtype=int32) \n",
      "Target: \n",
      " tf.Tensor(\n",
      "[[ 4  5  6]\n",
      " [17 18 19]\n",
      " [30 31 32]\n",
      " [42 43 44]], shape=(4, 3), dtype=int32) \n",
      "\n",
      "\n"
     ]
    }
   ],
   "source": [
    "for idx, (seq, tar) in enumerate(to_batched_dataset_for_stateful_rnn(tf.range(50), length=3, batch_size=4)):\n",
    "    print('Sequence: \\n', seq, '\\nTarget: \\n', tar, '\\n\\n')\n",
    "    if idx>0: break"
   ]
  },
  {
   "cell_type": "markdown",
   "id": "63a9dc13",
   "metadata": {
    "papermill": {
     "duration": 0.226604,
     "end_time": "2025-01-02T22:11:21.171599",
     "exception": false,
     "start_time": "2025-01-02T22:11:20.944995",
     "status": "completed"
    },
    "tags": []
   },
   "source": [
    "#### Building the stateful model"
   ]
  },
  {
   "cell_type": "code",
   "execution_count": 29,
   "id": "f79de341",
   "metadata": {
    "execution": {
     "iopub.execute_input": "2025-01-02T22:11:21.685007Z",
     "iopub.status.busy": "2025-01-02T22:11:21.684694Z",
     "iopub.status.idle": "2025-01-02T22:11:21.926805Z",
     "shell.execute_reply": "2025-01-02T22:11:21.926073Z"
    },
    "papermill": {
     "duration": 0.47675,
     "end_time": "2025-01-02T22:11:21.928398",
     "exception": false,
     "start_time": "2025-01-02T22:11:21.451648",
     "status": "completed"
    },
    "tags": []
   },
   "outputs": [],
   "source": [
    "model = tf.keras.Sequential([\n",
    "    tf.keras.layers.Embedding(input_dim=n_tokens, output_dim=16,\n",
    "                              batch_input_shape=[32, None]),\n",
    "    tf.keras.layers.GRU(128, return_sequences=True, stateful=True),\n",
    "    tf.keras.layers.Dense(n_tokens, activation=\"softmax\")\n",
    "])\n",
    "\n",
    "class ResetStatesCallback(tf.keras.callbacks.Callback):\n",
    "    def on_epoch_begin(self, epoch, logs):\n",
    "        self.model.reset_states()\n",
    "\n",
    "model_ckpt = tf.keras.callbacks.ModelCheckpoint(\n",
    "    \"my_stateful_shakespeare_model.keras\",\n",
    "    monitor=\"val_accuracy\",\n",
    "    save_best_only=True)\n",
    "\n",
    "model.compile(loss=\"sparse_categorical_crossentropy\", optimizer=\"nadam\",\n",
    "              metrics=[\"accuracy\"])"
   ]
  },
  {
   "cell_type": "code",
   "execution_count": 30,
   "id": "963a8037",
   "metadata": {
    "execution": {
     "iopub.execute_input": "2025-01-02T22:11:22.384020Z",
     "iopub.status.busy": "2025-01-02T22:11:22.383689Z",
     "iopub.status.idle": "2025-01-02T22:12:48.606562Z",
     "shell.execute_reply": "2025-01-02T22:12:48.605614Z"
    },
    "papermill": {
     "duration": 86.452668,
     "end_time": "2025-01-02T22:12:48.608234",
     "exception": false,
     "start_time": "2025-01-02T22:11:22.155566",
     "status": "completed"
    },
    "tags": []
   },
   "outputs": [
    {
     "name": "stdout",
     "output_type": "stream",
     "text": [
      "Epoch 1/20\n",
      "312/312 [==============================] - 6s 14ms/step - loss: 2.7824 - accuracy: 0.2220 - val_loss: 2.3869 - val_accuracy: 0.3061\n",
      "Epoch 2/20\n",
      "312/312 [==============================] - 4s 13ms/step - loss: 2.2520 - accuracy: 0.3434 - val_loss: 2.1193 - val_accuracy: 0.3762\n",
      "Epoch 3/20\n",
      "312/312 [==============================] - 4s 13ms/step - loss: 2.0232 - accuracy: 0.4015 - val_loss: 1.9726 - val_accuracy: 0.4098\n",
      "Epoch 4/20\n",
      "312/312 [==============================] - 4s 13ms/step - loss: 1.8702 - accuracy: 0.4427 - val_loss: 1.8823 - val_accuracy: 0.4385\n",
      "Epoch 5/20\n",
      "312/312 [==============================] - 4s 13ms/step - loss: 1.7662 - accuracy: 0.4731 - val_loss: 1.8220 - val_accuracy: 0.4545\n",
      "Epoch 6/20\n",
      "312/312 [==============================] - 4s 13ms/step - loss: 1.6941 - accuracy: 0.4935 - val_loss: 1.7783 - val_accuracy: 0.4667\n",
      "Epoch 7/20\n",
      "312/312 [==============================] - 4s 13ms/step - loss: 1.6424 - accuracy: 0.5080 - val_loss: 1.7460 - val_accuracy: 0.4785\n",
      "Epoch 8/20\n",
      "312/312 [==============================] - 4s 13ms/step - loss: 1.6035 - accuracy: 0.5185 - val_loss: 1.7214 - val_accuracy: 0.4869\n",
      "Epoch 9/20\n",
      "312/312 [==============================] - 4s 13ms/step - loss: 1.5728 - accuracy: 0.5261 - val_loss: 1.7015 - val_accuracy: 0.4924\n",
      "Epoch 10/20\n",
      "312/312 [==============================] - 4s 14ms/step - loss: 1.5480 - accuracy: 0.5323 - val_loss: 1.6848 - val_accuracy: 0.4956\n",
      "Epoch 11/20\n",
      "312/312 [==============================] - 4s 13ms/step - loss: 1.5274 - accuracy: 0.5374 - val_loss: 1.6702 - val_accuracy: 0.5004\n",
      "Epoch 12/20\n",
      "312/312 [==============================] - 4s 13ms/step - loss: 1.5100 - accuracy: 0.5419 - val_loss: 1.6572 - val_accuracy: 0.5059\n",
      "Epoch 13/20\n",
      "312/312 [==============================] - 4s 13ms/step - loss: 1.4951 - accuracy: 0.5457 - val_loss: 1.6456 - val_accuracy: 0.5099\n",
      "Epoch 14/20\n",
      "312/312 [==============================] - 4s 13ms/step - loss: 1.4822 - accuracy: 0.5490 - val_loss: 1.6354 - val_accuracy: 0.5148\n",
      "Epoch 15/20\n",
      "312/312 [==============================] - 4s 13ms/step - loss: 1.4708 - accuracy: 0.5518 - val_loss: 1.6263 - val_accuracy: 0.5187\n",
      "Epoch 16/20\n",
      "312/312 [==============================] - 4s 13ms/step - loss: 1.4607 - accuracy: 0.5544 - val_loss: 1.6183 - val_accuracy: 0.5208\n",
      "Epoch 17/20\n",
      "312/312 [==============================] - 4s 13ms/step - loss: 1.4518 - accuracy: 0.5567 - val_loss: 1.6112 - val_accuracy: 0.5210\n",
      "Epoch 18/20\n",
      "312/312 [==============================] - 4s 13ms/step - loss: 1.4438 - accuracy: 0.5587 - val_loss: 1.6050 - val_accuracy: 0.5226\n",
      "Epoch 19/20\n",
      "312/312 [==============================] - 4s 12ms/step - loss: 1.4365 - accuracy: 0.5607 - val_loss: 1.5993 - val_accuracy: 0.5236\n",
      "Epoch 20/20\n",
      "312/312 [==============================] - 4s 13ms/step - loss: 1.4299 - accuracy: 0.5623 - val_loss: 1.5942 - val_accuracy: 0.5247\n"
     ]
    }
   ],
   "source": [
    "history = model.fit(stateful_train_set, validation_data=stateful_valid_set,\n",
    "                    epochs=20, callbacks=[ResetStatesCallback(), model_ckpt])"
   ]
  },
  {
   "cell_type": "markdown",
   "id": "f2a3ca0f",
   "metadata": {
    "papermill": {
     "duration": 0.291606,
     "end_time": "2025-01-02T22:12:49.197451",
     "exception": false,
     "start_time": "2025-01-02T22:12:48.905845",
     "status": "completed"
    },
    "tags": []
   },
   "source": [
    "To use the model with different batch sizes, we need to create a stateless copy:\n"
   ]
  },
  {
   "cell_type": "code",
   "execution_count": 31,
   "id": "4ba39ca6",
   "metadata": {
    "execution": {
     "iopub.execute_input": "2025-01-02T22:12:49.827171Z",
     "iopub.status.busy": "2025-01-02T22:12:49.826812Z",
     "iopub.status.idle": "2025-01-02T22:12:50.284921Z",
     "shell.execute_reply": "2025-01-02T22:12:50.284230Z"
    },
    "papermill": {
     "duration": 0.799438,
     "end_time": "2025-01-02T22:12:50.286632",
     "exception": false,
     "start_time": "2025-01-02T22:12:49.487194",
     "status": "completed"
    },
    "tags": []
   },
   "outputs": [],
   "source": [
    "stateless_model = tf.keras.Sequential([\n",
    "    tf.keras.layers.Embedding(input_dim=n_tokens, output_dim=16),\n",
    "    tf.keras.layers.GRU(128, return_sequences=True),\n",
    "    tf.keras.layers.Dense(n_tokens, activation=\"softmax\")\n",
    "])\n",
    "\n",
    "stateless_model.build(tf.TensorShape([None, None]))\n",
    "stateless_model.set_weights(model.get_weights())\n",
    "\n",
    "shakespeare_model = tf.keras.Sequential([\n",
    "    text_vec_layer,\n",
    "    tf.keras.layers.Lambda(lambda X: X - 2),  # no <PAD> or <UNK> tokens\n",
    "    stateless_model\n",
    "])\n"
   ]
  },
  {
   "cell_type": "code",
   "execution_count": 32,
   "id": "92c8103b",
   "metadata": {
    "execution": {
     "iopub.execute_input": "2025-01-02T22:12:50.891939Z",
     "iopub.status.busy": "2025-01-02T22:12:50.891583Z",
     "iopub.status.idle": "2025-01-02T22:12:58.669145Z",
     "shell.execute_reply": "2025-01-02T22:12:58.668019Z"
    },
    "papermill": {
     "duration": 8.083167,
     "end_time": "2025-01-02T22:12:58.670543",
     "exception": false,
     "start_time": "2025-01-02T22:12:50.587376",
     "status": "completed"
    },
    "tags": []
   },
   "outputs": [
    {
     "name": "stdout",
     "output_type": "stream",
     "text": [
      "To be or not to be the\n",
      "sentence that the country the country's captain\n",
      "that i say the country the state him and the s\n"
     ]
    }
   ],
   "source": [
    "generated_text = generate(\"To be or not to b\", shakespeare_model, text_vec_layer, n_chars=100, k=5, temperature=0.001)\n",
    "print(generated_text)"
   ]
  },
  {
   "cell_type": "markdown",
   "id": "d69cf5e2",
   "metadata": {
    "papermill": {
     "duration": 0.333462,
     "end_time": "2025-01-02T22:12:59.291259",
     "exception": false,
     "start_time": "2025-01-02T22:12:58.957797",
     "status": "completed"
    },
    "tags": []
   },
   "source": [
    "## Sentiment Analysis"
   ]
  },
  {
   "cell_type": "markdown",
   "id": "3dd8116d",
   "metadata": {
    "papermill": {
     "duration": 0.28889,
     "end_time": "2025-01-02T22:12:59.870480",
     "exception": false,
     "start_time": "2025-01-02T22:12:59.581590",
     "status": "completed"
    },
    "tags": []
   },
   "source": [
    "let's download the `imdb` dataset from tensorflow datasets"
   ]
  },
  {
   "cell_type": "code",
   "execution_count": 33,
   "id": "f2893c06",
   "metadata": {
    "execution": {
     "iopub.execute_input": "2025-01-02T22:13:00.499780Z",
     "iopub.status.busy": "2025-01-02T22:13:00.499471Z",
     "iopub.status.idle": "2025-01-02T22:14:02.868526Z",
     "shell.execute_reply": "2025-01-02T22:14:02.867776Z"
    },
    "papermill": {
     "duration": 62.657927,
     "end_time": "2025-01-02T22:14:02.869974",
     "exception": false,
     "start_time": "2025-01-02T22:13:00.212047",
     "status": "completed"
    },
    "tags": []
   },
   "outputs": [
    {
     "name": "stdout",
     "output_type": "stream",
     "text": [
      "Downloading and preparing dataset 80.23 MiB (download: 80.23 MiB, generated: Unknown size, total: 80.23 MiB) to /root/tensorflow_datasets/imdb_reviews/plain_text/1.0.0...\n"
     ]
    },
    {
     "data": {
      "application/vnd.jupyter.widget-view+json": {
       "model_id": "e251adbd51d549b2b2d72ae5fa15882f",
       "version_major": 2,
       "version_minor": 0
      },
      "text/plain": [
       "Dl Completed...: 0 url [00:00, ? url/s]"
      ]
     },
     "metadata": {},
     "output_type": "display_data"
    },
    {
     "data": {
      "application/vnd.jupyter.widget-view+json": {
       "model_id": "155a4c839cce4bf8a75fb7b75af7767b",
       "version_major": 2,
       "version_minor": 0
      },
      "text/plain": [
       "Dl Size...: 0 MiB [00:00, ? MiB/s]"
      ]
     },
     "metadata": {},
     "output_type": "display_data"
    },
    {
     "data": {
      "application/vnd.jupyter.widget-view+json": {
       "model_id": "f0c7a1c61373405d9374b5080144ba41",
       "version_major": 2,
       "version_minor": 0
      },
      "text/plain": [
       "Generating splits...:   0%|          | 0/3 [00:00<?, ? splits/s]"
      ]
     },
     "metadata": {},
     "output_type": "display_data"
    },
    {
     "data": {
      "application/vnd.jupyter.widget-view+json": {
       "model_id": "8b5df70b541947d7a67de4089f511d1f",
       "version_major": 2,
       "version_minor": 0
      },
      "text/plain": [
       "Generating train examples...:   0%|          | 0/25000 [00:00<?, ? examples/s]"
      ]
     },
     "metadata": {},
     "output_type": "display_data"
    },
    {
     "data": {
      "application/vnd.jupyter.widget-view+json": {
       "model_id": "43e23b2be81c4ced883216387a4be2c1",
       "version_major": 2,
       "version_minor": 0
      },
      "text/plain": [
       "Shuffling /root/tensorflow_datasets/imdb_reviews/plain_text/incomplete.39JGFM_1.0.0/imdb_reviews-train.tfrecor…"
      ]
     },
     "metadata": {},
     "output_type": "display_data"
    },
    {
     "data": {
      "application/vnd.jupyter.widget-view+json": {
       "model_id": "6d878fcf145b4cd489b392dd49c02dfb",
       "version_major": 2,
       "version_minor": 0
      },
      "text/plain": [
       "Generating test examples...:   0%|          | 0/25000 [00:00<?, ? examples/s]"
      ]
     },
     "metadata": {},
     "output_type": "display_data"
    },
    {
     "data": {
      "application/vnd.jupyter.widget-view+json": {
       "model_id": "e6eb68e4910e4a12a2b59e06bd019e18",
       "version_major": 2,
       "version_minor": 0
      },
      "text/plain": [
       "Shuffling /root/tensorflow_datasets/imdb_reviews/plain_text/incomplete.39JGFM_1.0.0/imdb_reviews-test.tfrecord…"
      ]
     },
     "metadata": {},
     "output_type": "display_data"
    },
    {
     "data": {
      "application/vnd.jupyter.widget-view+json": {
       "model_id": "56ff27f4dc7344bf939f3f72d655a8b3",
       "version_major": 2,
       "version_minor": 0
      },
      "text/plain": [
       "Generating unsupervised examples...:   0%|          | 0/50000 [00:00<?, ? examples/s]"
      ]
     },
     "metadata": {},
     "output_type": "display_data"
    },
    {
     "data": {
      "application/vnd.jupyter.widget-view+json": {
       "model_id": "09edbd9181a34c86a0aae5e39caf353c",
       "version_major": 2,
       "version_minor": 0
      },
      "text/plain": [
       "Shuffling /root/tensorflow_datasets/imdb_reviews/plain_text/incomplete.39JGFM_1.0.0/imdb_reviews-unsupervised.…"
      ]
     },
     "metadata": {},
     "output_type": "display_data"
    },
    {
     "name": "stdout",
     "output_type": "stream",
     "text": [
      "Dataset imdb_reviews downloaded and prepared to /root/tensorflow_datasets/imdb_reviews/plain_text/1.0.0. Subsequent calls will reuse this data.\n"
     ]
    }
   ],
   "source": [
    "import tensorflow_datasets as tfds\n",
    "\n",
    "raw_train_set, raw_valid_set, raw_test_set = tfds.load('imdb_reviews', \n",
    "                                       split=['train[:90%]', 'train[90%:]', 'test'],\n",
    "                                       as_supervised=True)\n",
    "tf.random.set_seed(42)\n",
    "train_set = raw_train_set.shuffle(5000, seed=42).batch(32).prefetch(1)\n",
    "valid_set = raw_valid_set.batch(32).prefetch(1)\n",
    "test_set = raw_test_set.batch(32).prefetch(1)\n"
   ]
  },
  {
   "cell_type": "code",
   "execution_count": 34,
   "id": "a014c964",
   "metadata": {
    "execution": {
     "iopub.execute_input": "2025-01-02T22:14:03.493038Z",
     "iopub.status.busy": "2025-01-02T22:14:03.492709Z",
     "iopub.status.idle": "2025-01-02T22:14:03.559029Z",
     "shell.execute_reply": "2025-01-02T22:14:03.557999Z"
    },
    "papermill": {
     "duration": 0.356242,
     "end_time": "2025-01-02T22:14:03.560588",
     "exception": false,
     "start_time": "2025-01-02T22:14:03.204346",
     "status": "completed"
    },
    "tags": []
   },
   "outputs": [
    {
     "name": "stdout",
     "output_type": "stream",
     "text": [
      ">>  This was an absolutely terrible movie. Don't be lured in by Christopher Walken or Michael Ironside. \n",
      "Label:  0\n",
      ">>  I have been known to fall asleep during films, but this is usually due to a combination of things in\n",
      "Label:  0\n",
      ">>  Mann photographs the Alberta Rocky Mountains in a superb fashion, and Jimmy Stewart and Walter Brenn\n",
      "Label:  0\n",
      ">>  This is the kind of film for a snowy Sunday afternoon when the rest of the world can go ahead with i\n",
      "Label:  1\n"
     ]
    }
   ],
   "source": [
    "for review, label in raw_train_set.take(4):\n",
    "    print(\">> \",review.numpy().decode('utf-8')[:100])\n",
    "    print(\"Label: \", label.numpy())"
   ]
  },
  {
   "cell_type": "markdown",
   "id": "83c6fd84",
   "metadata": {
    "papermill": {
     "duration": 0.351874,
     "end_time": "2025-01-02T22:14:04.202422",
     "exception": false,
     "start_time": "2025-01-02T22:14:03.850548",
     "status": "completed"
    },
    "tags": []
   },
   "source": [
    "#### sentiment analysis model"
   ]
  },
  {
   "cell_type": "code",
   "execution_count": 35,
   "id": "5d976b1e",
   "metadata": {
    "execution": {
     "iopub.execute_input": "2025-01-02T22:14:04.779914Z",
     "iopub.status.busy": "2025-01-02T22:14:04.779587Z",
     "iopub.status.idle": "2025-01-02T22:14:08.405402Z",
     "shell.execute_reply": "2025-01-02T22:14:08.404615Z"
    },
    "papermill": {
     "duration": 3.916008,
     "end_time": "2025-01-02T22:14:08.406981",
     "exception": false,
     "start_time": "2025-01-02T22:14:04.490973",
     "status": "completed"
    },
    "tags": []
   },
   "outputs": [],
   "source": [
    "vocab_size = 1000\n",
    "text_vec_layer = tf.keras.layers.TextVectorization(max_tokens=vocab_size)\n",
    "text_vec_layer.adapt(train_set.map(lambda review, label: review))\n",
    "\n",
    "embed_size =128\n",
    "tf.random.set_seed(42)\n",
    "model = tf.keras.Sequential([\n",
    "    text_vec_layer,\n",
    "    tf.keras.layers.Embedding(input_dim = vocab_size, output_dim=128),\n",
    "    tf.keras.layers.GRU(128),\n",
    "    tf.keras.layers.Dense(1, activation='sigmoid')\n",
    "\n",
    "])"
   ]
  },
  {
   "cell_type": "code",
   "execution_count": 36,
   "id": "843c82f0",
   "metadata": {
    "execution": {
     "iopub.execute_input": "2025-01-02T22:14:08.980847Z",
     "iopub.status.busy": "2025-01-02T22:14:08.980543Z",
     "iopub.status.idle": "2025-01-02T22:14:09.067432Z",
     "shell.execute_reply": "2025-01-02T22:14:09.066267Z"
    },
    "papermill": {
     "duration": 0.375053,
     "end_time": "2025-01-02T22:14:09.068902",
     "exception": false,
     "start_time": "2025-01-02T22:14:08.693849",
     "status": "completed"
    },
    "tags": []
   },
   "outputs": [
    {
     "name": "stdout",
     "output_type": "stream",
     "text": [
      "tf.Tensor(\n",
      "[ 11  14  34 410 383  18  90  28   1   8  33   1   1  41 491   1 192  24\n",
      "  86 152  19  11 218 315  28  65 241 217   8 487  54  65  86 113  95  22\n",
      "   1  11  93 644 729  11  18   7  34 396   1 171   1 404   2  88   1 137\n",
      "  67 144  52   2   1   1  67 245  65   1  16   1   1   1   1   1   1   3\n",
      "  40   1   1  17   1  14 158  19   4   1 874   1   8   4  18  12  14   1\n",
      "   5  98 146   1  10 237 688  12  48  24  93  39  11   1 152  39   1   1\n",
      "  50 403  10  95   1 863 140   9], shape=(116,), dtype=int64)\n"
     ]
    }
   ],
   "source": [
    "for review, label in raw_train_set.take(1):\n",
    "    print(text_vec_layer(review.numpy().decode('utf-8')))"
   ]
  },
  {
   "cell_type": "markdown",
   "id": "85058834",
   "metadata": {
    "papermill": {
     "duration": 0.294224,
     "end_time": "2025-01-02T22:14:09.702110",
     "exception": false,
     "start_time": "2025-01-02T22:14:09.407886",
     "status": "completed"
    },
    "tags": []
   },
   "source": [
    "note that tekens 0,1 are for unknown and padding"
   ]
  },
  {
   "cell_type": "code",
   "execution_count": 37,
   "id": "7e931f18",
   "metadata": {
    "execution": {
     "iopub.execute_input": "2025-01-02T22:14:10.333040Z",
     "iopub.status.busy": "2025-01-02T22:14:10.332706Z",
     "iopub.status.idle": "2025-01-02T22:14:10.352918Z",
     "shell.execute_reply": "2025-01-02T22:14:10.352035Z"
    },
    "papermill": {
     "duration": 0.364302,
     "end_time": "2025-01-02T22:14:10.354330",
     "exception": false,
     "start_time": "2025-01-02T22:14:09.990028",
     "status": "completed"
    },
    "tags": []
   },
   "outputs": [
    {
     "name": "stdout",
     "output_type": "stream",
     "text": [
      "Model: \"sequential_5\"\n",
      "_________________________________________________________________\n",
      " Layer (type)                Output Shape              Param #   \n",
      "=================================================================\n",
      " text_vectorization_1 (Text  (None, None)              0         \n",
      " Vectorization)                                                  \n",
      "                                                                 \n",
      " embedding_3 (Embedding)     (None, None, 128)         128000    \n",
      "                                                                 \n",
      " gru_3 (GRU)                 (None, 128)               99072     \n",
      "                                                                 \n",
      " dense_3 (Dense)             (None, 1)                 129       \n",
      "                                                                 \n",
      "=================================================================\n",
      "Total params: 227201 (887.50 KB)\n",
      "Trainable params: 227201 (887.50 KB)\n",
      "Non-trainable params: 0 (0.00 Byte)\n",
      "_________________________________________________________________\n"
     ]
    }
   ],
   "source": [
    "model.summary()"
   ]
  },
  {
   "cell_type": "code",
   "execution_count": 38,
   "id": "41b255fe",
   "metadata": {
    "execution": {
     "iopub.execute_input": "2025-01-02T22:14:10.950813Z",
     "iopub.status.busy": "2025-01-02T22:14:10.950501Z",
     "iopub.status.idle": "2025-01-02T22:16:49.196018Z",
     "shell.execute_reply": "2025-01-02T22:16:49.195068Z"
    },
    "papermill": {
     "duration": 158.555049,
     "end_time": "2025-01-02T22:16:49.197664",
     "exception": false,
     "start_time": "2025-01-02T22:14:10.642615",
     "status": "completed"
    },
    "tags": []
   },
   "outputs": [
    {
     "name": "stdout",
     "output_type": "stream",
     "text": [
      "Epoch 1/5\n",
      "704/704 [==============================] - 39s 52ms/step - loss: 0.6934 - accuracy: 0.5029 - val_loss: 0.6931 - val_accuracy: 0.5016\n",
      "Epoch 2/5\n",
      "704/704 [==============================] - 30s 43ms/step - loss: 0.6944 - accuracy: 0.5058 - val_loss: 0.6927 - val_accuracy: 0.5028\n",
      "Epoch 3/5\n",
      "704/704 [==============================] - 30s 42ms/step - loss: 0.6919 - accuracy: 0.5011 - val_loss: 0.6931 - val_accuracy: 0.5004\n",
      "Epoch 4/5\n",
      "704/704 [==============================] - 29s 42ms/step - loss: 0.6903 - accuracy: 0.5072 - val_loss: 0.6946 - val_accuracy: 0.5020\n",
      "Epoch 5/5\n",
      "704/704 [==============================] - 29s 42ms/step - loss: 0.6886 - accuracy: 0.5107 - val_loss: 0.6986 - val_accuracy: 0.5020\n"
     ]
    }
   ],
   "source": [
    "model.compile(loss='binary_crossentropy', optimizer='adam',metrics=['accuracy'])\n",
    "history1 = model.fit(train_set, validation_data=valid_set, epochs=5)"
   ]
  },
  {
   "cell_type": "markdown",
   "id": "690ef77c",
   "metadata": {
    "papermill": {
     "duration": 0.395545,
     "end_time": "2025-01-02T22:16:50.010917",
     "exception": false,
     "start_time": "2025-01-02T22:16:49.615372",
     "status": "completed"
    },
    "tags": []
   },
   "source": [
    "we notice that the model performance is very poor and this is because there's many padding tokens in the seqeuences fed to the model. which make the RNN forget about what it learned."
   ]
  },
  {
   "cell_type": "markdown",
   "id": "b6c4be55",
   "metadata": {
    "papermill": {
     "duration": 0.386171,
     "end_time": "2025-01-02T22:16:50.838432",
     "exception": false,
     "start_time": "2025-01-02T22:16:50.452261",
     "status": "completed"
    },
    "tags": []
   },
   "source": [
    "<details>\n",
    "<summary><h3>RNNs and Padding Issues Illustration (click for details)</h3></summary>\n",
    "\n",
    "Let’s break this down step by step with a simple RNN example. We’ll demonstrate how zeros (padding tokens) lead to forgetting or losing information in the sequence `\"What a goal, wow.\"`.\n",
    "\n",
    "### Initial Setup\n",
    "- **Input Sequence**: `\"What a goal, wow.\"`\n",
    "- After padding: `[\"What\", \"a\", \"goal,\", \"wow.\", 0, 0, 0, ..., 0]`\n",
    "- Assume each token is represented as an embedding vector for the RNN:\n",
    "  ```plaintext\n",
    "  [\"What\" → [1, 0.5],\n",
    "   \"a\" → [0.2, 0.1],\n",
    "   \"goal,\" → [0.9, 0.7],\n",
    "   \"wow.\" → [1.2, 0.8],\n",
    "   0 → [0, 0],  # Padding token mapped to [0, 0]\n",
    "   0 → [0, 0], ..., 0 → [0, 0]]\n",
    "  ```\n",
    "\n",
    "### RNN Computation\n",
    "For simplicity, assume:\n",
    "- Hidden state size = 2\n",
    "- Initial hidden state: `h_0 = [0, 0]`\n",
    "- Weight matrices: `W_x`, `W_h`, and bias `b` (omitted explicit values for clarity)\n",
    "\n",
    "The RNN computes at each timestep:\n",
    "\\[\n",
    "h_t = \\tanh(W_x \\cdot x_t + W_h \\cdot h_{t-1} + b)\n",
    "\\]\n",
    "\n",
    "#### Step-by-Step\n",
    "1. **First Token: `\"What\"`**\n",
    "   - \\( x_1 = [1, 0.5] \\)\n",
    "   - \\( h_1 = \\tanh(W_x \\cdot [1, 0.5] + W_h \\cdot [0, 0] + b) \\)\n",
    "   - Result: \\( h_1 = [0.8, 0.6] \\) (example value)\n",
    "\n",
    "2. **Second Token: `\"a\"`**\n",
    "   - \\( x_2 = [0.2, 0.1] \\)\n",
    "   - \\( h_2 = \\tanh(W_x \\cdot [0.2, 0.1] + W_h \\cdot [0.8, 0.6] + b) \\)\n",
    "   - Result: \\( h_2 = [0.7, 0.5] \\)\n",
    "\n",
    "3. **After `\"goal,\"** and `\"wow.\"**\n",
    "   - Gradually builds up meaningful context:\n",
    "     - \\( h_3 = [0.9, 0.7] \\), \\( h_4 = [1.0, 0.8] \\)\n",
    "\n",
    "4. **Padding Tokens: `0`**\n",
    "   - \\( x_5 = [0, 0] \\), \\( x_6 = [0, 0] \\), etc.\n",
    "   - For these, \\( h_t = \\tanh(W_x \\cdot [0, 0] + W_h \\cdot h_{t-1} + b) \\).\n",
    "   - Since \\( x_t = [0, 0] \\), only \\( W_h \\cdot h_{t-1} \\) contributes. However, over multiple padding steps, the hidden state \\( h_t \\) starts to decay:\n",
    "     - \\( h_5 \\approx [0.6, 0.4] \\)\n",
    "     - \\( h_6 \\approx [0.3, 0.2] \\)\n",
    "     - Eventually, \\( h_t \\approx [0, 0] \\).\n",
    "\n",
    "### Key Observations\n",
    "- **Information Loss**: The meaningful context \\( h_4 = [1.0, 0.8] \\) (derived from `\"What a goal, wow.\"`) decays to near-zero as padding dominates.\n",
    "- **Learning Challenges**: During training, the RNN might learn to ignore later timesteps entirely, assuming they don’t contain useful information.\n",
    "\n",
    "</details>"
   ]
  },
  {
   "cell_type": "markdown",
   "id": "4d464a3c",
   "metadata": {
    "papermill": {
     "duration": 0.443862,
     "end_time": "2025-01-02T22:16:51.662810",
     "exception": false,
     "start_time": "2025-01-02T22:16:51.218948",
     "status": "completed"
    },
    "tags": []
   },
   "source": [
    "We can use a mask to ignore zeros during computation and training. This helps the RNN focus only on the meaningful parts of the sequence.\n",
    "This is done by setting `mask_zero` equal to true in the embedding layer, and it propagates the mask downstream to all layers that accept it."
   ]
  },
  {
   "cell_type": "code",
   "execution_count": 39,
   "id": "6c9b3789",
   "metadata": {
    "execution": {
     "iopub.execute_input": "2025-01-02T22:16:52.411027Z",
     "iopub.status.busy": "2025-01-02T22:16:52.410688Z",
     "iopub.status.idle": "2025-01-02T22:18:57.266473Z",
     "shell.execute_reply": "2025-01-02T22:18:57.265421Z"
    },
    "papermill": {
     "duration": 125.231091,
     "end_time": "2025-01-02T22:18:57.268196",
     "exception": false,
     "start_time": "2025-01-02T22:16:52.037105",
     "status": "completed"
    },
    "tags": []
   },
   "outputs": [
    {
     "name": "stdout",
     "output_type": "stream",
     "text": [
      "Epoch 1/5\n",
      "704/704 [==============================] - 34s 43ms/step - loss: 0.5640 - accuracy: 0.7086 - val_loss: 0.5460 - val_accuracy: 0.7436\n",
      "Epoch 2/5\n",
      "704/704 [==============================] - 23s 32ms/step - loss: 0.4032 - accuracy: 0.8260 - val_loss: 0.3736 - val_accuracy: 0.8400\n",
      "Epoch 3/5\n",
      "704/704 [==============================] - 22s 32ms/step - loss: 0.3301 - accuracy: 0.8606 - val_loss: 0.3454 - val_accuracy: 0.8484\n",
      "Epoch 4/5\n",
      "704/704 [==============================] - 22s 32ms/step - loss: 0.2883 - accuracy: 0.8812 - val_loss: 0.3017 - val_accuracy: 0.8680\n",
      "Epoch 5/5\n",
      "704/704 [==============================] - 22s 32ms/step - loss: 0.2658 - accuracy: 0.8938 - val_loss: 0.3095 - val_accuracy: 0.8672\n"
     ]
    }
   ],
   "source": [
    "model = tf.keras.Sequential([\n",
    "    text_vec_layer,\n",
    "    tf.keras.layers.Embedding(input_dim = vocab_size, output_dim=128, mask_zero=True),\n",
    "    tf.keras.layers.GRU(128),\n",
    "    tf.keras.layers.Dense(1, activation='sigmoid')\n",
    "\n",
    "])\n",
    "\n",
    "model.compile(loss='binary_crossentropy', optimizer='adam',metrics=['accuracy'])\n",
    "history2 = model.fit(train_set, validation_data=valid_set, epochs=5)"
   ]
  },
  {
   "cell_type": "markdown",
   "id": "665b7117",
   "metadata": {
    "papermill": {
     "duration": 0.502657,
     "end_time": "2025-01-02T22:18:58.243354",
     "exception": false,
     "start_time": "2025-01-02T22:18:57.740697",
     "status": "completed"
    },
    "tags": []
   },
   "source": [
    "The model now is capable to learn and performing well!"
   ]
  },
  {
   "cell_type": "markdown",
   "id": "0a564fcd",
   "metadata": {
    "papermill": {
     "duration": 0.510022,
     "end_time": "2025-01-02T22:18:59.208124",
     "exception": false,
     "start_time": "2025-01-02T22:18:58.698102",
     "status": "completed"
    },
    "tags": []
   },
   "source": [
    "<details>\n",
    "<summary><h3>Why is masking needed in internal layers, and how does padding affect the input layer?</h3></summary>\n",
    "\n",
    "### Question:\n",
    "**Why do we need masking in the internal layers (not just the first one), and how does padding zeros only in the input layer affect the sequence processing?**\n",
    "\n",
    "### Answer:\n",
    "1. Propagation of Padding Effect\n",
    "Even though the first layer (e.g., an embedding or RNN) processes the padded input and replaces explicit zeros with meaningful values (e.g., the previous timestep's hidden state), those padding steps still represent \"invalid\" parts of the sequence.\n",
    "Without a mask, internal layers may treat these invalid timesteps as meaningful, which can corrupt the learned representations.\n",
    "For example:\n",
    "\n",
    "Suppose the input sequence is [word1, word2, 0, 0], and the RNN replaces the padding steps with the hidden state of word2.\n",
    "If an internal RNN or dense layer operates on these outputs without masking, it may treat the repeated values from word2 as meaningful information, skewing the results.\n",
    "\n",
    "</details>"
   ]
  },
  {
   "cell_type": "code",
   "execution_count": 40,
   "id": "0e5ed8aa",
   "metadata": {
    "execution": {
     "iopub.execute_input": "2025-01-02T22:19:00.176544Z",
     "iopub.status.busy": "2025-01-02T22:19:00.176218Z",
     "iopub.status.idle": "2025-01-02T22:21:15.535311Z",
     "shell.execute_reply": "2025-01-02T22:21:15.534402Z"
    },
    "papermill": {
     "duration": 135.875082,
     "end_time": "2025-01-02T22:21:15.536657",
     "exception": false,
     "start_time": "2025-01-02T22:18:59.661575",
     "status": "completed"
    },
    "tags": []
   },
   "outputs": [
    {
     "name": "stdout",
     "output_type": "stream",
     "text": [
      "Epoch 1/5\n",
      "704/704 [==============================] - 40s 49ms/step - loss: 0.5147 - accuracy: 0.7384 - val_loss: 0.3631 - val_accuracy: 0.8508\n",
      "Epoch 2/5\n",
      "704/704 [==============================] - 24s 35ms/step - loss: 0.3400 - accuracy: 0.8584 - val_loss: 0.3099 - val_accuracy: 0.8652\n",
      "Epoch 3/5\n",
      "704/704 [==============================] - 24s 33ms/step - loss: 0.2928 - accuracy: 0.8781 - val_loss: 0.2972 - val_accuracy: 0.8820\n",
      "Epoch 4/5\n",
      "704/704 [==============================] - 23s 33ms/step - loss: 0.2703 - accuracy: 0.8909 - val_loss: 0.3017 - val_accuracy: 0.8708\n",
      "Epoch 5/5\n",
      "704/704 [==============================] - 23s 33ms/step - loss: 0.2551 - accuracy: 0.8979 - val_loss: 0.3244 - val_accuracy: 0.8680\n"
     ]
    }
   ],
   "source": [
    "tf.random.set_seed(42)\n",
    "inputs = tf.keras.layers.Input(shape=[], dtype=tf.string)\n",
    "token_ids = text_vec_layer(inputs)\n",
    "mask = tf.math.not_equal(token_ids,0)\n",
    "Z = tf.keras.layers.Embedding(input_dim = vocab_size, output_dim=128)(token_ids)\n",
    "Z = tf.keras.layers.GRU(128, dropout=.2)(Z, mask=mask)\n",
    "outputs = tf.keras.layers.Dense(1, activation='sigmoid')(Z)\n",
    "model = tf.keras.Model(inputs=[inputs], outputs=[outputs])\n",
    "\n",
    "model.compile(loss=\"binary_crossentropy\", optimizer=\"nadam\",\n",
    "              metrics=[\"accuracy\"])\n",
    "history3 = model.fit(train_set, validation_data=valid_set, epochs=5)"
   ]
  },
  {
   "cell_type": "markdown",
   "id": "c0799a38",
   "metadata": {
    "papermill": {
     "duration": 0.618008,
     "end_time": "2025-01-02T22:21:16.695248",
     "exception": false,
     "start_time": "2025-01-02T22:21:16.077240",
     "status": "completed"
    },
    "tags": []
   },
   "source": [
    "#### Last approach using ragged tensors"
   ]
  },
  {
   "cell_type": "code",
   "execution_count": 41,
   "id": "c58a63c9",
   "metadata": {
    "execution": {
     "iopub.execute_input": "2025-01-02T22:21:17.763069Z",
     "iopub.status.busy": "2025-01-02T22:21:17.762627Z",
     "iopub.status.idle": "2025-01-02T22:21:20.685370Z",
     "shell.execute_reply": "2025-01-02T22:21:20.684422Z"
    },
    "papermill": {
     "duration": 3.455015,
     "end_time": "2025-01-02T22:21:20.686873",
     "exception": false,
     "start_time": "2025-01-02T22:21:17.231858",
     "status": "completed"
    },
    "tags": []
   },
   "outputs": [
    {
     "data": {
      "text/plain": [
       "<tf.RaggedTensor [[86, 18], [11, 7, 1, 116, 217]]>"
      ]
     },
     "execution_count": 41,
     "metadata": {},
     "output_type": "execute_result"
    }
   ],
   "source": [
    "text_vec_layer_ragged = tf.keras.layers.TextVectorization(max_tokens=vocab_size, ragged=True)\n",
    "text_vec_layer_ragged.adapt(train_set.map(lambda review, label: review))\n",
    "text_vec_layer_ragged([\"Great movie!\", \"This is DiCaprio's best role.\"])"
   ]
  },
  {
   "cell_type": "code",
   "execution_count": 42,
   "id": "69099e4d",
   "metadata": {
    "execution": {
     "iopub.execute_input": "2025-01-02T22:21:21.875575Z",
     "iopub.status.busy": "2025-01-02T22:21:21.875207Z",
     "iopub.status.idle": "2025-01-02T22:21:21.889967Z",
     "shell.execute_reply": "2025-01-02T22:21:21.889186Z"
    },
    "papermill": {
     "duration": 0.614622,
     "end_time": "2025-01-02T22:21:21.891200",
     "exception": false,
     "start_time": "2025-01-02T22:21:21.276578",
     "status": "completed"
    },
    "tags": []
   },
   "outputs": [
    {
     "data": {
      "text/plain": [
       "<tf.Tensor: shape=(2, 5), dtype=int64, numpy=\n",
       "array([[ 86,  18,   0,   0,   0],\n",
       "       [ 11,   7,   1, 116, 217]])>"
      ]
     },
     "execution_count": 42,
     "metadata": {},
     "output_type": "execute_result"
    }
   ],
   "source": [
    "text_vec_layer([\"Great movie!\", \"This is DiCaprio's best role.\"])"
   ]
  },
  {
   "cell_type": "code",
   "execution_count": 43,
   "id": "7564d5a3",
   "metadata": {
    "execution": {
     "iopub.execute_input": "2025-01-02T22:21:23.022862Z",
     "iopub.status.busy": "2025-01-02T22:21:23.022519Z",
     "iopub.status.idle": "2025-01-02T22:23:39.563015Z",
     "shell.execute_reply": "2025-01-02T22:23:39.562208Z"
    },
    "papermill": {
     "duration": 137.131691,
     "end_time": "2025-01-02T22:23:39.564653",
     "exception": false,
     "start_time": "2025-01-02T22:21:22.432962",
     "status": "completed"
    },
    "tags": []
   },
   "outputs": [
    {
     "name": "stdout",
     "output_type": "stream",
     "text": [
      "Epoch 1/5\n",
      "704/704 [==============================] - 38s 50ms/step - loss: 0.5419 - accuracy: 0.7215 - val_loss: 0.4026 - val_accuracy: 0.8232\n",
      "Epoch 2/5\n",
      "704/704 [==============================] - 25s 36ms/step - loss: 0.3623 - accuracy: 0.8462 - val_loss: 0.3886 - val_accuracy: 0.8252\n",
      "Epoch 3/5\n",
      "704/704 [==============================] - 25s 36ms/step - loss: 0.2947 - accuracy: 0.8777 - val_loss: 0.3057 - val_accuracy: 0.8768\n",
      "Epoch 4/5\n",
      "704/704 [==============================] - 24s 34ms/step - loss: 0.2737 - accuracy: 0.8870 - val_loss: 0.3053 - val_accuracy: 0.8720\n",
      "Epoch 5/5\n",
      "704/704 [==============================] - 24s 34ms/step - loss: 0.2573 - accuracy: 0.8948 - val_loss: 0.3092 - val_accuracy: 0.8664\n"
     ]
    }
   ],
   "source": [
    "embed_size = 128\n",
    "tf.random.set_seed(42)\n",
    "model = tf.keras.Sequential([\n",
    "    text_vec_layer_ragged,\n",
    "    tf.keras.layers.Embedding(vocab_size, embed_size),\n",
    "    tf.keras.layers.GRU(128),\n",
    "    tf.keras.layers.Dense(1, activation=\"sigmoid\")\n",
    "])\n",
    "model.compile(loss=\"binary_crossentropy\", optimizer=\"nadam\",\n",
    "              metrics=[\"accuracy\"])\n",
    "history4 = model.fit(train_set, validation_data=valid_set, epochs=5)"
   ]
  },
  {
   "cell_type": "markdown",
   "id": "4aabfe14",
   "metadata": {
    "papermill": {
     "duration": 0.671499,
     "end_time": "2025-01-02T22:23:40.869789",
     "exception": false,
     "start_time": "2025-01-02T22:23:40.198290",
     "status": "completed"
    },
    "tags": []
   },
   "source": [
    "#### Using TensorBoard for Embedding Visualization"
   ]
  },
  {
   "cell_type": "code",
   "execution_count": 44,
   "id": "64c3eb7d",
   "metadata": {
    "execution": {
     "iopub.execute_input": "2025-01-02T22:23:42.189510Z",
     "iopub.status.busy": "2025-01-02T22:23:42.188976Z",
     "iopub.status.idle": "2025-01-02T22:23:42.532235Z",
     "shell.execute_reply": "2025-01-02T22:23:42.531390Z"
    },
    "papermill": {
     "duration": 0.970952,
     "end_time": "2025-01-02T22:23:42.533620",
     "exception": false,
     "start_time": "2025-01-02T22:23:41.562668",
     "status": "completed"
    },
    "tags": []
   },
   "outputs": [
    {
     "name": "stdout",
     "output_type": "stream",
     "text": [
      "Model: \"sequential_8\"\n",
      "_________________________________________________________________\n",
      " Layer (type)                Output Shape              Param #   \n",
      "=================================================================\n",
      " text_vectorization_2 (Text  (None, None)              0         \n",
      " Vectorization)                                                  \n",
      "                                                                 \n",
      " embedding_7 (Embedding)     (None, None, 128)         128000    \n",
      "                                                                 \n",
      " gru_7 (GRU)                 (None, 128)               99072     \n",
      "                                                                 \n",
      " dense_7 (Dense)             (None, 1)                 129       \n",
      "                                                                 \n",
      "=================================================================\n",
      "Total params: 227201 (887.50 KB)\n",
      "Trainable params: 227201 (887.50 KB)\n",
      "Non-trainable params: 0 (0.00 Byte)\n",
      "_________________________________________________________________\n"
     ]
    }
   ],
   "source": [
    "embed_size = 128\n",
    "tf.random.set_seed(42)\n",
    "model = tf.keras.Sequential([\n",
    "    text_vec_layer_ragged,\n",
    "    tf.keras.layers.Embedding(vocab_size, embed_size),\n",
    "    tf.keras.layers.GRU(128),\n",
    "    tf.keras.layers.Dense(1, activation=\"sigmoid\")\n",
    "])\n",
    "model.compile(loss=\"binary_crossentropy\", optimizer=\"nadam\",\n",
    "              metrics=[\"accuracy\"])\n",
    "\n",
    "model.summary()"
   ]
  },
  {
   "cell_type": "code",
   "execution_count": 45,
   "id": "b0374e68",
   "metadata": {
    "execution": {
     "iopub.execute_input": "2025-01-02T22:23:43.874245Z",
     "iopub.status.busy": "2025-01-02T22:23:43.873850Z",
     "iopub.status.idle": "2025-01-02T22:26:01.995584Z",
     "shell.execute_reply": "2025-01-02T22:26:01.994582Z"
    },
    "papermill": {
     "duration": 138.760421,
     "end_time": "2025-01-02T22:26:01.997149",
     "exception": false,
     "start_time": "2025-01-02T22:23:43.236728",
     "status": "completed"
    },
    "tags": []
   },
   "outputs": [
    {
     "name": "stdout",
     "output_type": "stream",
     "text": [
      "Epoch 1/5\n",
      "704/704 [==============================] - 38s 51ms/step - loss: 0.6422 - accuracy: 0.6452 - val_loss: 0.5189 - val_accuracy: 0.7692\n",
      "Epoch 2/5\n",
      "704/704 [==============================] - 25s 36ms/step - loss: 0.4490 - accuracy: 0.7947 - val_loss: 0.4041 - val_accuracy: 0.8312\n",
      "Epoch 3/5\n",
      "704/704 [==============================] - 25s 35ms/step - loss: 0.3710 - accuracy: 0.8416 - val_loss: 0.3345 - val_accuracy: 0.8580\n",
      "Epoch 4/5\n",
      "704/704 [==============================] - 25s 35ms/step - loss: 0.3019 - accuracy: 0.8753 - val_loss: 0.3437 - val_accuracy: 0.8568\n",
      "Epoch 5/5\n",
      "704/704 [==============================] - 25s 35ms/step - loss: 0.2733 - accuracy: 0.8884 - val_loss: 0.3233 - val_accuracy: 0.8668\n"
     ]
    }
   ],
   "source": [
    "\n",
    "vocab = text_vec_layer_ragged.get_vocabulary()\n",
    "\n",
    "# Create a metadata file for your words\n",
    "metadata_file = \"metadata.tsv\"\n",
    "with open(metadata_file, 'w') as f:\n",
    "    for word in vocab:\n",
    "        f.write(f\"{word}\\n\")\n",
    "\n",
    "tensorboard_callback = tf.keras.callbacks.TensorBoard(\n",
    "    log_dir=\"./logs\",\n",
    "    embeddings_freq=1,\n",
    "    embeddings_layer_names=['embedding'], \n",
    "    embeddings_metadata=metadata_file,\n",
    "    update_freq='epoch'\n",
    ")\n",
    "\n",
    "\n",
    "history5 = model.fit(\n",
    "    train_set,  \n",
    "    validation_data=valid_set,  \n",
    "    epochs=5,\n",
    "    callbacks=[tensorboard_callback]\n",
    ")"
   ]
  }
 ],
 "metadata": {
  "accelerator": "GPU",
  "colab": {
   "gpuType": "T4",
   "provenance": []
  },
  "kaggle": {
   "accelerator": "gpu",
   "dataSources": [],
   "dockerImageVersionId": 30823,
   "isGpuEnabled": true,
   "isInternetEnabled": true,
   "language": "python",
   "sourceType": "notebook"
  },
  "kernelspec": {
   "display_name": "Python 3",
   "language": "python",
   "name": "python3"
  },
  "language_info": {
   "codemirror_mode": {
    "name": "ipython",
    "version": 3
   },
   "file_extension": ".py",
   "mimetype": "text/x-python",
   "name": "python",
   "nbconvert_exporter": "python",
   "pygments_lexer": "ipython3",
   "version": "3.10.12"
  },
  "papermill": {
   "default_parameters": {},
   "duration": 1288.023502,
   "end_time": "2025-01-02T22:26:06.524951",
   "environment_variables": {},
   "exception": null,
   "input_path": "__notebook__.ipynb",
   "output_path": "__notebook__.ipynb",
   "parameters": {},
   "start_time": "2025-01-02T22:04:38.501449",
   "version": "2.6.0"
  },
  "widgets": {
   "application/vnd.jupyter.widget-state+json": {
    "state": {
     "006d783bd417487cb855db80d7f4fbde": {
      "model_module": "@jupyter-widgets/controls",
      "model_module_version": "2.0.0",
      "model_name": "ProgressStyleModel",
      "state": {
       "_model_module": "@jupyter-widgets/controls",
       "_model_module_version": "2.0.0",
       "_model_name": "ProgressStyleModel",
       "_view_count": null,
       "_view_module": "@jupyter-widgets/base",
       "_view_module_version": "2.0.0",
       "_view_name": "StyleView",
       "bar_color": null,
       "description_width": ""
      }
     },
     "0138faa0e550409cb5ba3fcb32dec29a": {
      "model_module": "@jupyter-widgets/controls",
      "model_module_version": "2.0.0",
      "model_name": "HTMLModel",
      "state": {
       "_dom_classes": [],
       "_model_module": "@jupyter-widgets/controls",
       "_model_module_version": "2.0.0",
       "_model_name": "HTMLModel",
       "_view_count": null,
       "_view_module": "@jupyter-widgets/controls",
       "_view_module_version": "2.0.0",
       "_view_name": "HTMLView",
       "description": "",
       "description_allow_html": false,
       "layout": "IPY_MODEL_2909bba25d104e32b8848921b617cf5e",
       "placeholder": "​",
       "style": "IPY_MODEL_aae082fb24a2435d8cf39e3410401e18",
       "tabbable": null,
       "tooltip": null,
       "value": " 0/25000 [00:00&lt;?, ? examples/s]"
      }
     },
     "01887045a4e14a3f906dd505160b6cf3": {
      "model_module": "@jupyter-widgets/controls",
      "model_module_version": "2.0.0",
      "model_name": "HTMLModel",
      "state": {
       "_dom_classes": [],
       "_model_module": "@jupyter-widgets/controls",
       "_model_module_version": "2.0.0",
       "_model_name": "HTMLModel",
       "_view_count": null,
       "_view_module": "@jupyter-widgets/controls",
       "_view_module_version": "2.0.0",
       "_view_name": "HTMLView",
       "description": "",
       "description_allow_html": false,
       "layout": "IPY_MODEL_8cea55777e244814bcd7fe9a9fbdbc67",
       "placeholder": "​",
       "style": "IPY_MODEL_838eff416e904ba2b81d63773b574c95",
       "tabbable": null,
       "tooltip": null,
       "value": " 45420/50000 [00:11&lt;00:00, 5275.54 examples/s]"
      }
     },
     "07b660eb9f4d449d885efe3c5c2f5237": {
      "model_module": "@jupyter-widgets/base",
      "model_module_version": "2.0.0",
      "model_name": "LayoutModel",
      "state": {
       "_model_module": "@jupyter-widgets/base",
       "_model_module_version": "2.0.0",
       "_model_name": "LayoutModel",
       "_view_count": null,
       "_view_module": "@jupyter-widgets/base",
       "_view_module_version": "2.0.0",
       "_view_name": "LayoutView",
       "align_content": null,
       "align_items": null,
       "align_self": null,
       "border_bottom": null,
       "border_left": null,
       "border_right": null,
       "border_top": null,
       "bottom": null,
       "display": null,
       "flex": null,
       "flex_flow": null,
       "grid_area": null,
       "grid_auto_columns": null,
       "grid_auto_flow": null,
       "grid_auto_rows": null,
       "grid_column": null,
       "grid_gap": null,
       "grid_row": null,
       "grid_template_areas": null,
       "grid_template_columns": null,
       "grid_template_rows": null,
       "height": null,
       "justify_content": null,
       "justify_items": null,
       "left": null,
       "margin": null,
       "max_height": null,
       "max_width": null,
       "min_height": null,
       "min_width": null,
       "object_fit": null,
       "object_position": null,
       "order": null,
       "overflow": null,
       "padding": null,
       "right": null,
       "top": null,
       "visibility": null,
       "width": null
      }
     },
     "09edbd9181a34c86a0aae5e39caf353c": {
      "model_module": "@jupyter-widgets/controls",
      "model_module_version": "2.0.0",
      "model_name": "HBoxModel",
      "state": {
       "_dom_classes": [],
       "_model_module": "@jupyter-widgets/controls",
       "_model_module_version": "2.0.0",
       "_model_name": "HBoxModel",
       "_view_count": null,
       "_view_module": "@jupyter-widgets/controls",
       "_view_module_version": "2.0.0",
       "_view_name": "HBoxView",
       "box_style": "",
       "children": [
        "IPY_MODEL_2bdb21fc177a45c78a9f67462009aca3",
        "IPY_MODEL_cf9e3007fbf44f929f500b8069e7da39",
        "IPY_MODEL_7e0de7b9d4c643fcbf2d7b7d60d7fabd"
       ],
       "layout": "IPY_MODEL_9d9679d1f4f94fe9b9bb09361bf706e8",
       "tabbable": null,
       "tooltip": null
      }
     },
     "0bb4e0c7945242d8a8497b04b5e6c5cc": {
      "model_module": "@jupyter-widgets/controls",
      "model_module_version": "2.0.0",
      "model_name": "HTMLModel",
      "state": {
       "_dom_classes": [],
       "_model_module": "@jupyter-widgets/controls",
       "_model_module_version": "2.0.0",
       "_model_name": "HTMLModel",
       "_view_count": null,
       "_view_module": "@jupyter-widgets/controls",
       "_view_module_version": "2.0.0",
       "_view_name": "HTMLView",
       "description": "",
       "description_allow_html": false,
       "layout": "IPY_MODEL_fcf70b6d0a7e4ca5a1f5671001231f50",
       "placeholder": "​",
       "style": "IPY_MODEL_c1e51fbeb56d4fbba5d6346b7e650083",
       "tabbable": null,
       "tooltip": null,
       "value": " 1/1 [00:27&lt;00:00, 27.91s/ url]"
      }
     },
     "0d04c0bc829c44b4a91c97ac03364568": {
      "model_module": "@jupyter-widgets/base",
      "model_module_version": "2.0.0",
      "model_name": "LayoutModel",
      "state": {
       "_model_module": "@jupyter-widgets/base",
       "_model_module_version": "2.0.0",
       "_model_name": "LayoutModel",
       "_view_count": null,
       "_view_module": "@jupyter-widgets/base",
       "_view_module_version": "2.0.0",
       "_view_name": "LayoutView",
       "align_content": null,
       "align_items": null,
       "align_self": null,
       "border_bottom": null,
       "border_left": null,
       "border_right": null,
       "border_top": null,
       "bottom": null,
       "display": null,
       "flex": null,
       "flex_flow": null,
       "grid_area": null,
       "grid_auto_columns": null,
       "grid_auto_flow": null,
       "grid_auto_rows": null,
       "grid_column": null,
       "grid_gap": null,
       "grid_row": null,
       "grid_template_areas": null,
       "grid_template_columns": null,
       "grid_template_rows": null,
       "height": null,
       "justify_content": null,
       "justify_items": null,
       "left": null,
       "margin": null,
       "max_height": null,
       "max_width": null,
       "min_height": null,
       "min_width": null,
       "object_fit": null,
       "object_position": null,
       "order": null,
       "overflow": null,
       "padding": null,
       "right": null,
       "top": null,
       "visibility": null,
       "width": null
      }
     },
     "0fcc3319941b46d887ffa927007478c6": {
      "model_module": "@jupyter-widgets/controls",
      "model_module_version": "2.0.0",
      "model_name": "FloatProgressModel",
      "state": {
       "_dom_classes": [],
       "_model_module": "@jupyter-widgets/controls",
       "_model_module_version": "2.0.0",
       "_model_name": "FloatProgressModel",
       "_view_count": null,
       "_view_module": "@jupyter-widgets/controls",
       "_view_module_version": "2.0.0",
       "_view_name": "ProgressView",
       "bar_style": "",
       "description": "",
       "description_allow_html": false,
       "layout": "IPY_MODEL_c8db6199224940e78e61771951ae2139",
       "max": 25000.0,
       "min": 0.0,
       "orientation": "horizontal",
       "style": "IPY_MODEL_a474fca6d75c48f5a91cf7c90d161fed",
       "tabbable": null,
       "tooltip": null,
       "value": 25000.0
      }
     },
     "11b225e48fbc40a886a7b598ebf118ad": {
      "model_module": "@jupyter-widgets/base",
      "model_module_version": "2.0.0",
      "model_name": "LayoutModel",
      "state": {
       "_model_module": "@jupyter-widgets/base",
       "_model_module_version": "2.0.0",
       "_model_name": "LayoutModel",
       "_view_count": null,
       "_view_module": "@jupyter-widgets/base",
       "_view_module_version": "2.0.0",
       "_view_name": "LayoutView",
       "align_content": null,
       "align_items": null,
       "align_self": null,
       "border_bottom": null,
       "border_left": null,
       "border_right": null,
       "border_top": null,
       "bottom": null,
       "display": null,
       "flex": null,
       "flex_flow": null,
       "grid_area": null,
       "grid_auto_columns": null,
       "grid_auto_flow": null,
       "grid_auto_rows": null,
       "grid_column": null,
       "grid_gap": null,
       "grid_row": null,
       "grid_template_areas": null,
       "grid_template_columns": null,
       "grid_template_rows": null,
       "height": null,
       "justify_content": null,
       "justify_items": null,
       "left": null,
       "margin": null,
       "max_height": null,
       "max_width": null,
       "min_height": null,
       "min_width": null,
       "object_fit": null,
       "object_position": null,
       "order": null,
       "overflow": null,
       "padding": null,
       "right": null,
       "top": null,
       "visibility": "hidden",
       "width": null
      }
     },
     "155a4c839cce4bf8a75fb7b75af7767b": {
      "model_module": "@jupyter-widgets/controls",
      "model_module_version": "2.0.0",
      "model_name": "HBoxModel",
      "state": {
       "_dom_classes": [],
       "_model_module": "@jupyter-widgets/controls",
       "_model_module_version": "2.0.0",
       "_model_name": "HBoxModel",
       "_view_count": null,
       "_view_module": "@jupyter-widgets/controls",
       "_view_module_version": "2.0.0",
       "_view_name": "HBoxView",
       "box_style": "",
       "children": [
        "IPY_MODEL_1564a657c4be42bb885cf9fba3c94a7d",
        "IPY_MODEL_6d6574e7f8554715b70063a7da0f2000",
        "IPY_MODEL_1955b26a062b47ba9941b6b2410fbda0"
       ],
       "layout": "IPY_MODEL_90f111e495264d3cab663c7e30612641",
       "tabbable": null,
       "tooltip": null
      }
     },
     "1564a657c4be42bb885cf9fba3c94a7d": {
      "model_module": "@jupyter-widgets/controls",
      "model_module_version": "2.0.0",
      "model_name": "HTMLModel",
      "state": {
       "_dom_classes": [],
       "_model_module": "@jupyter-widgets/controls",
       "_model_module_version": "2.0.0",
       "_model_name": "HTMLModel",
       "_view_count": null,
       "_view_module": "@jupyter-widgets/controls",
       "_view_module_version": "2.0.0",
       "_view_name": "HTMLView",
       "description": "",
       "description_allow_html": false,
       "layout": "IPY_MODEL_20b1c7ec07784f97a64fbe559817fe9d",
       "placeholder": "​",
       "style": "IPY_MODEL_6d840733ec40493f962933d110ad201c",
       "tabbable": null,
       "tooltip": null,
       "value": "Dl Size...: 100%"
      }
     },
     "15e8bf67589a497b965829dd6bff0541": {
      "model_module": "@jupyter-widgets/base",
      "model_module_version": "2.0.0",
      "model_name": "LayoutModel",
      "state": {
       "_model_module": "@jupyter-widgets/base",
       "_model_module_version": "2.0.0",
       "_model_name": "LayoutModel",
       "_view_count": null,
       "_view_module": "@jupyter-widgets/base",
       "_view_module_version": "2.0.0",
       "_view_name": "LayoutView",
       "align_content": null,
       "align_items": null,
       "align_self": null,
       "border_bottom": null,
       "border_left": null,
       "border_right": null,
       "border_top": null,
       "bottom": null,
       "display": null,
       "flex": null,
       "flex_flow": null,
       "grid_area": null,
       "grid_auto_columns": null,
       "grid_auto_flow": null,
       "grid_auto_rows": null,
       "grid_column": null,
       "grid_gap": null,
       "grid_row": null,
       "grid_template_areas": null,
       "grid_template_columns": null,
       "grid_template_rows": null,
       "height": null,
       "justify_content": null,
       "justify_items": null,
       "left": null,
       "margin": null,
       "max_height": null,
       "max_width": null,
       "min_height": null,
       "min_width": null,
       "object_fit": null,
       "object_position": null,
       "order": null,
       "overflow": null,
       "padding": null,
       "right": null,
       "top": null,
       "visibility": null,
       "width": null
      }
     },
     "1955b26a062b47ba9941b6b2410fbda0": {
      "model_module": "@jupyter-widgets/controls",
      "model_module_version": "2.0.0",
      "model_name": "HTMLModel",
      "state": {
       "_dom_classes": [],
       "_model_module": "@jupyter-widgets/controls",
       "_model_module_version": "2.0.0",
       "_model_name": "HTMLModel",
       "_view_count": null,
       "_view_module": "@jupyter-widgets/controls",
       "_view_module_version": "2.0.0",
       "_view_name": "HTMLView",
       "description": "",
       "description_allow_html": false,
       "layout": "IPY_MODEL_3bbb5b343af24a19ae61dda648231759",
       "placeholder": "​",
       "style": "IPY_MODEL_6dd4d656bda846d0a0ac2c5e34c38fd0",
       "tabbable": null,
       "tooltip": null,
       "value": " 80/80 [00:27&lt;00:00,  4.87 MiB/s]"
      }
     },
     "1a7311695a66421eb7d557aedf6f0b8b": {
      "model_module": "@jupyter-widgets/base",
      "model_module_version": "2.0.0",
      "model_name": "LayoutModel",
      "state": {
       "_model_module": "@jupyter-widgets/base",
       "_model_module_version": "2.0.0",
       "_model_name": "LayoutModel",
       "_view_count": null,
       "_view_module": "@jupyter-widgets/base",
       "_view_module_version": "2.0.0",
       "_view_name": "LayoutView",
       "align_content": null,
       "align_items": null,
       "align_self": null,
       "border_bottom": null,
       "border_left": null,
       "border_right": null,
       "border_top": null,
       "bottom": null,
       "display": null,
       "flex": null,
       "flex_flow": null,
       "grid_area": null,
       "grid_auto_columns": null,
       "grid_auto_flow": null,
       "grid_auto_rows": null,
       "grid_column": null,
       "grid_gap": null,
       "grid_row": null,
       "grid_template_areas": null,
       "grid_template_columns": null,
       "grid_template_rows": null,
       "height": null,
       "justify_content": null,
       "justify_items": null,
       "left": null,
       "margin": null,
       "max_height": null,
       "max_width": null,
       "min_height": null,
       "min_width": null,
       "object_fit": null,
       "object_position": null,
       "order": null,
       "overflow": null,
       "padding": null,
       "right": null,
       "top": null,
       "visibility": null,
       "width": null
      }
     },
     "1b6cf434d59f4892b46ff8837a49a5b9": {
      "model_module": "@jupyter-widgets/controls",
      "model_module_version": "2.0.0",
      "model_name": "HTMLModel",
      "state": {
       "_dom_classes": [],
       "_model_module": "@jupyter-widgets/controls",
       "_model_module_version": "2.0.0",
       "_model_name": "HTMLModel",
       "_view_count": null,
       "_view_module": "@jupyter-widgets/controls",
       "_view_module_version": "2.0.0",
       "_view_name": "HTMLView",
       "description": "",
       "description_allow_html": false,
       "layout": "IPY_MODEL_9a514e285cbf4d4ea7d249714d3df9a8",
       "placeholder": "​",
       "style": "IPY_MODEL_f9b65193060b417399a9169bb2babb8d",
       "tabbable": null,
       "tooltip": null,
       "value": "Generating splits...: 100%"
      }
     },
     "1d9a6d40bc1d4670a91e6af345d4f835": {
      "model_module": "@jupyter-widgets/base",
      "model_module_version": "2.0.0",
      "model_name": "LayoutModel",
      "state": {
       "_model_module": "@jupyter-widgets/base",
       "_model_module_version": "2.0.0",
       "_model_name": "LayoutModel",
       "_view_count": null,
       "_view_module": "@jupyter-widgets/base",
       "_view_module_version": "2.0.0",
       "_view_name": "LayoutView",
       "align_content": null,
       "align_items": null,
       "align_self": null,
       "border_bottom": null,
       "border_left": null,
       "border_right": null,
       "border_top": null,
       "bottom": null,
       "display": null,
       "flex": null,
       "flex_flow": null,
       "grid_area": null,
       "grid_auto_columns": null,
       "grid_auto_flow": null,
       "grid_auto_rows": null,
       "grid_column": null,
       "grid_gap": null,
       "grid_row": null,
       "grid_template_areas": null,
       "grid_template_columns": null,
       "grid_template_rows": null,
       "height": null,
       "justify_content": null,
       "justify_items": null,
       "left": null,
       "margin": null,
       "max_height": null,
       "max_width": null,
       "min_height": null,
       "min_width": null,
       "object_fit": null,
       "object_position": null,
       "order": null,
       "overflow": null,
       "padding": null,
       "right": null,
       "top": null,
       "visibility": null,
       "width": null
      }
     },
     "20238ab369684e3bbdff4acdde864429": {
      "model_module": "@jupyter-widgets/controls",
      "model_module_version": "2.0.0",
      "model_name": "FloatProgressModel",
      "state": {
       "_dom_classes": [],
       "_model_module": "@jupyter-widgets/controls",
       "_model_module_version": "2.0.0",
       "_model_name": "FloatProgressModel",
       "_view_count": null,
       "_view_module": "@jupyter-widgets/controls",
       "_view_module_version": "2.0.0",
       "_view_name": "ProgressView",
       "bar_style": "",
       "description": "",
       "description_allow_html": false,
       "layout": "IPY_MODEL_a9dfd17cdeb149229ab0dde587a68efb",
       "max": 25000.0,
       "min": 0.0,
       "orientation": "horizontal",
       "style": "IPY_MODEL_594e2b1748264f7fa7ebc3c81c031fdf",
       "tabbable": null,
       "tooltip": null,
       "value": 25000.0
      }
     },
     "20b1c7ec07784f97a64fbe559817fe9d": {
      "model_module": "@jupyter-widgets/base",
      "model_module_version": "2.0.0",
      "model_name": "LayoutModel",
      "state": {
       "_model_module": "@jupyter-widgets/base",
       "_model_module_version": "2.0.0",
       "_model_name": "LayoutModel",
       "_view_count": null,
       "_view_module": "@jupyter-widgets/base",
       "_view_module_version": "2.0.0",
       "_view_name": "LayoutView",
       "align_content": null,
       "align_items": null,
       "align_self": null,
       "border_bottom": null,
       "border_left": null,
       "border_right": null,
       "border_top": null,
       "bottom": null,
       "display": null,
       "flex": null,
       "flex_flow": null,
       "grid_area": null,
       "grid_auto_columns": null,
       "grid_auto_flow": null,
       "grid_auto_rows": null,
       "grid_column": null,
       "grid_gap": null,
       "grid_row": null,
       "grid_template_areas": null,
       "grid_template_columns": null,
       "grid_template_rows": null,
       "height": null,
       "justify_content": null,
       "justify_items": null,
       "left": null,
       "margin": null,
       "max_height": null,
       "max_width": null,
       "min_height": null,
       "min_width": null,
       "object_fit": null,
       "object_position": null,
       "order": null,
       "overflow": null,
       "padding": null,
       "right": null,
       "top": null,
       "visibility": null,
       "width": null
      }
     },
     "20f1225469b14567b59cd5a5b9bc7da2": {
      "model_module": "@jupyter-widgets/controls",
      "model_module_version": "2.0.0",
      "model_name": "HTMLStyleModel",
      "state": {
       "_model_module": "@jupyter-widgets/controls",
       "_model_module_version": "2.0.0",
       "_model_name": "HTMLStyleModel",
       "_view_count": null,
       "_view_module": "@jupyter-widgets/base",
       "_view_module_version": "2.0.0",
       "_view_name": "StyleView",
       "background": null,
       "description_width": "",
       "font_size": null,
       "text_color": null
      }
     },
     "24f479f02bff4bc6be2aa7c356b62392": {
      "model_module": "@jupyter-widgets/controls",
      "model_module_version": "2.0.0",
      "model_name": "HTMLStyleModel",
      "state": {
       "_model_module": "@jupyter-widgets/controls",
       "_model_module_version": "2.0.0",
       "_model_name": "HTMLStyleModel",
       "_view_count": null,
       "_view_module": "@jupyter-widgets/base",
       "_view_module_version": "2.0.0",
       "_view_name": "StyleView",
       "background": null,
       "description_width": "",
       "font_size": null,
       "text_color": null
      }
     },
     "259506410bf24695af7af2c857c7787c": {
      "model_module": "@jupyter-widgets/controls",
      "model_module_version": "2.0.0",
      "model_name": "HTMLModel",
      "state": {
       "_dom_classes": [],
       "_model_module": "@jupyter-widgets/controls",
       "_model_module_version": "2.0.0",
       "_model_name": "HTMLModel",
       "_view_count": null,
       "_view_module": "@jupyter-widgets/controls",
       "_view_module_version": "2.0.0",
       "_view_name": "HTMLView",
       "description": "",
       "description_allow_html": false,
       "layout": "IPY_MODEL_fd87cbc6380147bdae4c1809c57a87ea",
       "placeholder": "​",
       "style": "IPY_MODEL_956a745abc334d4daae9e557f8f25de4",
       "tabbable": null,
       "tooltip": null,
       "value": "Shuffling /root/tensorflow_datasets/imdb_reviews/plain_text/incomplete.39JGFM_1.0.0/imdb_reviews-test.tfrecord*...:   0%"
      }
     },
     "2909bba25d104e32b8848921b617cf5e": {
      "model_module": "@jupyter-widgets/base",
      "model_module_version": "2.0.0",
      "model_name": "LayoutModel",
      "state": {
       "_model_module": "@jupyter-widgets/base",
       "_model_module_version": "2.0.0",
       "_model_name": "LayoutModel",
       "_view_count": null,
       "_view_module": "@jupyter-widgets/base",
       "_view_module_version": "2.0.0",
       "_view_name": "LayoutView",
       "align_content": null,
       "align_items": null,
       "align_self": null,
       "border_bottom": null,
       "border_left": null,
       "border_right": null,
       "border_top": null,
       "bottom": null,
       "display": null,
       "flex": null,
       "flex_flow": null,
       "grid_area": null,
       "grid_auto_columns": null,
       "grid_auto_flow": null,
       "grid_auto_rows": null,
       "grid_column": null,
       "grid_gap": null,
       "grid_row": null,
       "grid_template_areas": null,
       "grid_template_columns": null,
       "grid_template_rows": null,
       "height": null,
       "justify_content": null,
       "justify_items": null,
       "left": null,
       "margin": null,
       "max_height": null,
       "max_width": null,
       "min_height": null,
       "min_width": null,
       "object_fit": null,
       "object_position": null,
       "order": null,
       "overflow": null,
       "padding": null,
       "right": null,
       "top": null,
       "visibility": null,
       "width": null
      }
     },
     "2bdb21fc177a45c78a9f67462009aca3": {
      "model_module": "@jupyter-widgets/controls",
      "model_module_version": "2.0.0",
      "model_name": "HTMLModel",
      "state": {
       "_dom_classes": [],
       "_model_module": "@jupyter-widgets/controls",
       "_model_module_version": "2.0.0",
       "_model_name": "HTMLModel",
       "_view_count": null,
       "_view_module": "@jupyter-widgets/controls",
       "_view_module_version": "2.0.0",
       "_view_name": "HTMLView",
       "description": "",
       "description_allow_html": false,
       "layout": "IPY_MODEL_0d04c0bc829c44b4a91c97ac03364568",
       "placeholder": "​",
       "style": "IPY_MODEL_747cefd874f04b5eafecd92e57289258",
       "tabbable": null,
       "tooltip": null,
       "value": "Shuffling /root/tensorflow_datasets/imdb_reviews/plain_text/incomplete.39JGFM_1.0.0/imdb_reviews-unsupervised.tfrecord*...:   0%"
      }
     },
     "31f67d1f1d6f4366a2dfceef02cd88ee": {
      "model_module": "@jupyter-widgets/base",
      "model_module_version": "2.0.0",
      "model_name": "LayoutModel",
      "state": {
       "_model_module": "@jupyter-widgets/base",
       "_model_module_version": "2.0.0",
       "_model_name": "LayoutModel",
       "_view_count": null,
       "_view_module": "@jupyter-widgets/base",
       "_view_module_version": "2.0.0",
       "_view_name": "LayoutView",
       "align_content": null,
       "align_items": null,
       "align_self": null,
       "border_bottom": null,
       "border_left": null,
       "border_right": null,
       "border_top": null,
       "bottom": null,
       "display": null,
       "flex": null,
       "flex_flow": null,
       "grid_area": null,
       "grid_auto_columns": null,
       "grid_auto_flow": null,
       "grid_auto_rows": null,
       "grid_column": null,
       "grid_gap": null,
       "grid_row": null,
       "grid_template_areas": null,
       "grid_template_columns": null,
       "grid_template_rows": null,
       "height": null,
       "justify_content": null,
       "justify_items": null,
       "left": null,
       "margin": null,
       "max_height": null,
       "max_width": null,
       "min_height": null,
       "min_width": null,
       "object_fit": null,
       "object_position": null,
       "order": null,
       "overflow": null,
       "padding": null,
       "right": null,
       "top": null,
       "visibility": "hidden",
       "width": null
      }
     },
     "3360ca8296884df6bcbc7816855e088a": {
      "model_module": "@jupyter-widgets/base",
      "model_module_version": "2.0.0",
      "model_name": "LayoutModel",
      "state": {
       "_model_module": "@jupyter-widgets/base",
       "_model_module_version": "2.0.0",
       "_model_name": "LayoutModel",
       "_view_count": null,
       "_view_module": "@jupyter-widgets/base",
       "_view_module_version": "2.0.0",
       "_view_name": "LayoutView",
       "align_content": null,
       "align_items": null,
       "align_self": null,
       "border_bottom": null,
       "border_left": null,
       "border_right": null,
       "border_top": null,
       "bottom": null,
       "display": null,
       "flex": null,
       "flex_flow": null,
       "grid_area": null,
       "grid_auto_columns": null,
       "grid_auto_flow": null,
       "grid_auto_rows": null,
       "grid_column": null,
       "grid_gap": null,
       "grid_row": null,
       "grid_template_areas": null,
       "grid_template_columns": null,
       "grid_template_rows": null,
       "height": null,
       "justify_content": null,
       "justify_items": null,
       "left": null,
       "margin": null,
       "max_height": null,
       "max_width": null,
       "min_height": null,
       "min_width": null,
       "object_fit": null,
       "object_position": null,
       "order": null,
       "overflow": null,
       "padding": null,
       "right": null,
       "top": null,
       "visibility": null,
       "width": null
      }
     },
     "363b2ddb47fb4bfa85ba65f3920895c9": {
      "model_module": "@jupyter-widgets/base",
      "model_module_version": "2.0.0",
      "model_name": "LayoutModel",
      "state": {
       "_model_module": "@jupyter-widgets/base",
       "_model_module_version": "2.0.0",
       "_model_name": "LayoutModel",
       "_view_count": null,
       "_view_module": "@jupyter-widgets/base",
       "_view_module_version": "2.0.0",
       "_view_name": "LayoutView",
       "align_content": null,
       "align_items": null,
       "align_self": null,
       "border_bottom": null,
       "border_left": null,
       "border_right": null,
       "border_top": null,
       "bottom": null,
       "display": null,
       "flex": null,
       "flex_flow": null,
       "grid_area": null,
       "grid_auto_columns": null,
       "grid_auto_flow": null,
       "grid_auto_rows": null,
       "grid_column": null,
       "grid_gap": null,
       "grid_row": null,
       "grid_template_areas": null,
       "grid_template_columns": null,
       "grid_template_rows": null,
       "height": null,
       "justify_content": null,
       "justify_items": null,
       "left": null,
       "margin": null,
       "max_height": null,
       "max_width": null,
       "min_height": null,
       "min_width": null,
       "object_fit": null,
       "object_position": null,
       "order": null,
       "overflow": null,
       "padding": null,
       "right": null,
       "top": null,
       "visibility": null,
       "width": null
      }
     },
     "3bbb5b343af24a19ae61dda648231759": {
      "model_module": "@jupyter-widgets/base",
      "model_module_version": "2.0.0",
      "model_name": "LayoutModel",
      "state": {
       "_model_module": "@jupyter-widgets/base",
       "_model_module_version": "2.0.0",
       "_model_name": "LayoutModel",
       "_view_count": null,
       "_view_module": "@jupyter-widgets/base",
       "_view_module_version": "2.0.0",
       "_view_name": "LayoutView",
       "align_content": null,
       "align_items": null,
       "align_self": null,
       "border_bottom": null,
       "border_left": null,
       "border_right": null,
       "border_top": null,
       "bottom": null,
       "display": null,
       "flex": null,
       "flex_flow": null,
       "grid_area": null,
       "grid_auto_columns": null,
       "grid_auto_flow": null,
       "grid_auto_rows": null,
       "grid_column": null,
       "grid_gap": null,
       "grid_row": null,
       "grid_template_areas": null,
       "grid_template_columns": null,
       "grid_template_rows": null,
       "height": null,
       "justify_content": null,
       "justify_items": null,
       "left": null,
       "margin": null,
       "max_height": null,
       "max_width": null,
       "min_height": null,
       "min_width": null,
       "object_fit": null,
       "object_position": null,
       "order": null,
       "overflow": null,
       "padding": null,
       "right": null,
       "top": null,
       "visibility": null,
       "width": null
      }
     },
     "3da50e649f1f408882a9d985c5d5b7df": {
      "model_module": "@jupyter-widgets/controls",
      "model_module_version": "2.0.0",
      "model_name": "HTMLModel",
      "state": {
       "_dom_classes": [],
       "_model_module": "@jupyter-widgets/controls",
       "_model_module_version": "2.0.0",
       "_model_name": "HTMLModel",
       "_view_count": null,
       "_view_module": "@jupyter-widgets/controls",
       "_view_module_version": "2.0.0",
       "_view_name": "HTMLView",
       "description": "",
       "description_allow_html": false,
       "layout": "IPY_MODEL_6acd2045cfe44801bd974907c73df403",
       "placeholder": "​",
       "style": "IPY_MODEL_6b2b7cb265894ed888a1846eeaf3c995",
       "tabbable": null,
       "tooltip": null,
       "value": "Generating unsupervised examples...:  91%"
      }
     },
     "43e23b2be81c4ced883216387a4be2c1": {
      "model_module": "@jupyter-widgets/controls",
      "model_module_version": "2.0.0",
      "model_name": "HBoxModel",
      "state": {
       "_dom_classes": [],
       "_model_module": "@jupyter-widgets/controls",
       "_model_module_version": "2.0.0",
       "_model_name": "HBoxModel",
       "_view_count": null,
       "_view_module": "@jupyter-widgets/controls",
       "_view_module_version": "2.0.0",
       "_view_name": "HBoxView",
       "box_style": "",
       "children": [
        "IPY_MODEL_70cc3290d3d6486a9ada84509f3ca5d5",
        "IPY_MODEL_0fcc3319941b46d887ffa927007478c6",
        "IPY_MODEL_0138faa0e550409cb5ba3fcb32dec29a"
       ],
       "layout": "IPY_MODEL_31f67d1f1d6f4366a2dfceef02cd88ee",
       "tabbable": null,
       "tooltip": null
      }
     },
     "4c95e0cd487c4c178b0808768007c1fd": {
      "model_module": "@jupyter-widgets/controls",
      "model_module_version": "2.0.0",
      "model_name": "HTMLModel",
      "state": {
       "_dom_classes": [],
       "_model_module": "@jupyter-widgets/controls",
       "_model_module_version": "2.0.0",
       "_model_name": "HTMLModel",
       "_view_count": null,
       "_view_module": "@jupyter-widgets/controls",
       "_view_module_version": "2.0.0",
       "_view_name": "HTMLView",
       "description": "",
       "description_allow_html": false,
       "layout": "IPY_MODEL_c2166134ff53417bb482bc714e07b431",
       "placeholder": "​",
       "style": "IPY_MODEL_20f1225469b14567b59cd5a5b9bc7da2",
       "tabbable": null,
       "tooltip": null,
       "value": " 0/25000 [00:00&lt;?, ? examples/s]"
      }
     },
     "4da67136ee7f4b9699489a1607804637": {
      "model_module": "@jupyter-widgets/controls",
      "model_module_version": "2.0.0",
      "model_name": "ProgressStyleModel",
      "state": {
       "_model_module": "@jupyter-widgets/controls",
       "_model_module_version": "2.0.0",
       "_model_name": "ProgressStyleModel",
       "_view_count": null,
       "_view_module": "@jupyter-widgets/base",
       "_view_module_version": "2.0.0",
       "_view_name": "StyleView",
       "bar_color": null,
       "description_width": ""
      }
     },
     "4f50c35ca2fe4370a7ead485cb0e500a": {
      "model_module": "@jupyter-widgets/base",
      "model_module_version": "2.0.0",
      "model_name": "LayoutModel",
      "state": {
       "_model_module": "@jupyter-widgets/base",
       "_model_module_version": "2.0.0",
       "_model_name": "LayoutModel",
       "_view_count": null,
       "_view_module": "@jupyter-widgets/base",
       "_view_module_version": "2.0.0",
       "_view_name": "LayoutView",
       "align_content": null,
       "align_items": null,
       "align_self": null,
       "border_bottom": null,
       "border_left": null,
       "border_right": null,
       "border_top": null,
       "bottom": null,
       "display": null,
       "flex": null,
       "flex_flow": null,
       "grid_area": null,
       "grid_auto_columns": null,
       "grid_auto_flow": null,
       "grid_auto_rows": null,
       "grid_column": null,
       "grid_gap": null,
       "grid_row": null,
       "grid_template_areas": null,
       "grid_template_columns": null,
       "grid_template_rows": null,
       "height": null,
       "justify_content": null,
       "justify_items": null,
       "left": null,
       "margin": null,
       "max_height": null,
       "max_width": null,
       "min_height": null,
       "min_width": null,
       "object_fit": null,
       "object_position": null,
       "order": null,
       "overflow": null,
       "padding": null,
       "right": null,
       "top": null,
       "visibility": null,
       "width": null
      }
     },
     "4ff8f208598042879699fb2d7e86ee73": {
      "model_module": "@jupyter-widgets/controls",
      "model_module_version": "2.0.0",
      "model_name": "FloatProgressModel",
      "state": {
       "_dom_classes": [],
       "_model_module": "@jupyter-widgets/controls",
       "_model_module_version": "2.0.0",
       "_model_name": "FloatProgressModel",
       "_view_count": null,
       "_view_module": "@jupyter-widgets/controls",
       "_view_module_version": "2.0.0",
       "_view_name": "ProgressView",
       "bar_style": "success",
       "description": "",
       "description_allow_html": false,
       "layout": "IPY_MODEL_976bfcf24ea4413e938b4f32d5bca6e2",
       "max": 1.0,
       "min": 0.0,
       "orientation": "horizontal",
       "style": "IPY_MODEL_fb6f2fec506f432ab479082e44c86ff9",
       "tabbable": null,
       "tooltip": null,
       "value": 1.0
      }
     },
     "553168ae9b7c40708b0d52c40068dcbe": {
      "model_module": "@jupyter-widgets/controls",
      "model_module_version": "2.0.0",
      "model_name": "HTMLModel",
      "state": {
       "_dom_classes": [],
       "_model_module": "@jupyter-widgets/controls",
       "_model_module_version": "2.0.0",
       "_model_name": "HTMLModel",
       "_view_count": null,
       "_view_module": "@jupyter-widgets/controls",
       "_view_module_version": "2.0.0",
       "_view_name": "HTMLView",
       "description": "",
       "description_allow_html": false,
       "layout": "IPY_MODEL_73d7a1745a1044a68757a967efa99c83",
       "placeholder": "​",
       "style": "IPY_MODEL_dfe7a568ed464fec9b7bc535137c5454",
       "tabbable": null,
       "tooltip": null,
       "value": " 19172/25000 [00:04&lt;00:01, 4650.98 examples/s]"
      }
     },
     "56ca9949a41d4123b7525a45cb5a6778": {
      "model_module": "@jupyter-widgets/base",
      "model_module_version": "2.0.0",
      "model_name": "LayoutModel",
      "state": {
       "_model_module": "@jupyter-widgets/base",
       "_model_module_version": "2.0.0",
       "_model_name": "LayoutModel",
       "_view_count": null,
       "_view_module": "@jupyter-widgets/base",
       "_view_module_version": "2.0.0",
       "_view_name": "LayoutView",
       "align_content": null,
       "align_items": null,
       "align_self": null,
       "border_bottom": null,
       "border_left": null,
       "border_right": null,
       "border_top": null,
       "bottom": null,
       "display": null,
       "flex": null,
       "flex_flow": null,
       "grid_area": null,
       "grid_auto_columns": null,
       "grid_auto_flow": null,
       "grid_auto_rows": null,
       "grid_column": null,
       "grid_gap": null,
       "grid_row": null,
       "grid_template_areas": null,
       "grid_template_columns": null,
       "grid_template_rows": null,
       "height": null,
       "justify_content": null,
       "justify_items": null,
       "left": null,
       "margin": null,
       "max_height": null,
       "max_width": null,
       "min_height": null,
       "min_width": null,
       "object_fit": null,
       "object_position": null,
       "order": null,
       "overflow": null,
       "padding": null,
       "right": null,
       "top": null,
       "visibility": null,
       "width": null
      }
     },
     "56ff27f4dc7344bf939f3f72d655a8b3": {
      "model_module": "@jupyter-widgets/controls",
      "model_module_version": "2.0.0",
      "model_name": "HBoxModel",
      "state": {
       "_dom_classes": [],
       "_model_module": "@jupyter-widgets/controls",
       "_model_module_version": "2.0.0",
       "_model_name": "HBoxModel",
       "_view_count": null,
       "_view_module": "@jupyter-widgets/controls",
       "_view_module_version": "2.0.0",
       "_view_name": "HBoxView",
       "box_style": "",
       "children": [
        "IPY_MODEL_3da50e649f1f408882a9d985c5d5b7df",
        "IPY_MODEL_aaa415a839d24744a63f6dfb52219768",
        "IPY_MODEL_01887045a4e14a3f906dd505160b6cf3"
       ],
       "layout": "IPY_MODEL_6a1175fd6d19498d9355f3d3189938a2",
       "tabbable": null,
       "tooltip": null
      }
     },
     "5825d4b2a04643e799ecf65f46300ae4": {
      "model_module": "@jupyter-widgets/controls",
      "model_module_version": "2.0.0",
      "model_name": "ProgressStyleModel",
      "state": {
       "_model_module": "@jupyter-widgets/controls",
       "_model_module_version": "2.0.0",
       "_model_name": "ProgressStyleModel",
       "_view_count": null,
       "_view_module": "@jupyter-widgets/base",
       "_view_module_version": "2.0.0",
       "_view_name": "StyleView",
       "bar_color": null,
       "description_width": ""
      }
     },
     "58a37859b96649e79d4c18bffd5d87e7": {
      "model_module": "@jupyter-widgets/controls",
      "model_module_version": "2.0.0",
      "model_name": "HTMLModel",
      "state": {
       "_dom_classes": [],
       "_model_module": "@jupyter-widgets/controls",
       "_model_module_version": "2.0.0",
       "_model_name": "HTMLModel",
       "_view_count": null,
       "_view_module": "@jupyter-widgets/controls",
       "_view_module_version": "2.0.0",
       "_view_name": "HTMLView",
       "description": "",
       "description_allow_html": false,
       "layout": "IPY_MODEL_4f50c35ca2fe4370a7ead485cb0e500a",
       "placeholder": "​",
       "style": "IPY_MODEL_24f479f02bff4bc6be2aa7c356b62392",
       "tabbable": null,
       "tooltip": null,
       "value": " 22249/25000 [00:05&lt;00:00, 4679.49 examples/s]"
      }
     },
     "594e2b1748264f7fa7ebc3c81c031fdf": {
      "model_module": "@jupyter-widgets/controls",
      "model_module_version": "2.0.0",
      "model_name": "ProgressStyleModel",
      "state": {
       "_model_module": "@jupyter-widgets/controls",
       "_model_module_version": "2.0.0",
       "_model_name": "ProgressStyleModel",
       "_view_count": null,
       "_view_module": "@jupyter-widgets/base",
       "_view_module_version": "2.0.0",
       "_view_name": "StyleView",
       "bar_color": null,
       "description_width": ""
      }
     },
     "62b09fe65d9d44a38f2aceda452069a2": {
      "model_module": "@jupyter-widgets/base",
      "model_module_version": "2.0.0",
      "model_name": "LayoutModel",
      "state": {
       "_model_module": "@jupyter-widgets/base",
       "_model_module_version": "2.0.0",
       "_model_name": "LayoutModel",
       "_view_count": null,
       "_view_module": "@jupyter-widgets/base",
       "_view_module_version": "2.0.0",
       "_view_name": "LayoutView",
       "align_content": null,
       "align_items": null,
       "align_self": null,
       "border_bottom": null,
       "border_left": null,
       "border_right": null,
       "border_top": null,
       "bottom": null,
       "display": null,
       "flex": null,
       "flex_flow": null,
       "grid_area": null,
       "grid_auto_columns": null,
       "grid_auto_flow": null,
       "grid_auto_rows": null,
       "grid_column": null,
       "grid_gap": null,
       "grid_row": null,
       "grid_template_areas": null,
       "grid_template_columns": null,
       "grid_template_rows": null,
       "height": null,
       "justify_content": null,
       "justify_items": null,
       "left": null,
       "margin": null,
       "max_height": null,
       "max_width": null,
       "min_height": null,
       "min_width": null,
       "object_fit": null,
       "object_position": null,
       "order": null,
       "overflow": null,
       "padding": null,
       "right": null,
       "top": null,
       "visibility": null,
       "width": null
      }
     },
     "688939184f0345f982524c0f066c5395": {
      "model_module": "@jupyter-widgets/controls",
      "model_module_version": "2.0.0",
      "model_name": "HTMLStyleModel",
      "state": {
       "_model_module": "@jupyter-widgets/controls",
       "_model_module_version": "2.0.0",
       "_model_name": "HTMLStyleModel",
       "_view_count": null,
       "_view_module": "@jupyter-widgets/base",
       "_view_module_version": "2.0.0",
       "_view_name": "StyleView",
       "background": null,
       "description_width": "",
       "font_size": null,
       "text_color": null
      }
     },
     "68fe0156616e43f0851f068f18d293e1": {
      "model_module": "@jupyter-widgets/controls",
      "model_module_version": "2.0.0",
      "model_name": "HTMLStyleModel",
      "state": {
       "_model_module": "@jupyter-widgets/controls",
       "_model_module_version": "2.0.0",
       "_model_name": "HTMLStyleModel",
       "_view_count": null,
       "_view_module": "@jupyter-widgets/base",
       "_view_module_version": "2.0.0",
       "_view_name": "StyleView",
       "background": null,
       "description_width": "",
       "font_size": null,
       "text_color": null
      }
     },
     "6a1175fd6d19498d9355f3d3189938a2": {
      "model_module": "@jupyter-widgets/base",
      "model_module_version": "2.0.0",
      "model_name": "LayoutModel",
      "state": {
       "_model_module": "@jupyter-widgets/base",
       "_model_module_version": "2.0.0",
       "_model_name": "LayoutModel",
       "_view_count": null,
       "_view_module": "@jupyter-widgets/base",
       "_view_module_version": "2.0.0",
       "_view_name": "LayoutView",
       "align_content": null,
       "align_items": null,
       "align_self": null,
       "border_bottom": null,
       "border_left": null,
       "border_right": null,
       "border_top": null,
       "bottom": null,
       "display": null,
       "flex": null,
       "flex_flow": null,
       "grid_area": null,
       "grid_auto_columns": null,
       "grid_auto_flow": null,
       "grid_auto_rows": null,
       "grid_column": null,
       "grid_gap": null,
       "grid_row": null,
       "grid_template_areas": null,
       "grid_template_columns": null,
       "grid_template_rows": null,
       "height": null,
       "justify_content": null,
       "justify_items": null,
       "left": null,
       "margin": null,
       "max_height": null,
       "max_width": null,
       "min_height": null,
       "min_width": null,
       "object_fit": null,
       "object_position": null,
       "order": null,
       "overflow": null,
       "padding": null,
       "right": null,
       "top": null,
       "visibility": "hidden",
       "width": null
      }
     },
     "6aaf9cc8193349d7b0bea13961a19d32": {
      "model_module": "@jupyter-widgets/controls",
      "model_module_version": "2.0.0",
      "model_name": "HTMLModel",
      "state": {
       "_dom_classes": [],
       "_model_module": "@jupyter-widgets/controls",
       "_model_module_version": "2.0.0",
       "_model_name": "HTMLModel",
       "_view_count": null,
       "_view_module": "@jupyter-widgets/controls",
       "_view_module_version": "2.0.0",
       "_view_name": "HTMLView",
       "description": "",
       "description_allow_html": false,
       "layout": "IPY_MODEL_3360ca8296884df6bcbc7816855e088a",
       "placeholder": "​",
       "style": "IPY_MODEL_688939184f0345f982524c0f066c5395",
       "tabbable": null,
       "tooltip": null,
       "value": "Dl Completed...: 100%"
      }
     },
     "6acd2045cfe44801bd974907c73df403": {
      "model_module": "@jupyter-widgets/base",
      "model_module_version": "2.0.0",
      "model_name": "LayoutModel",
      "state": {
       "_model_module": "@jupyter-widgets/base",
       "_model_module_version": "2.0.0",
       "_model_name": "LayoutModel",
       "_view_count": null,
       "_view_module": "@jupyter-widgets/base",
       "_view_module_version": "2.0.0",
       "_view_name": "LayoutView",
       "align_content": null,
       "align_items": null,
       "align_self": null,
       "border_bottom": null,
       "border_left": null,
       "border_right": null,
       "border_top": null,
       "bottom": null,
       "display": null,
       "flex": null,
       "flex_flow": null,
       "grid_area": null,
       "grid_auto_columns": null,
       "grid_auto_flow": null,
       "grid_auto_rows": null,
       "grid_column": null,
       "grid_gap": null,
       "grid_row": null,
       "grid_template_areas": null,
       "grid_template_columns": null,
       "grid_template_rows": null,
       "height": null,
       "justify_content": null,
       "justify_items": null,
       "left": null,
       "margin": null,
       "max_height": null,
       "max_width": null,
       "min_height": null,
       "min_width": null,
       "object_fit": null,
       "object_position": null,
       "order": null,
       "overflow": null,
       "padding": null,
       "right": null,
       "top": null,
       "visibility": null,
       "width": null
      }
     },
     "6b2b7cb265894ed888a1846eeaf3c995": {
      "model_module": "@jupyter-widgets/controls",
      "model_module_version": "2.0.0",
      "model_name": "HTMLStyleModel",
      "state": {
       "_model_module": "@jupyter-widgets/controls",
       "_model_module_version": "2.0.0",
       "_model_name": "HTMLStyleModel",
       "_view_count": null,
       "_view_module": "@jupyter-widgets/base",
       "_view_module_version": "2.0.0",
       "_view_name": "StyleView",
       "background": null,
       "description_width": "",
       "font_size": null,
       "text_color": null
      }
     },
     "6c9b38f0e91d49f3a773622b5dbc597c": {
      "model_module": "@jupyter-widgets/controls",
      "model_module_version": "2.0.0",
      "model_name": "ProgressStyleModel",
      "state": {
       "_model_module": "@jupyter-widgets/controls",
       "_model_module_version": "2.0.0",
       "_model_name": "ProgressStyleModel",
       "_view_count": null,
       "_view_module": "@jupyter-widgets/base",
       "_view_module_version": "2.0.0",
       "_view_name": "StyleView",
       "bar_color": null,
       "description_width": ""
      }
     },
     "6d45ff40c60942a6afd93a1b55de500b": {
      "model_module": "@jupyter-widgets/controls",
      "model_module_version": "2.0.0",
      "model_name": "HTMLStyleModel",
      "state": {
       "_model_module": "@jupyter-widgets/controls",
       "_model_module_version": "2.0.0",
       "_model_name": "HTMLStyleModel",
       "_view_count": null,
       "_view_module": "@jupyter-widgets/base",
       "_view_module_version": "2.0.0",
       "_view_name": "StyleView",
       "background": null,
       "description_width": "",
       "font_size": null,
       "text_color": null
      }
     },
     "6d6574e7f8554715b70063a7da0f2000": {
      "model_module": "@jupyter-widgets/controls",
      "model_module_version": "2.0.0",
      "model_name": "FloatProgressModel",
      "state": {
       "_dom_classes": [],
       "_model_module": "@jupyter-widgets/controls",
       "_model_module_version": "2.0.0",
       "_model_name": "FloatProgressModel",
       "_view_count": null,
       "_view_module": "@jupyter-widgets/controls",
       "_view_module_version": "2.0.0",
       "_view_name": "ProgressView",
       "bar_style": "success",
       "description": "",
       "description_allow_html": false,
       "layout": "IPY_MODEL_8e09fab4405f46f092ec966a5c307486",
       "max": 1.0,
       "min": 0.0,
       "orientation": "horizontal",
       "style": "IPY_MODEL_6c9b38f0e91d49f3a773622b5dbc597c",
       "tabbable": null,
       "tooltip": null,
       "value": 1.0
      }
     },
     "6d840733ec40493f962933d110ad201c": {
      "model_module": "@jupyter-widgets/controls",
      "model_module_version": "2.0.0",
      "model_name": "HTMLStyleModel",
      "state": {
       "_model_module": "@jupyter-widgets/controls",
       "_model_module_version": "2.0.0",
       "_model_name": "HTMLStyleModel",
       "_view_count": null,
       "_view_module": "@jupyter-widgets/base",
       "_view_module_version": "2.0.0",
       "_view_name": "StyleView",
       "background": null,
       "description_width": "",
       "font_size": null,
       "text_color": null
      }
     },
     "6d878fcf145b4cd489b392dd49c02dfb": {
      "model_module": "@jupyter-widgets/controls",
      "model_module_version": "2.0.0",
      "model_name": "HBoxModel",
      "state": {
       "_dom_classes": [],
       "_model_module": "@jupyter-widgets/controls",
       "_model_module_version": "2.0.0",
       "_model_name": "HBoxModel",
       "_view_count": null,
       "_view_module": "@jupyter-widgets/controls",
       "_view_module_version": "2.0.0",
       "_view_name": "HBoxView",
       "box_style": "",
       "children": [
        "IPY_MODEL_dd00cc4d229f49b7a6e0703399b3fd8e",
        "IPY_MODEL_20238ab369684e3bbdff4acdde864429",
        "IPY_MODEL_553168ae9b7c40708b0d52c40068dcbe"
       ],
       "layout": "IPY_MODEL_8ef7be2c899c40a6a44a45de4610eaf0",
       "tabbable": null,
       "tooltip": null
      }
     },
     "6dd4d656bda846d0a0ac2c5e34c38fd0": {
      "model_module": "@jupyter-widgets/controls",
      "model_module_version": "2.0.0",
      "model_name": "HTMLStyleModel",
      "state": {
       "_model_module": "@jupyter-widgets/controls",
       "_model_module_version": "2.0.0",
       "_model_name": "HTMLStyleModel",
       "_view_count": null,
       "_view_module": "@jupyter-widgets/base",
       "_view_module_version": "2.0.0",
       "_view_name": "StyleView",
       "background": null,
       "description_width": "",
       "font_size": null,
       "text_color": null
      }
     },
     "702848edbafe4520b3aa1103d8203d8e": {
      "model_module": "@jupyter-widgets/base",
      "model_module_version": "2.0.0",
      "model_name": "LayoutModel",
      "state": {
       "_model_module": "@jupyter-widgets/base",
       "_model_module_version": "2.0.0",
       "_model_name": "LayoutModel",
       "_view_count": null,
       "_view_module": "@jupyter-widgets/base",
       "_view_module_version": "2.0.0",
       "_view_name": "LayoutView",
       "align_content": null,
       "align_items": null,
       "align_self": null,
       "border_bottom": null,
       "border_left": null,
       "border_right": null,
       "border_top": null,
       "bottom": null,
       "display": null,
       "flex": null,
       "flex_flow": null,
       "grid_area": null,
       "grid_auto_columns": null,
       "grid_auto_flow": null,
       "grid_auto_rows": null,
       "grid_column": null,
       "grid_gap": null,
       "grid_row": null,
       "grid_template_areas": null,
       "grid_template_columns": null,
       "grid_template_rows": null,
       "height": null,
       "justify_content": null,
       "justify_items": null,
       "left": null,
       "margin": null,
       "max_height": null,
       "max_width": null,
       "min_height": null,
       "min_width": null,
       "object_fit": null,
       "object_position": null,
       "order": null,
       "overflow": null,
       "padding": null,
       "right": null,
       "top": null,
       "visibility": "hidden",
       "width": null
      }
     },
     "70cc3290d3d6486a9ada84509f3ca5d5": {
      "model_module": "@jupyter-widgets/controls",
      "model_module_version": "2.0.0",
      "model_name": "HTMLModel",
      "state": {
       "_dom_classes": [],
       "_model_module": "@jupyter-widgets/controls",
       "_model_module_version": "2.0.0",
       "_model_name": "HTMLModel",
       "_view_count": null,
       "_view_module": "@jupyter-widgets/controls",
       "_view_module_version": "2.0.0",
       "_view_name": "HTMLView",
       "description": "",
       "description_allow_html": false,
       "layout": "IPY_MODEL_1d9a6d40bc1d4670a91e6af345d4f835",
       "placeholder": "​",
       "style": "IPY_MODEL_acc7e1d439c54502aecb8914dba250d0",
       "tabbable": null,
       "tooltip": null,
       "value": "Shuffling /root/tensorflow_datasets/imdb_reviews/plain_text/incomplete.39JGFM_1.0.0/imdb_reviews-train.tfrecord*...:   0%"
      }
     },
     "7173f66cc9fb48b4939776eec1fdd1ed": {
      "model_module": "@jupyter-widgets/controls",
      "model_module_version": "2.0.0",
      "model_name": "HTMLModel",
      "state": {
       "_dom_classes": [],
       "_model_module": "@jupyter-widgets/controls",
       "_model_module_version": "2.0.0",
       "_model_name": "HTMLModel",
       "_view_count": null,
       "_view_module": "@jupyter-widgets/controls",
       "_view_module_version": "2.0.0",
       "_view_name": "HTMLView",
       "description": "",
       "description_allow_html": false,
       "layout": "IPY_MODEL_ec404f6a3fe4401f9346a051ab60c8c8",
       "placeholder": "​",
       "style": "IPY_MODEL_68fe0156616e43f0851f068f18d293e1",
       "tabbable": null,
       "tooltip": null,
       "value": "Generating train examples...:  89%"
      }
     },
     "73d7a1745a1044a68757a967efa99c83": {
      "model_module": "@jupyter-widgets/base",
      "model_module_version": "2.0.0",
      "model_name": "LayoutModel",
      "state": {
       "_model_module": "@jupyter-widgets/base",
       "_model_module_version": "2.0.0",
       "_model_name": "LayoutModel",
       "_view_count": null,
       "_view_module": "@jupyter-widgets/base",
       "_view_module_version": "2.0.0",
       "_view_name": "LayoutView",
       "align_content": null,
       "align_items": null,
       "align_self": null,
       "border_bottom": null,
       "border_left": null,
       "border_right": null,
       "border_top": null,
       "bottom": null,
       "display": null,
       "flex": null,
       "flex_flow": null,
       "grid_area": null,
       "grid_auto_columns": null,
       "grid_auto_flow": null,
       "grid_auto_rows": null,
       "grid_column": null,
       "grid_gap": null,
       "grid_row": null,
       "grid_template_areas": null,
       "grid_template_columns": null,
       "grid_template_rows": null,
       "height": null,
       "justify_content": null,
       "justify_items": null,
       "left": null,
       "margin": null,
       "max_height": null,
       "max_width": null,
       "min_height": null,
       "min_width": null,
       "object_fit": null,
       "object_position": null,
       "order": null,
       "overflow": null,
       "padding": null,
       "right": null,
       "top": null,
       "visibility": null,
       "width": null
      }
     },
     "747cefd874f04b5eafecd92e57289258": {
      "model_module": "@jupyter-widgets/controls",
      "model_module_version": "2.0.0",
      "model_name": "HTMLStyleModel",
      "state": {
       "_model_module": "@jupyter-widgets/controls",
       "_model_module_version": "2.0.0",
       "_model_name": "HTMLStyleModel",
       "_view_count": null,
       "_view_module": "@jupyter-widgets/base",
       "_view_module_version": "2.0.0",
       "_view_name": "StyleView",
       "background": null,
       "description_width": "",
       "font_size": null,
       "text_color": null
      }
     },
     "7e0de7b9d4c643fcbf2d7b7d60d7fabd": {
      "model_module": "@jupyter-widgets/controls",
      "model_module_version": "2.0.0",
      "model_name": "HTMLModel",
      "state": {
       "_dom_classes": [],
       "_model_module": "@jupyter-widgets/controls",
       "_model_module_version": "2.0.0",
       "_model_name": "HTMLModel",
       "_view_count": null,
       "_view_module": "@jupyter-widgets/controls",
       "_view_module_version": "2.0.0",
       "_view_name": "HTMLView",
       "description": "",
       "description_allow_html": false,
       "layout": "IPY_MODEL_07b660eb9f4d449d885efe3c5c2f5237",
       "placeholder": "​",
       "style": "IPY_MODEL_6d45ff40c60942a6afd93a1b55de500b",
       "tabbable": null,
       "tooltip": null,
       "value": " 0/50000 [00:00&lt;?, ? examples/s]"
      }
     },
     "838eff416e904ba2b81d63773b574c95": {
      "model_module": "@jupyter-widgets/controls",
      "model_module_version": "2.0.0",
      "model_name": "HTMLStyleModel",
      "state": {
       "_model_module": "@jupyter-widgets/controls",
       "_model_module_version": "2.0.0",
       "_model_name": "HTMLStyleModel",
       "_view_count": null,
       "_view_module": "@jupyter-widgets/base",
       "_view_module_version": "2.0.0",
       "_view_name": "StyleView",
       "background": null,
       "description_width": "",
       "font_size": null,
       "text_color": null
      }
     },
     "85eb9b5841ea47dd9638cab5eae637c1": {
      "model_module": "@jupyter-widgets/controls",
      "model_module_version": "2.0.0",
      "model_name": "FloatProgressModel",
      "state": {
       "_dom_classes": [],
       "_model_module": "@jupyter-widgets/controls",
       "_model_module_version": "2.0.0",
       "_model_name": "FloatProgressModel",
       "_view_count": null,
       "_view_module": "@jupyter-widgets/controls",
       "_view_module_version": "2.0.0",
       "_view_name": "ProgressView",
       "bar_style": "",
       "description": "",
       "description_allow_html": false,
       "layout": "IPY_MODEL_15e8bf67589a497b965829dd6bff0541",
       "max": 25000.0,
       "min": 0.0,
       "orientation": "horizontal",
       "style": "IPY_MODEL_4da67136ee7f4b9699489a1607804637",
       "tabbable": null,
       "tooltip": null,
       "value": 25000.0
      }
     },
     "8b5df70b541947d7a67de4089f511d1f": {
      "model_module": "@jupyter-widgets/controls",
      "model_module_version": "2.0.0",
      "model_name": "HBoxModel",
      "state": {
       "_dom_classes": [],
       "_model_module": "@jupyter-widgets/controls",
       "_model_module_version": "2.0.0",
       "_model_name": "HBoxModel",
       "_view_count": null,
       "_view_module": "@jupyter-widgets/controls",
       "_view_module_version": "2.0.0",
       "_view_name": "HBoxView",
       "box_style": "",
       "children": [
        "IPY_MODEL_7173f66cc9fb48b4939776eec1fdd1ed",
        "IPY_MODEL_b873a8928fa249f28261dd9510c3f629",
        "IPY_MODEL_58a37859b96649e79d4c18bffd5d87e7"
       ],
       "layout": "IPY_MODEL_c2b71b26336c41ec88ff76aee7d6e891",
       "tabbable": null,
       "tooltip": null
      }
     },
     "8cea55777e244814bcd7fe9a9fbdbc67": {
      "model_module": "@jupyter-widgets/base",
      "model_module_version": "2.0.0",
      "model_name": "LayoutModel",
      "state": {
       "_model_module": "@jupyter-widgets/base",
       "_model_module_version": "2.0.0",
       "_model_name": "LayoutModel",
       "_view_count": null,
       "_view_module": "@jupyter-widgets/base",
       "_view_module_version": "2.0.0",
       "_view_name": "LayoutView",
       "align_content": null,
       "align_items": null,
       "align_self": null,
       "border_bottom": null,
       "border_left": null,
       "border_right": null,
       "border_top": null,
       "bottom": null,
       "display": null,
       "flex": null,
       "flex_flow": null,
       "grid_area": null,
       "grid_auto_columns": null,
       "grid_auto_flow": null,
       "grid_auto_rows": null,
       "grid_column": null,
       "grid_gap": null,
       "grid_row": null,
       "grid_template_areas": null,
       "grid_template_columns": null,
       "grid_template_rows": null,
       "height": null,
       "justify_content": null,
       "justify_items": null,
       "left": null,
       "margin": null,
       "max_height": null,
       "max_width": null,
       "min_height": null,
       "min_width": null,
       "object_fit": null,
       "object_position": null,
       "order": null,
       "overflow": null,
       "padding": null,
       "right": null,
       "top": null,
       "visibility": null,
       "width": null
      }
     },
     "8e09fab4405f46f092ec966a5c307486": {
      "model_module": "@jupyter-widgets/base",
      "model_module_version": "2.0.0",
      "model_name": "LayoutModel",
      "state": {
       "_model_module": "@jupyter-widgets/base",
       "_model_module_version": "2.0.0",
       "_model_name": "LayoutModel",
       "_view_count": null,
       "_view_module": "@jupyter-widgets/base",
       "_view_module_version": "2.0.0",
       "_view_name": "LayoutView",
       "align_content": null,
       "align_items": null,
       "align_self": null,
       "border_bottom": null,
       "border_left": null,
       "border_right": null,
       "border_top": null,
       "bottom": null,
       "display": null,
       "flex": null,
       "flex_flow": null,
       "grid_area": null,
       "grid_auto_columns": null,
       "grid_auto_flow": null,
       "grid_auto_rows": null,
       "grid_column": null,
       "grid_gap": null,
       "grid_row": null,
       "grid_template_areas": null,
       "grid_template_columns": null,
       "grid_template_rows": null,
       "height": null,
       "justify_content": null,
       "justify_items": null,
       "left": null,
       "margin": null,
       "max_height": null,
       "max_width": null,
       "min_height": null,
       "min_width": null,
       "object_fit": null,
       "object_position": null,
       "order": null,
       "overflow": null,
       "padding": null,
       "right": null,
       "top": null,
       "visibility": null,
       "width": "20px"
      }
     },
     "8ef7be2c899c40a6a44a45de4610eaf0": {
      "model_module": "@jupyter-widgets/base",
      "model_module_version": "2.0.0",
      "model_name": "LayoutModel",
      "state": {
       "_model_module": "@jupyter-widgets/base",
       "_model_module_version": "2.0.0",
       "_model_name": "LayoutModel",
       "_view_count": null,
       "_view_module": "@jupyter-widgets/base",
       "_view_module_version": "2.0.0",
       "_view_name": "LayoutView",
       "align_content": null,
       "align_items": null,
       "align_self": null,
       "border_bottom": null,
       "border_left": null,
       "border_right": null,
       "border_top": null,
       "bottom": null,
       "display": null,
       "flex": null,
       "flex_flow": null,
       "grid_area": null,
       "grid_auto_columns": null,
       "grid_auto_flow": null,
       "grid_auto_rows": null,
       "grid_column": null,
       "grid_gap": null,
       "grid_row": null,
       "grid_template_areas": null,
       "grid_template_columns": null,
       "grid_template_rows": null,
       "height": null,
       "justify_content": null,
       "justify_items": null,
       "left": null,
       "margin": null,
       "max_height": null,
       "max_width": null,
       "min_height": null,
       "min_width": null,
       "object_fit": null,
       "object_position": null,
       "order": null,
       "overflow": null,
       "padding": null,
       "right": null,
       "top": null,
       "visibility": "hidden",
       "width": null
      }
     },
     "90f111e495264d3cab663c7e30612641": {
      "model_module": "@jupyter-widgets/base",
      "model_module_version": "2.0.0",
      "model_name": "LayoutModel",
      "state": {
       "_model_module": "@jupyter-widgets/base",
       "_model_module_version": "2.0.0",
       "_model_name": "LayoutModel",
       "_view_count": null,
       "_view_module": "@jupyter-widgets/base",
       "_view_module_version": "2.0.0",
       "_view_name": "LayoutView",
       "align_content": null,
       "align_items": null,
       "align_self": null,
       "border_bottom": null,
       "border_left": null,
       "border_right": null,
       "border_top": null,
       "bottom": null,
       "display": null,
       "flex": null,
       "flex_flow": null,
       "grid_area": null,
       "grid_auto_columns": null,
       "grid_auto_flow": null,
       "grid_auto_rows": null,
       "grid_column": null,
       "grid_gap": null,
       "grid_row": null,
       "grid_template_areas": null,
       "grid_template_columns": null,
       "grid_template_rows": null,
       "height": null,
       "justify_content": null,
       "justify_items": null,
       "left": null,
       "margin": null,
       "max_height": null,
       "max_width": null,
       "min_height": null,
       "min_width": null,
       "object_fit": null,
       "object_position": null,
       "order": null,
       "overflow": null,
       "padding": null,
       "right": null,
       "top": null,
       "visibility": null,
       "width": null
      }
     },
     "91494ff0a49d423a9cd5d048ef6ed108": {
      "model_module": "@jupyter-widgets/base",
      "model_module_version": "2.0.0",
      "model_name": "LayoutModel",
      "state": {
       "_model_module": "@jupyter-widgets/base",
       "_model_module_version": "2.0.0",
       "_model_name": "LayoutModel",
       "_view_count": null,
       "_view_module": "@jupyter-widgets/base",
       "_view_module_version": "2.0.0",
       "_view_name": "LayoutView",
       "align_content": null,
       "align_items": null,
       "align_self": null,
       "border_bottom": null,
       "border_left": null,
       "border_right": null,
       "border_top": null,
       "bottom": null,
       "display": null,
       "flex": null,
       "flex_flow": null,
       "grid_area": null,
       "grid_auto_columns": null,
       "grid_auto_flow": null,
       "grid_auto_rows": null,
       "grid_column": null,
       "grid_gap": null,
       "grid_row": null,
       "grid_template_areas": null,
       "grid_template_columns": null,
       "grid_template_rows": null,
       "height": null,
       "justify_content": null,
       "justify_items": null,
       "left": null,
       "margin": null,
       "max_height": null,
       "max_width": null,
       "min_height": null,
       "min_width": null,
       "object_fit": null,
       "object_position": null,
       "order": null,
       "overflow": null,
       "padding": null,
       "right": null,
       "top": null,
       "visibility": null,
       "width": null
      }
     },
     "956a745abc334d4daae9e557f8f25de4": {
      "model_module": "@jupyter-widgets/controls",
      "model_module_version": "2.0.0",
      "model_name": "HTMLStyleModel",
      "state": {
       "_model_module": "@jupyter-widgets/controls",
       "_model_module_version": "2.0.0",
       "_model_name": "HTMLStyleModel",
       "_view_count": null,
       "_view_module": "@jupyter-widgets/base",
       "_view_module_version": "2.0.0",
       "_view_name": "StyleView",
       "background": null,
       "description_width": "",
       "font_size": null,
       "text_color": null
      }
     },
     "976bfcf24ea4413e938b4f32d5bca6e2": {
      "model_module": "@jupyter-widgets/base",
      "model_module_version": "2.0.0",
      "model_name": "LayoutModel",
      "state": {
       "_model_module": "@jupyter-widgets/base",
       "_model_module_version": "2.0.0",
       "_model_name": "LayoutModel",
       "_view_count": null,
       "_view_module": "@jupyter-widgets/base",
       "_view_module_version": "2.0.0",
       "_view_name": "LayoutView",
       "align_content": null,
       "align_items": null,
       "align_self": null,
       "border_bottom": null,
       "border_left": null,
       "border_right": null,
       "border_top": null,
       "bottom": null,
       "display": null,
       "flex": null,
       "flex_flow": null,
       "grid_area": null,
       "grid_auto_columns": null,
       "grid_auto_flow": null,
       "grid_auto_rows": null,
       "grid_column": null,
       "grid_gap": null,
       "grid_row": null,
       "grid_template_areas": null,
       "grid_template_columns": null,
       "grid_template_rows": null,
       "height": null,
       "justify_content": null,
       "justify_items": null,
       "left": null,
       "margin": null,
       "max_height": null,
       "max_width": null,
       "min_height": null,
       "min_width": null,
       "object_fit": null,
       "object_position": null,
       "order": null,
       "overflow": null,
       "padding": null,
       "right": null,
       "top": null,
       "visibility": null,
       "width": "20px"
      }
     },
     "9a514e285cbf4d4ea7d249714d3df9a8": {
      "model_module": "@jupyter-widgets/base",
      "model_module_version": "2.0.0",
      "model_name": "LayoutModel",
      "state": {
       "_model_module": "@jupyter-widgets/base",
       "_model_module_version": "2.0.0",
       "_model_name": "LayoutModel",
       "_view_count": null,
       "_view_module": "@jupyter-widgets/base",
       "_view_module_version": "2.0.0",
       "_view_name": "LayoutView",
       "align_content": null,
       "align_items": null,
       "align_self": null,
       "border_bottom": null,
       "border_left": null,
       "border_right": null,
       "border_top": null,
       "bottom": null,
       "display": null,
       "flex": null,
       "flex_flow": null,
       "grid_area": null,
       "grid_auto_columns": null,
       "grid_auto_flow": null,
       "grid_auto_rows": null,
       "grid_column": null,
       "grid_gap": null,
       "grid_row": null,
       "grid_template_areas": null,
       "grid_template_columns": null,
       "grid_template_rows": null,
       "height": null,
       "justify_content": null,
       "justify_items": null,
       "left": null,
       "margin": null,
       "max_height": null,
       "max_width": null,
       "min_height": null,
       "min_width": null,
       "object_fit": null,
       "object_position": null,
       "order": null,
       "overflow": null,
       "padding": null,
       "right": null,
       "top": null,
       "visibility": null,
       "width": null
      }
     },
     "9d9679d1f4f94fe9b9bb09361bf706e8": {
      "model_module": "@jupyter-widgets/base",
      "model_module_version": "2.0.0",
      "model_name": "LayoutModel",
      "state": {
       "_model_module": "@jupyter-widgets/base",
       "_model_module_version": "2.0.0",
       "_model_name": "LayoutModel",
       "_view_count": null,
       "_view_module": "@jupyter-widgets/base",
       "_view_module_version": "2.0.0",
       "_view_name": "LayoutView",
       "align_content": null,
       "align_items": null,
       "align_self": null,
       "border_bottom": null,
       "border_left": null,
       "border_right": null,
       "border_top": null,
       "bottom": null,
       "display": null,
       "flex": null,
       "flex_flow": null,
       "grid_area": null,
       "grid_auto_columns": null,
       "grid_auto_flow": null,
       "grid_auto_rows": null,
       "grid_column": null,
       "grid_gap": null,
       "grid_row": null,
       "grid_template_areas": null,
       "grid_template_columns": null,
       "grid_template_rows": null,
       "height": null,
       "justify_content": null,
       "justify_items": null,
       "left": null,
       "margin": null,
       "max_height": null,
       "max_width": null,
       "min_height": null,
       "min_width": null,
       "object_fit": null,
       "object_position": null,
       "order": null,
       "overflow": null,
       "padding": null,
       "right": null,
       "top": null,
       "visibility": "hidden",
       "width": null
      }
     },
     "a474fca6d75c48f5a91cf7c90d161fed": {
      "model_module": "@jupyter-widgets/controls",
      "model_module_version": "2.0.0",
      "model_name": "ProgressStyleModel",
      "state": {
       "_model_module": "@jupyter-widgets/controls",
       "_model_module_version": "2.0.0",
       "_model_name": "ProgressStyleModel",
       "_view_count": null,
       "_view_module": "@jupyter-widgets/base",
       "_view_module_version": "2.0.0",
       "_view_name": "StyleView",
       "bar_color": null,
       "description_width": ""
      }
     },
     "a50c295231ae4b3a8359d3885c315cd4": {
      "model_module": "@jupyter-widgets/controls",
      "model_module_version": "2.0.0",
      "model_name": "FloatProgressModel",
      "state": {
       "_dom_classes": [],
       "_model_module": "@jupyter-widgets/controls",
       "_model_module_version": "2.0.0",
       "_model_name": "FloatProgressModel",
       "_view_count": null,
       "_view_module": "@jupyter-widgets/controls",
       "_view_module_version": "2.0.0",
       "_view_name": "ProgressView",
       "bar_style": "",
       "description": "",
       "description_allow_html": false,
       "layout": "IPY_MODEL_363b2ddb47fb4bfa85ba65f3920895c9",
       "max": 3.0,
       "min": 0.0,
       "orientation": "horizontal",
       "style": "IPY_MODEL_a726f43c3f0d4896b4ece845b12b55ed",
       "tabbable": null,
       "tooltip": null,
       "value": 3.0
      }
     },
     "a726f43c3f0d4896b4ece845b12b55ed": {
      "model_module": "@jupyter-widgets/controls",
      "model_module_version": "2.0.0",
      "model_name": "ProgressStyleModel",
      "state": {
       "_model_module": "@jupyter-widgets/controls",
       "_model_module_version": "2.0.0",
       "_model_name": "ProgressStyleModel",
       "_view_count": null,
       "_view_module": "@jupyter-widgets/base",
       "_view_module_version": "2.0.0",
       "_view_name": "StyleView",
       "bar_color": null,
       "description_width": ""
      }
     },
     "a9dfd17cdeb149229ab0dde587a68efb": {
      "model_module": "@jupyter-widgets/base",
      "model_module_version": "2.0.0",
      "model_name": "LayoutModel",
      "state": {
       "_model_module": "@jupyter-widgets/base",
       "_model_module_version": "2.0.0",
       "_model_name": "LayoutModel",
       "_view_count": null,
       "_view_module": "@jupyter-widgets/base",
       "_view_module_version": "2.0.0",
       "_view_name": "LayoutView",
       "align_content": null,
       "align_items": null,
       "align_self": null,
       "border_bottom": null,
       "border_left": null,
       "border_right": null,
       "border_top": null,
       "bottom": null,
       "display": null,
       "flex": null,
       "flex_flow": null,
       "grid_area": null,
       "grid_auto_columns": null,
       "grid_auto_flow": null,
       "grid_auto_rows": null,
       "grid_column": null,
       "grid_gap": null,
       "grid_row": null,
       "grid_template_areas": null,
       "grid_template_columns": null,
       "grid_template_rows": null,
       "height": null,
       "justify_content": null,
       "justify_items": null,
       "left": null,
       "margin": null,
       "max_height": null,
       "max_width": null,
       "min_height": null,
       "min_width": null,
       "object_fit": null,
       "object_position": null,
       "order": null,
       "overflow": null,
       "padding": null,
       "right": null,
       "top": null,
       "visibility": null,
       "width": null
      }
     },
     "aaa415a839d24744a63f6dfb52219768": {
      "model_module": "@jupyter-widgets/controls",
      "model_module_version": "2.0.0",
      "model_name": "FloatProgressModel",
      "state": {
       "_dom_classes": [],
       "_model_module": "@jupyter-widgets/controls",
       "_model_module_version": "2.0.0",
       "_model_name": "FloatProgressModel",
       "_view_count": null,
       "_view_module": "@jupyter-widgets/controls",
       "_view_module_version": "2.0.0",
       "_view_name": "ProgressView",
       "bar_style": "",
       "description": "",
       "description_allow_html": false,
       "layout": "IPY_MODEL_dcb7d9d3a4d04e5db8a9e8d54be61f4c",
       "max": 50000.0,
       "min": 0.0,
       "orientation": "horizontal",
       "style": "IPY_MODEL_b1ac4df6cfb64d53b767c3a0284497b4",
       "tabbable": null,
       "tooltip": null,
       "value": 50000.0
      }
     },
     "aae082fb24a2435d8cf39e3410401e18": {
      "model_module": "@jupyter-widgets/controls",
      "model_module_version": "2.0.0",
      "model_name": "HTMLStyleModel",
      "state": {
       "_model_module": "@jupyter-widgets/controls",
       "_model_module_version": "2.0.0",
       "_model_name": "HTMLStyleModel",
       "_view_count": null,
       "_view_module": "@jupyter-widgets/base",
       "_view_module_version": "2.0.0",
       "_view_name": "StyleView",
       "background": null,
       "description_width": "",
       "font_size": null,
       "text_color": null
      }
     },
     "acc7e1d439c54502aecb8914dba250d0": {
      "model_module": "@jupyter-widgets/controls",
      "model_module_version": "2.0.0",
      "model_name": "HTMLStyleModel",
      "state": {
       "_model_module": "@jupyter-widgets/controls",
       "_model_module_version": "2.0.0",
       "_model_name": "HTMLStyleModel",
       "_view_count": null,
       "_view_module": "@jupyter-widgets/base",
       "_view_module_version": "2.0.0",
       "_view_name": "StyleView",
       "background": null,
       "description_width": "",
       "font_size": null,
       "text_color": null
      }
     },
     "b1ac4df6cfb64d53b767c3a0284497b4": {
      "model_module": "@jupyter-widgets/controls",
      "model_module_version": "2.0.0",
      "model_name": "ProgressStyleModel",
      "state": {
       "_model_module": "@jupyter-widgets/controls",
       "_model_module_version": "2.0.0",
       "_model_name": "ProgressStyleModel",
       "_view_count": null,
       "_view_module": "@jupyter-widgets/base",
       "_view_module_version": "2.0.0",
       "_view_name": "StyleView",
       "bar_color": null,
       "description_width": ""
      }
     },
     "b873a8928fa249f28261dd9510c3f629": {
      "model_module": "@jupyter-widgets/controls",
      "model_module_version": "2.0.0",
      "model_name": "FloatProgressModel",
      "state": {
       "_dom_classes": [],
       "_model_module": "@jupyter-widgets/controls",
       "_model_module_version": "2.0.0",
       "_model_name": "FloatProgressModel",
       "_view_count": null,
       "_view_module": "@jupyter-widgets/controls",
       "_view_module_version": "2.0.0",
       "_view_name": "ProgressView",
       "bar_style": "",
       "description": "",
       "description_allow_html": false,
       "layout": "IPY_MODEL_1a7311695a66421eb7d557aedf6f0b8b",
       "max": 25000.0,
       "min": 0.0,
       "orientation": "horizontal",
       "style": "IPY_MODEL_5825d4b2a04643e799ecf65f46300ae4",
       "tabbable": null,
       "tooltip": null,
       "value": 25000.0
      }
     },
     "c1e51fbeb56d4fbba5d6346b7e650083": {
      "model_module": "@jupyter-widgets/controls",
      "model_module_version": "2.0.0",
      "model_name": "HTMLStyleModel",
      "state": {
       "_model_module": "@jupyter-widgets/controls",
       "_model_module_version": "2.0.0",
       "_model_name": "HTMLStyleModel",
       "_view_count": null,
       "_view_module": "@jupyter-widgets/base",
       "_view_module_version": "2.0.0",
       "_view_name": "StyleView",
       "background": null,
       "description_width": "",
       "font_size": null,
       "text_color": null
      }
     },
     "c2166134ff53417bb482bc714e07b431": {
      "model_module": "@jupyter-widgets/base",
      "model_module_version": "2.0.0",
      "model_name": "LayoutModel",
      "state": {
       "_model_module": "@jupyter-widgets/base",
       "_model_module_version": "2.0.0",
       "_model_name": "LayoutModel",
       "_view_count": null,
       "_view_module": "@jupyter-widgets/base",
       "_view_module_version": "2.0.0",
       "_view_name": "LayoutView",
       "align_content": null,
       "align_items": null,
       "align_self": null,
       "border_bottom": null,
       "border_left": null,
       "border_right": null,
       "border_top": null,
       "bottom": null,
       "display": null,
       "flex": null,
       "flex_flow": null,
       "grid_area": null,
       "grid_auto_columns": null,
       "grid_auto_flow": null,
       "grid_auto_rows": null,
       "grid_column": null,
       "grid_gap": null,
       "grid_row": null,
       "grid_template_areas": null,
       "grid_template_columns": null,
       "grid_template_rows": null,
       "height": null,
       "justify_content": null,
       "justify_items": null,
       "left": null,
       "margin": null,
       "max_height": null,
       "max_width": null,
       "min_height": null,
       "min_width": null,
       "object_fit": null,
       "object_position": null,
       "order": null,
       "overflow": null,
       "padding": null,
       "right": null,
       "top": null,
       "visibility": null,
       "width": null
      }
     },
     "c2b71b26336c41ec88ff76aee7d6e891": {
      "model_module": "@jupyter-widgets/base",
      "model_module_version": "2.0.0",
      "model_name": "LayoutModel",
      "state": {
       "_model_module": "@jupyter-widgets/base",
       "_model_module_version": "2.0.0",
       "_model_name": "LayoutModel",
       "_view_count": null,
       "_view_module": "@jupyter-widgets/base",
       "_view_module_version": "2.0.0",
       "_view_name": "LayoutView",
       "align_content": null,
       "align_items": null,
       "align_self": null,
       "border_bottom": null,
       "border_left": null,
       "border_right": null,
       "border_top": null,
       "bottom": null,
       "display": null,
       "flex": null,
       "flex_flow": null,
       "grid_area": null,
       "grid_auto_columns": null,
       "grid_auto_flow": null,
       "grid_auto_rows": null,
       "grid_column": null,
       "grid_gap": null,
       "grid_row": null,
       "grid_template_areas": null,
       "grid_template_columns": null,
       "grid_template_rows": null,
       "height": null,
       "justify_content": null,
       "justify_items": null,
       "left": null,
       "margin": null,
       "max_height": null,
       "max_width": null,
       "min_height": null,
       "min_width": null,
       "object_fit": null,
       "object_position": null,
       "order": null,
       "overflow": null,
       "padding": null,
       "right": null,
       "top": null,
       "visibility": "hidden",
       "width": null
      }
     },
     "c8db6199224940e78e61771951ae2139": {
      "model_module": "@jupyter-widgets/base",
      "model_module_version": "2.0.0",
      "model_name": "LayoutModel",
      "state": {
       "_model_module": "@jupyter-widgets/base",
       "_model_module_version": "2.0.0",
       "_model_name": "LayoutModel",
       "_view_count": null,
       "_view_module": "@jupyter-widgets/base",
       "_view_module_version": "2.0.0",
       "_view_name": "LayoutView",
       "align_content": null,
       "align_items": null,
       "align_self": null,
       "border_bottom": null,
       "border_left": null,
       "border_right": null,
       "border_top": null,
       "bottom": null,
       "display": null,
       "flex": null,
       "flex_flow": null,
       "grid_area": null,
       "grid_auto_columns": null,
       "grid_auto_flow": null,
       "grid_auto_rows": null,
       "grid_column": null,
       "grid_gap": null,
       "grid_row": null,
       "grid_template_areas": null,
       "grid_template_columns": null,
       "grid_template_rows": null,
       "height": null,
       "justify_content": null,
       "justify_items": null,
       "left": null,
       "margin": null,
       "max_height": null,
       "max_width": null,
       "min_height": null,
       "min_width": null,
       "object_fit": null,
       "object_position": null,
       "order": null,
       "overflow": null,
       "padding": null,
       "right": null,
       "top": null,
       "visibility": null,
       "width": null
      }
     },
     "ceb00d56c21b4250bbd2be7e6a34ed1e": {
      "model_module": "@jupyter-widgets/controls",
      "model_module_version": "2.0.0",
      "model_name": "HTMLStyleModel",
      "state": {
       "_model_module": "@jupyter-widgets/controls",
       "_model_module_version": "2.0.0",
       "_model_name": "HTMLStyleModel",
       "_view_count": null,
       "_view_module": "@jupyter-widgets/base",
       "_view_module_version": "2.0.0",
       "_view_name": "StyleView",
       "background": null,
       "description_width": "",
       "font_size": null,
       "text_color": null
      }
     },
     "cf9e3007fbf44f929f500b8069e7da39": {
      "model_module": "@jupyter-widgets/controls",
      "model_module_version": "2.0.0",
      "model_name": "FloatProgressModel",
      "state": {
       "_dom_classes": [],
       "_model_module": "@jupyter-widgets/controls",
       "_model_module_version": "2.0.0",
       "_model_name": "FloatProgressModel",
       "_view_count": null,
       "_view_module": "@jupyter-widgets/controls",
       "_view_module_version": "2.0.0",
       "_view_name": "ProgressView",
       "bar_style": "",
       "description": "",
       "description_allow_html": false,
       "layout": "IPY_MODEL_91494ff0a49d423a9cd5d048ef6ed108",
       "max": 50000.0,
       "min": 0.0,
       "orientation": "horizontal",
       "style": "IPY_MODEL_006d783bd417487cb855db80d7f4fbde",
       "tabbable": null,
       "tooltip": null,
       "value": 50000.0
      }
     },
     "dcb7d9d3a4d04e5db8a9e8d54be61f4c": {
      "model_module": "@jupyter-widgets/base",
      "model_module_version": "2.0.0",
      "model_name": "LayoutModel",
      "state": {
       "_model_module": "@jupyter-widgets/base",
       "_model_module_version": "2.0.0",
       "_model_name": "LayoutModel",
       "_view_count": null,
       "_view_module": "@jupyter-widgets/base",
       "_view_module_version": "2.0.0",
       "_view_name": "LayoutView",
       "align_content": null,
       "align_items": null,
       "align_self": null,
       "border_bottom": null,
       "border_left": null,
       "border_right": null,
       "border_top": null,
       "bottom": null,
       "display": null,
       "flex": null,
       "flex_flow": null,
       "grid_area": null,
       "grid_auto_columns": null,
       "grid_auto_flow": null,
       "grid_auto_rows": null,
       "grid_column": null,
       "grid_gap": null,
       "grid_row": null,
       "grid_template_areas": null,
       "grid_template_columns": null,
       "grid_template_rows": null,
       "height": null,
       "justify_content": null,
       "justify_items": null,
       "left": null,
       "margin": null,
       "max_height": null,
       "max_width": null,
       "min_height": null,
       "min_width": null,
       "object_fit": null,
       "object_position": null,
       "order": null,
       "overflow": null,
       "padding": null,
       "right": null,
       "top": null,
       "visibility": null,
       "width": null
      }
     },
     "dd00cc4d229f49b7a6e0703399b3fd8e": {
      "model_module": "@jupyter-widgets/controls",
      "model_module_version": "2.0.0",
      "model_name": "HTMLModel",
      "state": {
       "_dom_classes": [],
       "_model_module": "@jupyter-widgets/controls",
       "_model_module_version": "2.0.0",
       "_model_name": "HTMLModel",
       "_view_count": null,
       "_view_module": "@jupyter-widgets/controls",
       "_view_module_version": "2.0.0",
       "_view_name": "HTMLView",
       "description": "",
       "description_allow_html": false,
       "layout": "IPY_MODEL_62b09fe65d9d44a38f2aceda452069a2",
       "placeholder": "​",
       "style": "IPY_MODEL_ceb00d56c21b4250bbd2be7e6a34ed1e",
       "tabbable": null,
       "tooltip": null,
       "value": "Generating test examples...:  77%"
      }
     },
     "dfe7a568ed464fec9b7bc535137c5454": {
      "model_module": "@jupyter-widgets/controls",
      "model_module_version": "2.0.0",
      "model_name": "HTMLStyleModel",
      "state": {
       "_model_module": "@jupyter-widgets/controls",
       "_model_module_version": "2.0.0",
       "_model_name": "HTMLStyleModel",
       "_view_count": null,
       "_view_module": "@jupyter-widgets/base",
       "_view_module_version": "2.0.0",
       "_view_name": "StyleView",
       "background": null,
       "description_width": "",
       "font_size": null,
       "text_color": null
      }
     },
     "e251adbd51d549b2b2d72ae5fa15882f": {
      "model_module": "@jupyter-widgets/controls",
      "model_module_version": "2.0.0",
      "model_name": "HBoxModel",
      "state": {
       "_dom_classes": [],
       "_model_module": "@jupyter-widgets/controls",
       "_model_module_version": "2.0.0",
       "_model_name": "HBoxModel",
       "_view_count": null,
       "_view_module": "@jupyter-widgets/controls",
       "_view_module_version": "2.0.0",
       "_view_name": "HBoxView",
       "box_style": "",
       "children": [
        "IPY_MODEL_6aaf9cc8193349d7b0bea13961a19d32",
        "IPY_MODEL_4ff8f208598042879699fb2d7e86ee73",
        "IPY_MODEL_0bb4e0c7945242d8a8497b04b5e6c5cc"
       ],
       "layout": "IPY_MODEL_56ca9949a41d4123b7525a45cb5a6778",
       "tabbable": null,
       "tooltip": null
      }
     },
     "e3028298ec8c4d2ebcf3c6bcbca0b8e9": {
      "model_module": "@jupyter-widgets/controls",
      "model_module_version": "2.0.0",
      "model_name": "HTMLModel",
      "state": {
       "_dom_classes": [],
       "_model_module": "@jupyter-widgets/controls",
       "_model_module_version": "2.0.0",
       "_model_name": "HTMLModel",
       "_view_count": null,
       "_view_module": "@jupyter-widgets/controls",
       "_view_module_version": "2.0.0",
       "_view_name": "HTMLView",
       "description": "",
       "description_allow_html": false,
       "layout": "IPY_MODEL_eb8a67593c5e401aafe6e55bf4c72c6f",
       "placeholder": "​",
       "style": "IPY_MODEL_e5d6b7bebeb74abda4b6fcac6bdec643",
       "tabbable": null,
       "tooltip": null,
       "value": " 3/3 [00:31&lt;00:00, 10.97s/ splits]"
      }
     },
     "e5d6b7bebeb74abda4b6fcac6bdec643": {
      "model_module": "@jupyter-widgets/controls",
      "model_module_version": "2.0.0",
      "model_name": "HTMLStyleModel",
      "state": {
       "_model_module": "@jupyter-widgets/controls",
       "_model_module_version": "2.0.0",
       "_model_name": "HTMLStyleModel",
       "_view_count": null,
       "_view_module": "@jupyter-widgets/base",
       "_view_module_version": "2.0.0",
       "_view_name": "StyleView",
       "background": null,
       "description_width": "",
       "font_size": null,
       "text_color": null
      }
     },
     "e6eb68e4910e4a12a2b59e06bd019e18": {
      "model_module": "@jupyter-widgets/controls",
      "model_module_version": "2.0.0",
      "model_name": "HBoxModel",
      "state": {
       "_dom_classes": [],
       "_model_module": "@jupyter-widgets/controls",
       "_model_module_version": "2.0.0",
       "_model_name": "HBoxModel",
       "_view_count": null,
       "_view_module": "@jupyter-widgets/controls",
       "_view_module_version": "2.0.0",
       "_view_name": "HBoxView",
       "box_style": "",
       "children": [
        "IPY_MODEL_259506410bf24695af7af2c857c7787c",
        "IPY_MODEL_85eb9b5841ea47dd9638cab5eae637c1",
        "IPY_MODEL_4c95e0cd487c4c178b0808768007c1fd"
       ],
       "layout": "IPY_MODEL_702848edbafe4520b3aa1103d8203d8e",
       "tabbable": null,
       "tooltip": null
      }
     },
     "eb8a67593c5e401aafe6e55bf4c72c6f": {
      "model_module": "@jupyter-widgets/base",
      "model_module_version": "2.0.0",
      "model_name": "LayoutModel",
      "state": {
       "_model_module": "@jupyter-widgets/base",
       "_model_module_version": "2.0.0",
       "_model_name": "LayoutModel",
       "_view_count": null,
       "_view_module": "@jupyter-widgets/base",
       "_view_module_version": "2.0.0",
       "_view_name": "LayoutView",
       "align_content": null,
       "align_items": null,
       "align_self": null,
       "border_bottom": null,
       "border_left": null,
       "border_right": null,
       "border_top": null,
       "bottom": null,
       "display": null,
       "flex": null,
       "flex_flow": null,
       "grid_area": null,
       "grid_auto_columns": null,
       "grid_auto_flow": null,
       "grid_auto_rows": null,
       "grid_column": null,
       "grid_gap": null,
       "grid_row": null,
       "grid_template_areas": null,
       "grid_template_columns": null,
       "grid_template_rows": null,
       "height": null,
       "justify_content": null,
       "justify_items": null,
       "left": null,
       "margin": null,
       "max_height": null,
       "max_width": null,
       "min_height": null,
       "min_width": null,
       "object_fit": null,
       "object_position": null,
       "order": null,
       "overflow": null,
       "padding": null,
       "right": null,
       "top": null,
       "visibility": null,
       "width": null
      }
     },
     "ec404f6a3fe4401f9346a051ab60c8c8": {
      "model_module": "@jupyter-widgets/base",
      "model_module_version": "2.0.0",
      "model_name": "LayoutModel",
      "state": {
       "_model_module": "@jupyter-widgets/base",
       "_model_module_version": "2.0.0",
       "_model_name": "LayoutModel",
       "_view_count": null,
       "_view_module": "@jupyter-widgets/base",
       "_view_module_version": "2.0.0",
       "_view_name": "LayoutView",
       "align_content": null,
       "align_items": null,
       "align_self": null,
       "border_bottom": null,
       "border_left": null,
       "border_right": null,
       "border_top": null,
       "bottom": null,
       "display": null,
       "flex": null,
       "flex_flow": null,
       "grid_area": null,
       "grid_auto_columns": null,
       "grid_auto_flow": null,
       "grid_auto_rows": null,
       "grid_column": null,
       "grid_gap": null,
       "grid_row": null,
       "grid_template_areas": null,
       "grid_template_columns": null,
       "grid_template_rows": null,
       "height": null,
       "justify_content": null,
       "justify_items": null,
       "left": null,
       "margin": null,
       "max_height": null,
       "max_width": null,
       "min_height": null,
       "min_width": null,
       "object_fit": null,
       "object_position": null,
       "order": null,
       "overflow": null,
       "padding": null,
       "right": null,
       "top": null,
       "visibility": null,
       "width": null
      }
     },
     "f0c7a1c61373405d9374b5080144ba41": {
      "model_module": "@jupyter-widgets/controls",
      "model_module_version": "2.0.0",
      "model_name": "HBoxModel",
      "state": {
       "_dom_classes": [],
       "_model_module": "@jupyter-widgets/controls",
       "_model_module_version": "2.0.0",
       "_model_name": "HBoxModel",
       "_view_count": null,
       "_view_module": "@jupyter-widgets/controls",
       "_view_module_version": "2.0.0",
       "_view_name": "HBoxView",
       "box_style": "",
       "children": [
        "IPY_MODEL_1b6cf434d59f4892b46ff8837a49a5b9",
        "IPY_MODEL_a50c295231ae4b3a8359d3885c315cd4",
        "IPY_MODEL_e3028298ec8c4d2ebcf3c6bcbca0b8e9"
       ],
       "layout": "IPY_MODEL_11b225e48fbc40a886a7b598ebf118ad",
       "tabbable": null,
       "tooltip": null
      }
     },
     "f9b65193060b417399a9169bb2babb8d": {
      "model_module": "@jupyter-widgets/controls",
      "model_module_version": "2.0.0",
      "model_name": "HTMLStyleModel",
      "state": {
       "_model_module": "@jupyter-widgets/controls",
       "_model_module_version": "2.0.0",
       "_model_name": "HTMLStyleModel",
       "_view_count": null,
       "_view_module": "@jupyter-widgets/base",
       "_view_module_version": "2.0.0",
       "_view_name": "StyleView",
       "background": null,
       "description_width": "",
       "font_size": null,
       "text_color": null
      }
     },
     "fb6f2fec506f432ab479082e44c86ff9": {
      "model_module": "@jupyter-widgets/controls",
      "model_module_version": "2.0.0",
      "model_name": "ProgressStyleModel",
      "state": {
       "_model_module": "@jupyter-widgets/controls",
       "_model_module_version": "2.0.0",
       "_model_name": "ProgressStyleModel",
       "_view_count": null,
       "_view_module": "@jupyter-widgets/base",
       "_view_module_version": "2.0.0",
       "_view_name": "StyleView",
       "bar_color": null,
       "description_width": ""
      }
     },
     "fcf70b6d0a7e4ca5a1f5671001231f50": {
      "model_module": "@jupyter-widgets/base",
      "model_module_version": "2.0.0",
      "model_name": "LayoutModel",
      "state": {
       "_model_module": "@jupyter-widgets/base",
       "_model_module_version": "2.0.0",
       "_model_name": "LayoutModel",
       "_view_count": null,
       "_view_module": "@jupyter-widgets/base",
       "_view_module_version": "2.0.0",
       "_view_name": "LayoutView",
       "align_content": null,
       "align_items": null,
       "align_self": null,
       "border_bottom": null,
       "border_left": null,
       "border_right": null,
       "border_top": null,
       "bottom": null,
       "display": null,
       "flex": null,
       "flex_flow": null,
       "grid_area": null,
       "grid_auto_columns": null,
       "grid_auto_flow": null,
       "grid_auto_rows": null,
       "grid_column": null,
       "grid_gap": null,
       "grid_row": null,
       "grid_template_areas": null,
       "grid_template_columns": null,
       "grid_template_rows": null,
       "height": null,
       "justify_content": null,
       "justify_items": null,
       "left": null,
       "margin": null,
       "max_height": null,
       "max_width": null,
       "min_height": null,
       "min_width": null,
       "object_fit": null,
       "object_position": null,
       "order": null,
       "overflow": null,
       "padding": null,
       "right": null,
       "top": null,
       "visibility": null,
       "width": null
      }
     },
     "fd87cbc6380147bdae4c1809c57a87ea": {
      "model_module": "@jupyter-widgets/base",
      "model_module_version": "2.0.0",
      "model_name": "LayoutModel",
      "state": {
       "_model_module": "@jupyter-widgets/base",
       "_model_module_version": "2.0.0",
       "_model_name": "LayoutModel",
       "_view_count": null,
       "_view_module": "@jupyter-widgets/base",
       "_view_module_version": "2.0.0",
       "_view_name": "LayoutView",
       "align_content": null,
       "align_items": null,
       "align_self": null,
       "border_bottom": null,
       "border_left": null,
       "border_right": null,
       "border_top": null,
       "bottom": null,
       "display": null,
       "flex": null,
       "flex_flow": null,
       "grid_area": null,
       "grid_auto_columns": null,
       "grid_auto_flow": null,
       "grid_auto_rows": null,
       "grid_column": null,
       "grid_gap": null,
       "grid_row": null,
       "grid_template_areas": null,
       "grid_template_columns": null,
       "grid_template_rows": null,
       "height": null,
       "justify_content": null,
       "justify_items": null,
       "left": null,
       "margin": null,
       "max_height": null,
       "max_width": null,
       "min_height": null,
       "min_width": null,
       "object_fit": null,
       "object_position": null,
       "order": null,
       "overflow": null,
       "padding": null,
       "right": null,
       "top": null,
       "visibility": null,
       "width": null
      }
     }
    },
    "version_major": 2,
    "version_minor": 0
   }
  }
 },
 "nbformat": 4,
 "nbformat_minor": 5
}
