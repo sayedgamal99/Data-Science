{
 "cells": [
  {
   "cell_type": "markdown",
   "metadata": {},
   "source": [
    "# CH10 Introduction to Artificial Neural Networks with Keras\n"
   ]
  },
  {
   "cell_type": "markdown",
   "metadata": {},
   "source": [
    "example of using Perceptron:\n"
   ]
  },
  {
   "cell_type": "code",
   "execution_count": 1,
   "metadata": {},
   "outputs": [],
   "source": [
    "import numpy as np\n",
    "from sklearn.linear_model import Perceptron\n",
    "from sklearn.datasets import load_iris\n",
    "\n",
    "iris = load_iris(as_frame=True)\n",
    "X, y = iris.data[[\"petal length (cm)\", \"petal width (cm)\"]\n",
    "                 ].values, (iris.target == 0)\n",
    "\n",
    "per_clf = Perceptron(random_state=34)\n",
    "per_clf.fit(X, y)\n",
    "\n",
    "X_new = [[2, 0.5], [3, 1]]\n",
    "y_pred = per_clf.predict(X_new)"
   ]
  },
  {
   "cell_type": "code",
   "execution_count": 104,
   "metadata": {},
   "outputs": [
    {
     "data": {
      "text/plain": [
       "array([ True, False])"
      ]
     },
     "execution_count": 104,
     "metadata": {},
     "output_type": "execute_result"
    }
   ],
   "source": [
    "y_pred"
   ]
  },
  {
   "cell_type": "markdown",
   "metadata": {},
   "source": [
    "example of using MLPs (multi-layer-perceptron)\n"
   ]
  },
  {
   "cell_type": "code",
   "execution_count": 2,
   "metadata": {},
   "outputs": [
    {
     "name": "stderr",
     "output_type": "stream",
     "text": [
      "c:\\Users\\sayed\\anaconda3\\lib\\site-packages\\sklearn\\neural_network\\_multilayer_perceptron.py:691: ConvergenceWarning: Stochastic Optimizer: Maximum iterations (200) reached and the optimization hasn't converged yet.\n",
      "  warnings.warn(\n"
     ]
    },
    {
     "data": {
      "text/plain": [
       "0.5324025638801033"
      ]
     },
     "execution_count": 2,
     "metadata": {},
     "output_type": "execute_result"
    }
   ],
   "source": [
    "from sklearn.datasets import fetch_california_housing\n",
    "from sklearn.metrics import mean_squared_error\n",
    "from sklearn.model_selection import train_test_split\n",
    "from sklearn.neural_network import MLPRegressor\n",
    "from sklearn.pipeline import make_pipeline\n",
    "from sklearn.preprocessing import StandardScaler\n",
    "\n",
    "housing = fetch_california_housing()\n",
    "X_train, xtemp, y_train, ytemp = train_test_split(\n",
    "    housing.data, housing.target, test_size=.4, random_state=34)\n",
    "X_valid, X_test, y_valid, y_test = train_test_split(\n",
    "    xtemp, ytemp, test_size=.5, random_state=3)\n",
    "\n",
    "mlp = MLPRegressor(hidden_layer_sizes=[50, 50, 50], random_state=3)\n",
    "pipeline = make_pipeline(StandardScaler(), mlp)\n",
    "pipeline.fit(X_train, y_train)\n",
    "y_pred = pipeline.predict(X_valid)\n",
    "rmse = mean_squared_error(y_valid, y_pred, squared=False)\n",
    "rmse"
   ]
  },
  {
   "cell_type": "markdown",
   "metadata": {},
   "source": [
    "---\n"
   ]
  },
  {
   "cell_type": "markdown",
   "metadata": {},
   "source": [
    "# Implementing MLPs with Keras\n"
   ]
  },
  {
   "cell_type": "code",
   "execution_count": 3,
   "metadata": {},
   "outputs": [],
   "source": [
    "import tensorflow as tf\n",
    "fashon_mnist = tf.keras.datasets.fashion_mnist.load_data()\n",
    "(X_train_f, y_train_f), (X_test, y_test) = fashon_mnist\n",
    "X_train, y_train = X_train_f[:-5000], y_train_f[:-5000]\n",
    "X_valid, y_valid = X_train_f[-5000:], y_train_f[-5000:]"
   ]
  },
  {
   "cell_type": "code",
   "execution_count": 107,
   "metadata": {},
   "outputs": [
    {
     "data": {
      "text/plain": [
       "(55000, 28, 28)"
      ]
     },
     "execution_count": 107,
     "metadata": {},
     "output_type": "execute_result"
    }
   ],
   "source": [
    "X_train.shape"
   ]
  },
  {
   "cell_type": "code",
   "execution_count": 108,
   "metadata": {},
   "outputs": [
    {
     "data": {
      "text/plain": [
       "dtype('uint8')"
      ]
     },
     "execution_count": 108,
     "metadata": {},
     "output_type": "execute_result"
    }
   ],
   "source": [
    "X_train.dtype"
   ]
  },
  {
   "cell_type": "code",
   "execution_count": 109,
   "metadata": {},
   "outputs": [],
   "source": [
    "X_train, X_valid, X_test = X_train / 255., X_valid / 255., X_test / 255."
   ]
  },
  {
   "cell_type": "code",
   "execution_count": 110,
   "metadata": {},
   "outputs": [],
   "source": [
    "class_names = [\"T-shirt/top\", \"Trouser\", \"Pullover\", \"Dress\", \"Coat\",\n",
    "               \"Sandal\", \"Shirt\", \"Sneaker\", \"Bag\", \"Ankle boot\"]"
   ]
  },
  {
   "cell_type": "code",
   "execution_count": 111,
   "metadata": {},
   "outputs": [
    {
     "data": {
      "text/plain": [
       "array([9, 0, 0, ..., 9, 0, 2], dtype=uint8)"
      ]
     },
     "execution_count": 111,
     "metadata": {},
     "output_type": "execute_result"
    }
   ],
   "source": [
    "y_train"
   ]
  },
  {
   "cell_type": "code",
   "execution_count": 112,
   "metadata": {},
   "outputs": [
    {
     "data": {
      "text/plain": [
       "'Ankle boot'"
      ]
     },
     "execution_count": 112,
     "metadata": {},
     "output_type": "execute_result"
    }
   ],
   "source": [
    "class_names[y_train[0]]"
   ]
  },
  {
   "cell_type": "code",
   "execution_count": null,
   "metadata": {},
   "outputs": [],
   "source": []
  },
  {
   "cell_type": "code",
   "execution_count": 4,
   "metadata": {},
   "outputs": [
    {
     "ename": "NameError",
     "evalue": "name 'class_names' is not defined",
     "output_type": "error",
     "traceback": [
      "\u001b[1;31m---------------------------------------------------------------------------\u001b[0m",
      "\u001b[1;31mNameError\u001b[0m                                 Traceback (most recent call last)",
      "Cell \u001b[1;32mIn[4], line 12\u001b[0m\n\u001b[0;32m     10\u001b[0m         plt\u001b[38;5;241m.\u001b[39mimshow(X_train[i], cmap\u001b[38;5;241m=\u001b[39m\u001b[38;5;124m'\u001b[39m\u001b[38;5;124mbinary\u001b[39m\u001b[38;5;124m'\u001b[39m, interpolation\u001b[38;5;241m=\u001b[39m\u001b[38;5;124m\"\u001b[39m\u001b[38;5;124mnearest\u001b[39m\u001b[38;5;124m\"\u001b[39m)\n\u001b[0;32m     11\u001b[0m         plt\u001b[38;5;241m.\u001b[39maxis(\u001b[38;5;124m'\u001b[39m\u001b[38;5;124moff\u001b[39m\u001b[38;5;124m'\u001b[39m)\n\u001b[1;32m---> 12\u001b[0m         plt\u001b[38;5;241m.\u001b[39mtitle(\u001b[43mclass_names\u001b[49m[y_train[i]])\n\u001b[0;32m     13\u001b[0m plt\u001b[38;5;241m.\u001b[39msubplots_adjust(wspace\u001b[38;5;241m=\u001b[39m\u001b[38;5;241m0.2\u001b[39m, hspace\u001b[38;5;241m=\u001b[39m\u001b[38;5;241m0.5\u001b[39m)\n\u001b[0;32m     14\u001b[0m plt\u001b[38;5;241m.\u001b[39mshow()\n",
      "\u001b[1;31mNameError\u001b[0m: name 'class_names' is not defined"
     ]
    },
    {
     "data": {
      "image/png": "[encoded data removed]",
      "text/plain": [
       "<Figure size 1300x480 with 1 Axes>"
      ]
     },
     "metadata": {},
     "output_type": "display_data"
    }
   ],
   "source": [
    "import matplotlib.pyplot as plt\n",
    "n_rows = 4\n",
    "n_cols = 10\n",
    "plt.figure(figsize=(n_cols*1.3, n_rows*1.2))\n",
    "i = 0\n",
    "for r in range(n_rows):\n",
    "    for c in range(n_cols):\n",
    "        i += 1\n",
    "        plt.subplot(n_rows, n_cols, i)\n",
    "        plt.imshow(X_train[i], cmap='binary', interpolation=\"nearest\")\n",
    "        plt.axis('off')\n",
    "        plt.title(class_names[y_train[i]])\n",
    "plt.subplots_adjust(wspace=0.2, hspace=0.5)\n",
    "plt.show()"
   ]
  },
  {
   "cell_type": "markdown",
   "metadata": {},
   "source": [
    "### Creating a Model with Sequential API\n"
   ]
  },
  {
   "cell_type": "code",
   "execution_count": null,
   "metadata": {},
   "outputs": [],
   "source": [
    "from tensorflow.keras.models import Sequential\n",
    "from tensorflow.keras.layers import Dense, Flatten, InputLayer\n",
    "\n",
    "tf.random.set_seed(3)\n",
    "model = Sequential()\n",
    "model.add(InputLayer(input_shape=(28, 28)))\n",
    "model.add(Flatten())\n",
    "model.add(Dense(300, activation='relu'))\n",
    "model.add(Dense(100, activation='relu'))\n",
    "model.add(Dense(10, activation='softmax'))"
   ]
  },
  {
   "cell_type": "code",
   "execution_count": 115,
   "metadata": {},
   "outputs": [
    {
     "name": "stdout",
     "output_type": "stream",
     "text": [
      "Model: \"sequential_8\"\n",
      "_________________________________________________________________\n",
      " Layer (type)                Output Shape              Param #   \n",
      "=================================================================\n",
      " flatten_2 (Flatten)         (None, 784)               0         \n",
      "                                                                 \n",
      " dense_24 (Dense)            (None, 300)               235500    \n",
      "                                                                 \n",
      " dense_25 (Dense)            (None, 100)               30100     \n",
      "                                                                 \n",
      " dense_26 (Dense)            (None, 10)                1010      \n",
      "                                                                 \n",
      "=================================================================\n",
      "Total params: 266,610\n",
      "Trainable params: 266,610\n",
      "Non-trainable params: 0\n",
      "_________________________________________________________________\n"
     ]
    }
   ],
   "source": [
    "model.summary()"
   ]
  },
  {
   "cell_type": "code",
   "execution_count": null,
   "metadata": {},
   "outputs": [],
   "source": []
  },
  {
   "cell_type": "code",
   "execution_count": null,
   "metadata": {},
   "outputs": [],
   "source": [
    "from tensorflow.keras.activations import softmax, relu\n",
    "tf.keras.backend.clear_session()\n",
    "tf.random.set_seed(42)\n",
    "\n",
    "model = Sequential([\n",
    "    Flatten(input_shape=[28, 28]),\n",
    "    Dense(300, activation=relu),\n",
    "    Dense(100, activation=relu),\n",
    "    Dense(10, activation=softmax)\n",
    "])"
   ]
  },
  {
   "cell_type": "code",
   "execution_count": 117,
   "metadata": {},
   "outputs": [
    {
     "name": "stdout",
     "output_type": "stream",
     "text": [
      "Model: \"sequential\"\n",
      "_________________________________________________________________\n",
      " Layer (type)                Output Shape              Param #   \n",
      "=================================================================\n",
      " flatten (Flatten)           (None, 784)               0         \n",
      "                                                                 \n",
      " dense (Dense)               (None, 300)               235500    \n",
      "                                                                 \n",
      " dense_1 (Dense)             (None, 100)               30100     \n",
      "                                                                 \n",
      " dense_2 (Dense)             (None, 10)                1010      \n",
      "                                                                 \n",
      "=================================================================\n",
      "Total params: 266,610\n",
      "Trainable params: 266,610\n",
      "Non-trainable params: 0\n",
      "_________________________________________________________________\n"
     ]
    }
   ],
   "source": [
    "model.summary()"
   ]
  },
  {
   "cell_type": "code",
   "execution_count": 118,
   "metadata": {},
   "outputs": [
    {
     "data": {
      "image/png": "[encoded data removed]",
      "text/plain": [
       "<IPython.core.display.Image object>"
      ]
     },
     "execution_count": 118,
     "metadata": {},
     "output_type": "execute_result"
    }
   ],
   "source": [
    "tf.keras.utils.plot_model(model, show_shapes=True, show_dtype=True,\n",
    "                          show_layer_activations=True, show_layer_names=True)"
   ]
  },
  {
   "cell_type": "code",
   "execution_count": 119,
   "metadata": {},
   "outputs": [
    {
     "data": {
      "text/plain": [
       "[<keras.layers.reshaping.flatten.Flatten at 0x1e7dfd9a350>,\n",
       " <keras.layers.core.dense.Dense at 0x1e6ea31be80>,\n",
       " <keras.layers.core.dense.Dense at 0x1e6ea31b1c0>,\n",
       " <keras.layers.core.dense.Dense at 0x1e6ea31bbe0>]"
      ]
     },
     "execution_count": 119,
     "metadata": {},
     "output_type": "execute_result"
    }
   ],
   "source": [
    "model.layers"
   ]
  },
  {
   "cell_type": "code",
   "execution_count": 120,
   "metadata": {},
   "outputs": [
    {
     "data": {
      "text/plain": [
       "'dense'"
      ]
     },
     "execution_count": 120,
     "metadata": {},
     "output_type": "execute_result"
    }
   ],
   "source": [
    "hidden1 = model.layers[1]\n",
    "hidden1.name"
   ]
  },
  {
   "cell_type": "code",
   "execution_count": 121,
   "metadata": {},
   "outputs": [
    {
     "data": {
      "text/plain": [
       "True"
      ]
     },
     "execution_count": 121,
     "metadata": {},
     "output_type": "execute_result"
    }
   ],
   "source": [
    "model.get_layer('dense') is hidden1"
   ]
  },
  {
   "cell_type": "code",
   "execution_count": 122,
   "metadata": {},
   "outputs": [
    {
     "data": {
      "text/plain": [
       "array([[ 0.06995015,  0.04114983,  0.07128352, ...,  0.02947556,\n",
       "        -0.06137232, -0.00528669],\n",
       "       [-0.00838938,  0.03008445,  0.03188126, ...,  0.0111163 ,\n",
       "        -0.07044537, -0.06373099],\n",
       "       [ 0.02381635, -0.01460785, -0.00981675, ...,  0.02757901,\n",
       "        -0.0692351 ,  0.00687566],\n",
       "       ...,\n",
       "       [ 0.05921054, -0.03560367, -0.06568803, ...,  0.01032068,\n",
       "         0.04483328,  0.01042698],\n",
       "       [ 0.05800413,  0.01284763,  0.01555669, ..., -0.05624226,\n",
       "         0.0620064 ,  0.0262538 ],\n",
       "       [-0.00830625,  0.04870666,  0.00303472, ...,  0.04209414,\n",
       "         0.07348573,  0.01298487]], dtype=float32)"
      ]
     },
     "execution_count": 122,
     "metadata": {},
     "output_type": "execute_result"
    }
   ],
   "source": [
    "weights, biases = hidden1.get_weights()\n",
    "weights"
   ]
  },
  {
   "cell_type": "code",
   "execution_count": 123,
   "metadata": {},
   "outputs": [
    {
     "data": {
      "text/plain": [
       "(784, 300)"
      ]
     },
     "execution_count": 123,
     "metadata": {},
     "output_type": "execute_result"
    }
   ],
   "source": [
    "weights.shape"
   ]
  },
  {
   "cell_type": "code",
   "execution_count": 124,
   "metadata": {},
   "outputs": [],
   "source": [
    "model.compile(loss='sparse_categorical_crossentropy',\n",
    "              optimizer='sgd', metrics=['accuracy'])\n",
    "\n",
    "# equivalent:\n",
    "\n",
    "model.compile(loss=tf.keras.losses.sparse_categorical_crossentropy,\n",
    "              optimizer=tf.keras.optimizers.SGD(), metrics=tf.keras.metrics.sparse_categorical_accuracy)"
   ]
  },
  {
   "cell_type": "code",
   "execution_count": 125,
   "metadata": {},
   "outputs": [
    {
     "name": "stdout",
     "output_type": "stream",
     "text": [
      "[[1. 0. 0. 0. 0. 0. 0. 0. 0. 0.]\n",
      " [0. 0. 0. 0. 1. 0. 0. 0. 0. 0.]\n",
      " [0. 0. 0. 0. 0. 1. 0. 0. 0. 0.]\n",
      " [0. 0. 0. 0. 0. 0. 0. 0. 0. 1.]] [0 4 5 9]\n"
     ]
    }
   ],
   "source": [
    "onehot = tf.keras.utils.to_categorical(\n",
    "    [0, 4, 5, 9], num_classes=10)  # convert to one hot representation\n",
    "sparse = np.argmax(onehot, axis=1)  # convert back to class number\n",
    "print(onehot, sparse)"
   ]
  },
  {
   "cell_type": "code",
   "execution_count": 59,
   "metadata": {},
   "outputs": [
    {
     "name": "stdout",
     "output_type": "stream",
     "text": [
      "Epoch 1/30\n",
      "1719/1719 [==============================] - 4s 2ms/step - loss: 0.7170 - sparse_categorical_accuracy: 0.7666 - val_loss: 0.5017 - val_sparse_categorical_accuracy: 0.8284\n",
      "Epoch 2/30\n",
      "1719/1719 [==============================] - 4s 3ms/step - loss: 0.4894 - sparse_categorical_accuracy: 0.8294 - val_loss: 0.4597 - val_sparse_categorical_accuracy: 0.8318\n",
      "Epoch 3/30\n",
      "1719/1719 [==============================] - 4s 2ms/step - loss: 0.4418 - sparse_categorical_accuracy: 0.8444 - val_loss: 0.4225 - val_sparse_categorical_accuracy: 0.8540\n",
      "Epoch 4/30\n",
      "1719/1719 [==============================] - 3s 2ms/step - loss: 0.4159 - sparse_categorical_accuracy: 0.8537 - val_loss: 0.3959 - val_sparse_categorical_accuracy: 0.8628\n",
      "Epoch 5/30\n",
      "1719/1719 [==============================] - 4s 2ms/step - loss: 0.3952 - sparse_categorical_accuracy: 0.8608 - val_loss: 0.3928 - val_sparse_categorical_accuracy: 0.8616\n",
      "Epoch 6/30\n",
      "1719/1719 [==============================] - 4s 2ms/step - loss: 0.3791 - sparse_categorical_accuracy: 0.8651 - val_loss: 0.3943 - val_sparse_categorical_accuracy: 0.8624\n",
      "Epoch 7/30\n",
      "1719/1719 [==============================] - 4s 2ms/step - loss: 0.3668 - sparse_categorical_accuracy: 0.8700 - val_loss: 0.3731 - val_sparse_categorical_accuracy: 0.8694\n",
      "Epoch 8/30\n",
      "1719/1719 [==============================] - 3s 2ms/step - loss: 0.3553 - sparse_categorical_accuracy: 0.8739 - val_loss: 0.3793 - val_sparse_categorical_accuracy: 0.8598\n",
      "Epoch 9/30\n",
      "1719/1719 [==============================] - 4s 2ms/step - loss: 0.3446 - sparse_categorical_accuracy: 0.8775 - val_loss: 0.3534 - val_sparse_categorical_accuracy: 0.8704\n",
      "Epoch 10/30\n",
      "1719/1719 [==============================] - 3s 2ms/step - loss: 0.3350 - sparse_categorical_accuracy: 0.8800 - val_loss: 0.3526 - val_sparse_categorical_accuracy: 0.8722\n",
      "Epoch 11/30\n",
      "1719/1719 [==============================] - 4s 2ms/step - loss: 0.3268 - sparse_categorical_accuracy: 0.8834 - val_loss: 0.3618 - val_sparse_categorical_accuracy: 0.8688\n",
      "Epoch 12/30\n",
      "1719/1719 [==============================] - 4s 2ms/step - loss: 0.3189 - sparse_categorical_accuracy: 0.8857 - val_loss: 0.3498 - val_sparse_categorical_accuracy: 0.8720\n",
      "Epoch 13/30\n",
      "1719/1719 [==============================] - 4s 2ms/step - loss: 0.3122 - sparse_categorical_accuracy: 0.8892 - val_loss: 0.3312 - val_sparse_categorical_accuracy: 0.8794\n",
      "Epoch 14/30\n",
      "1719/1719 [==============================] - 4s 2ms/step - loss: 0.3049 - sparse_categorical_accuracy: 0.8907 - val_loss: 0.3415 - val_sparse_categorical_accuracy: 0.8796\n",
      "Epoch 15/30\n",
      "1719/1719 [==============================] - 4s 2ms/step - loss: 0.2988 - sparse_categorical_accuracy: 0.8931 - val_loss: 0.3381 - val_sparse_categorical_accuracy: 0.8784\n",
      "Epoch 16/30\n",
      "1719/1719 [==============================] - 4s 2ms/step - loss: 0.2919 - sparse_categorical_accuracy: 0.8952 - val_loss: 0.3286 - val_sparse_categorical_accuracy: 0.8800\n",
      "Epoch 17/30\n",
      "1719/1719 [==============================] - 3s 2ms/step - loss: 0.2868 - sparse_categorical_accuracy: 0.8963 - val_loss: 0.3349 - val_sparse_categorical_accuracy: 0.8786\n",
      "Epoch 18/30\n",
      "1719/1719 [==============================] - 3s 2ms/step - loss: 0.2808 - sparse_categorical_accuracy: 0.8991 - val_loss: 0.3284 - val_sparse_categorical_accuracy: 0.8838\n",
      "Epoch 19/30\n",
      "1719/1719 [==============================] - 3s 2ms/step - loss: 0.2763 - sparse_categorical_accuracy: 0.9006 - val_loss: 0.3445 - val_sparse_categorical_accuracy: 0.8728\n",
      "Epoch 20/30\n",
      "1719/1719 [==============================] - 4s 2ms/step - loss: 0.2715 - sparse_categorical_accuracy: 0.9022 - val_loss: 0.3175 - val_sparse_categorical_accuracy: 0.8820\n",
      "Epoch 21/30\n",
      "1719/1719 [==============================] - 4s 2ms/step - loss: 0.2662 - sparse_categorical_accuracy: 0.9036 - val_loss: 0.3194 - val_sparse_categorical_accuracy: 0.8826\n",
      "Epoch 22/30\n",
      "1719/1719 [==============================] - 4s 2ms/step - loss: 0.2616 - sparse_categorical_accuracy: 0.9054 - val_loss: 0.3178 - val_sparse_categorical_accuracy: 0.8854\n",
      "Epoch 23/30\n",
      "1719/1719 [==============================] - 4s 2ms/step - loss: 0.2577 - sparse_categorical_accuracy: 0.9075 - val_loss: 0.3434 - val_sparse_categorical_accuracy: 0.8740\n",
      "Epoch 24/30\n",
      "1719/1719 [==============================] - 4s 2ms/step - loss: 0.2526 - sparse_categorical_accuracy: 0.9097 - val_loss: 0.3219 - val_sparse_categorical_accuracy: 0.8826\n",
      "Epoch 25/30\n",
      "1719/1719 [==============================] - 4s 2ms/step - loss: 0.2488 - sparse_categorical_accuracy: 0.9110 - val_loss: 0.3170 - val_sparse_categorical_accuracy: 0.8864\n",
      "Epoch 26/30\n",
      "1719/1719 [==============================] - 4s 2ms/step - loss: 0.2454 - sparse_categorical_accuracy: 0.9127 - val_loss: 0.3139 - val_sparse_categorical_accuracy: 0.8848\n",
      "Epoch 27/30\n",
      "1719/1719 [==============================] - 3s 2ms/step - loss: 0.2405 - sparse_categorical_accuracy: 0.9131 - val_loss: 0.3187 - val_sparse_categorical_accuracy: 0.8858\n",
      "Epoch 28/30\n",
      "1719/1719 [==============================] - 4s 2ms/step - loss: 0.2374 - sparse_categorical_accuracy: 0.9150 - val_loss: 0.3194 - val_sparse_categorical_accuracy: 0.8860\n",
      "Epoch 29/30\n",
      "1719/1719 [==============================] - 3s 2ms/step - loss: 0.2335 - sparse_categorical_accuracy: 0.9164 - val_loss: 0.3239 - val_sparse_categorical_accuracy: 0.8844\n",
      "Epoch 30/30\n",
      "1719/1719 [==============================] - 4s 2ms/step - loss: 0.2305 - sparse_categorical_accuracy: 0.9180 - val_loss: 0.3094 - val_sparse_categorical_accuracy: 0.8888\n"
     ]
    }
   ],
   "source": [
    "history = model.fit(X_train, y_train, epochs=30,\n",
    "                    validation_data=(X_valid, y_valid))"
   ]
  },
  {
   "cell_type": "code",
   "execution_count": 61,
   "metadata": {},
   "outputs": [
    {
     "data": {
      "text/plain": [
       "{'verbose': 1, 'epochs': 30, 'steps': 1719}"
      ]
     },
     "execution_count": 61,
     "metadata": {},
     "output_type": "execute_result"
    }
   ],
   "source": [
    "history.params"
   ]
  },
  {
   "cell_type": "code",
   "execution_count": 63,
   "metadata": {},
   "outputs": [
    {
     "name": "stdout",
     "output_type": "stream",
     "text": [
      "[0, 1, 2, 3, 4, 5, 6, 7, 8, 9, 10, 11, 12, 13, 14, 15, 16, 17, 18, 19, 20, 21, 22, 23, 24, 25, 26, 27, 28, 29]\n"
     ]
    }
   ],
   "source": [
    "print(history.epoch)"
   ]
  },
  {
   "cell_type": "code",
   "execution_count": 72,
   "metadata": {},
   "outputs": [
    {
     "data": {
      "image/png": "[encoded data removed]",
      "text/plain": [
       "<Figure size 800x500 with 1 Axes>"
      ]
     },
     "metadata": {},
     "output_type": "display_data"
    }
   ],
   "source": [
    "import pandas as pd\n",
    "\n",
    "pd.DataFrame(history.history).plot(\n",
    "    figsize=(8, 5), xlim=[0, 29], ylim=[0, 1], grid=True, xlabel=\"Epoch\",\n",
    "    style=['--', '*-', '+-'])\n",
    "plt.legend(loc=\"lower left\")  # extra code\n",
    "plt.show()"
   ]
  },
  {
   "cell_type": "code",
   "execution_count": 73,
   "metadata": {},
   "outputs": [
    {
     "name": "stdout",
     "output_type": "stream",
     "text": [
      "313/313 [==============================] - 1s 2ms/step - loss: 0.3248 - sparse_categorical_accuracy: 0.8870\n"
     ]
    },
    {
     "data": {
      "text/plain": [
       "[0.3248309791088104, 0.8870000243186951]"
      ]
     },
     "execution_count": 73,
     "metadata": {},
     "output_type": "execute_result"
    }
   ],
   "source": [
    "model.evaluate(X_test, y_test)"
   ]
  },
  {
   "cell_type": "code",
   "execution_count": 87,
   "metadata": {},
   "outputs": [
    {
     "name": "stdout",
     "output_type": "stream",
     "text": [
      "1/1 [==============================] - 0s 19ms/step\n",
      "[[1.8529166e-05 9.3353140e-07 3.0758714e-05 1.8920839e-05 2.1755874e-05\n",
      "  6.0590934e-03 3.4588065e-05 3.1707045e-02 3.8529994e-04 9.6172303e-01]\n",
      " [1.6438162e-04 1.0875410e-08 9.9290508e-01 3.1905522e-08 6.3772062e-03\n",
      "  4.3248207e-11 5.5337476e-04 2.6519559e-12 1.9194883e-09 9.0680886e-11]\n",
      " [1.6361493e-05 9.9997938e-01 1.1900220e-07 3.5455485e-06 5.8256558e-07\n",
      "  2.1557268e-11 6.1563846e-08 2.1710582e-09 3.7581485e-09 7.5814129e-12]]\n",
      "predicted classes [9 2 1]\n",
      "predicted classes names : ['Ankle boot' 'Pullover' 'Trouser']\n"
     ]
    }
   ],
   "source": [
    "X_new = X_test[:3]\n",
    "y_propa = model.predict(X_new)\n",
    "print(y_propa)\n",
    "print(\"predicted classes\", np.argmax(y_propa, axis=1))\n",
    "print(\"predicted classes names :\", np.array(\n",
    "    class_names)[np.argmax(y_propa, axis=1)])"
   ]
  },
  {
   "cell_type": "markdown",
   "metadata": {},
   "source": [
    "### Common errors trial:\n"
   ]
  },
  {
   "cell_type": "code",
   "execution_count": 88,
   "metadata": {},
   "outputs": [
    {
     "ename": "ValueError",
     "evalue": "Data cardinality is ambiguous:\n  x sizes: 55000\n  y sizes: 5000\nMake sure all arrays contain the same number of samples.",
     "output_type": "error",
     "traceback": [
      "\u001b[1;31m---------------------------------------------------------------------------\u001b[0m",
      "\u001b[1;31mValueError\u001b[0m                                Traceback (most recent call last)",
      "Cell \u001b[1;32mIn[88], line 1\u001b[0m\n\u001b[1;32m----> 1\u001b[0m \u001b[43mmodel\u001b[49m\u001b[38;5;241;43m.\u001b[39;49m\u001b[43mfit\u001b[49m\u001b[43m(\u001b[49m\u001b[43mX_train\u001b[49m\u001b[43m,\u001b[49m\u001b[43m \u001b[49m\u001b[43my_valid\u001b[49m\u001b[43m,\u001b[49m\u001b[43m \u001b[49m\u001b[43mepochs\u001b[49m\u001b[38;5;241;43m=\u001b[39;49m\u001b[38;5;241;43m30\u001b[39;49m\u001b[43m,\u001b[49m\u001b[43m \u001b[49m\u001b[43mvalidation_data\u001b[49m\u001b[38;5;241;43m=\u001b[39;49m\u001b[43m(\u001b[49m\u001b[43mX_valid\u001b[49m\u001b[43m,\u001b[49m\u001b[43m \u001b[49m\u001b[43my_valid\u001b[49m\u001b[43m)\u001b[49m\u001b[43m)\u001b[49m\n",
      "File \u001b[1;32mc:\\Users\\sayed\\anaconda3\\lib\\site-packages\\keras\\utils\\traceback_utils.py:70\u001b[0m, in \u001b[0;36mfilter_traceback.<locals>.error_handler\u001b[1;34m(*args, **kwargs)\u001b[0m\n\u001b[0;32m     67\u001b[0m     filtered_tb \u001b[38;5;241m=\u001b[39m _process_traceback_frames(e\u001b[38;5;241m.\u001b[39m__traceback__)\n\u001b[0;32m     68\u001b[0m     \u001b[38;5;66;03m# To get the full stack trace, call:\u001b[39;00m\n\u001b[0;32m     69\u001b[0m     \u001b[38;5;66;03m# `tf.debugging.disable_traceback_filtering()`\u001b[39;00m\n\u001b[1;32m---> 70\u001b[0m     \u001b[38;5;28;01mraise\u001b[39;00m e\u001b[38;5;241m.\u001b[39mwith_traceback(filtered_tb) \u001b[38;5;28;01mfrom\u001b[39;00m \u001b[38;5;28;01mNone\u001b[39;00m\n\u001b[0;32m     71\u001b[0m \u001b[38;5;28;01mfinally\u001b[39;00m:\n\u001b[0;32m     72\u001b[0m     \u001b[38;5;28;01mdel\u001b[39;00m filtered_tb\n",
      "File \u001b[1;32mc:\\Users\\sayed\\anaconda3\\lib\\site-packages\\keras\\engine\\data_adapter.py:1851\u001b[0m, in \u001b[0;36m_check_data_cardinality\u001b[1;34m(data)\u001b[0m\n\u001b[0;32m   1844\u001b[0m     msg \u001b[38;5;241m+\u001b[39m\u001b[38;5;241m=\u001b[39m \u001b[38;5;124m\"\u001b[39m\u001b[38;5;124m  \u001b[39m\u001b[38;5;132;01m{}\u001b[39;00m\u001b[38;5;124m sizes: \u001b[39m\u001b[38;5;132;01m{}\u001b[39;00m\u001b[38;5;130;01m\\n\u001b[39;00m\u001b[38;5;124m\"\u001b[39m\u001b[38;5;241m.\u001b[39mformat(\n\u001b[0;32m   1845\u001b[0m         label,\n\u001b[0;32m   1846\u001b[0m         \u001b[38;5;124m\"\u001b[39m\u001b[38;5;124m, \u001b[39m\u001b[38;5;124m\"\u001b[39m\u001b[38;5;241m.\u001b[39mjoin(\n\u001b[0;32m   1847\u001b[0m             \u001b[38;5;28mstr\u001b[39m(i\u001b[38;5;241m.\u001b[39mshape[\u001b[38;5;241m0\u001b[39m]) \u001b[38;5;28;01mfor\u001b[39;00m i \u001b[38;5;129;01min\u001b[39;00m tf\u001b[38;5;241m.\u001b[39mnest\u001b[38;5;241m.\u001b[39mflatten(single_data)\n\u001b[0;32m   1848\u001b[0m         ),\n\u001b[0;32m   1849\u001b[0m     )\n\u001b[0;32m   1850\u001b[0m msg \u001b[38;5;241m+\u001b[39m\u001b[38;5;241m=\u001b[39m \u001b[38;5;124m\"\u001b[39m\u001b[38;5;124mMake sure all arrays contain the same number of samples.\u001b[39m\u001b[38;5;124m\"\u001b[39m\n\u001b[1;32m-> 1851\u001b[0m \u001b[38;5;28;01mraise\u001b[39;00m \u001b[38;5;167;01mValueError\u001b[39;00m(msg)\n",
      "\u001b[1;31mValueError\u001b[0m: Data cardinality is ambiguous:\n  x sizes: 55000\n  y sizes: 5000\nMake sure all arrays contain the same number of samples."
     ]
    }
   ],
   "source": [
    "model.fit(X_train, y_valid, epochs=30, validation_data=(X_valid, y_valid))"
   ]
  },
  {
   "cell_type": "code",
   "execution_count": 90,
   "metadata": {},
   "outputs": [
    {
     "name": "stdout",
     "output_type": "stream",
     "text": [
      "Epoch 1/30\n",
      "1719/1719 [==============================] - ETA: 0s - loss: 0.2244 - sparse_categorical_accuracy: 0.9189"
     ]
    },
    {
     "ename": "ValueError",
     "evalue": "Data cardinality is ambiguous:\n  x sizes: 5000\n  y sizes: 55000\nMake sure all arrays contain the same number of samples.",
     "output_type": "error",
     "traceback": [
      "\u001b[1;31m---------------------------------------------------------------------------\u001b[0m",
      "\u001b[1;31mValueError\u001b[0m                                Traceback (most recent call last)",
      "Cell \u001b[1;32mIn[90], line 1\u001b[0m\n\u001b[1;32m----> 1\u001b[0m \u001b[43mmodel\u001b[49m\u001b[38;5;241;43m.\u001b[39;49m\u001b[43mfit\u001b[49m\u001b[43m(\u001b[49m\u001b[43mX_train\u001b[49m\u001b[43m,\u001b[49m\u001b[43m \u001b[49m\u001b[43my_train\u001b[49m\u001b[43m,\u001b[49m\u001b[43m \u001b[49m\u001b[43mepochs\u001b[49m\u001b[38;5;241;43m=\u001b[39;49m\u001b[38;5;241;43m30\u001b[39;49m\u001b[43m,\u001b[49m\u001b[43m \u001b[49m\u001b[43mvalidation_data\u001b[49m\u001b[38;5;241;43m=\u001b[39;49m\u001b[43m(\u001b[49m\u001b[43mX_valid\u001b[49m\u001b[43m,\u001b[49m\u001b[43m \u001b[49m\u001b[43my_train\u001b[49m\u001b[43m)\u001b[49m\u001b[43m)\u001b[49m\n",
      "File \u001b[1;32mc:\\Users\\sayed\\anaconda3\\lib\\site-packages\\keras\\utils\\traceback_utils.py:70\u001b[0m, in \u001b[0;36mfilter_traceback.<locals>.error_handler\u001b[1;34m(*args, **kwargs)\u001b[0m\n\u001b[0;32m     67\u001b[0m     filtered_tb \u001b[38;5;241m=\u001b[39m _process_traceback_frames(e\u001b[38;5;241m.\u001b[39m__traceback__)\n\u001b[0;32m     68\u001b[0m     \u001b[38;5;66;03m# To get the full stack trace, call:\u001b[39;00m\n\u001b[0;32m     69\u001b[0m     \u001b[38;5;66;03m# `tf.debugging.disable_traceback_filtering()`\u001b[39;00m\n\u001b[1;32m---> 70\u001b[0m     \u001b[38;5;28;01mraise\u001b[39;00m e\u001b[38;5;241m.\u001b[39mwith_traceback(filtered_tb) \u001b[38;5;28;01mfrom\u001b[39;00m \u001b[38;5;28;01mNone\u001b[39;00m\n\u001b[0;32m     71\u001b[0m \u001b[38;5;28;01mfinally\u001b[39;00m:\n\u001b[0;32m     72\u001b[0m     \u001b[38;5;28;01mdel\u001b[39;00m filtered_tb\n",
      "File \u001b[1;32mc:\\Users\\sayed\\anaconda3\\lib\\site-packages\\keras\\engine\\data_adapter.py:1851\u001b[0m, in \u001b[0;36m_check_data_cardinality\u001b[1;34m(data)\u001b[0m\n\u001b[0;32m   1844\u001b[0m     msg \u001b[38;5;241m+\u001b[39m\u001b[38;5;241m=\u001b[39m \u001b[38;5;124m\"\u001b[39m\u001b[38;5;124m  \u001b[39m\u001b[38;5;132;01m{}\u001b[39;00m\u001b[38;5;124m sizes: \u001b[39m\u001b[38;5;132;01m{}\u001b[39;00m\u001b[38;5;130;01m\\n\u001b[39;00m\u001b[38;5;124m\"\u001b[39m\u001b[38;5;241m.\u001b[39mformat(\n\u001b[0;32m   1845\u001b[0m         label,\n\u001b[0;32m   1846\u001b[0m         \u001b[38;5;124m\"\u001b[39m\u001b[38;5;124m, \u001b[39m\u001b[38;5;124m\"\u001b[39m\u001b[38;5;241m.\u001b[39mjoin(\n\u001b[0;32m   1847\u001b[0m             \u001b[38;5;28mstr\u001b[39m(i\u001b[38;5;241m.\u001b[39mshape[\u001b[38;5;241m0\u001b[39m]) \u001b[38;5;28;01mfor\u001b[39;00m i \u001b[38;5;129;01min\u001b[39;00m tf\u001b[38;5;241m.\u001b[39mnest\u001b[38;5;241m.\u001b[39mflatten(single_data)\n\u001b[0;32m   1848\u001b[0m         ),\n\u001b[0;32m   1849\u001b[0m     )\n\u001b[0;32m   1850\u001b[0m msg \u001b[38;5;241m+\u001b[39m\u001b[38;5;241m=\u001b[39m \u001b[38;5;124m\"\u001b[39m\u001b[38;5;124mMake sure all arrays contain the same number of samples.\u001b[39m\u001b[38;5;124m\"\u001b[39m\n\u001b[1;32m-> 1851\u001b[0m \u001b[38;5;28;01mraise\u001b[39;00m \u001b[38;5;167;01mValueError\u001b[39;00m(msg)\n",
      "\u001b[1;31mValueError\u001b[0m: Data cardinality is ambiguous:\n  x sizes: 5000\n  y sizes: 55000\nMake sure all arrays contain the same number of samples."
     ]
    }
   ],
   "source": [
    "model.fit(X_train, y_train, epochs=30, validation_data=(X_valid, y_train))"
   ]
  },
  {
   "cell_type": "markdown",
   "metadata": {},
   "source": [
    "it doesn't showed that the error came from validation part\n"
   ]
  },
  {
   "cell_type": "code",
   "execution_count": 91,
   "metadata": {},
   "outputs": [],
   "source": [
    "model.compile(loss=tf.keras.losses.binary_crossentropy,\n",
    "              optimizer='adam', metrics='accuracy')\n",
    "\n",
    "# note the loss is set to be binary crossentropy which is false because this used on binary classification not multi-class as this case"
   ]
  },
  {
   "cell_type": "code",
   "execution_count": 92,
   "metadata": {},
   "outputs": [
    {
     "name": "stdout",
     "output_type": "stream",
     "text": [
      "Epoch 1/30\n"
     ]
    },
    {
     "ename": "ValueError",
     "evalue": "in user code:\n\n    File \"c:\\Users\\sayed\\anaconda3\\lib\\site-packages\\keras\\engine\\training.py\", line 1160, in train_function  *\n        return step_function(self, iterator)\n    File \"c:\\Users\\sayed\\anaconda3\\lib\\site-packages\\keras\\engine\\training.py\", line 1146, in step_function  **\n        outputs = model.distribute_strategy.run(run_step, args=(data,))\n    File \"c:\\Users\\sayed\\anaconda3\\lib\\site-packages\\keras\\engine\\training.py\", line 1135, in run_step  **\n        outputs = model.train_step(data)\n    File \"c:\\Users\\sayed\\anaconda3\\lib\\site-packages\\keras\\engine\\training.py\", line 994, in train_step\n        loss = self.compute_loss(x, y, y_pred, sample_weight)\n    File \"c:\\Users\\sayed\\anaconda3\\lib\\site-packages\\keras\\engine\\training.py\", line 1052, in compute_loss\n        return self.compiled_loss(\n    File \"c:\\Users\\sayed\\anaconda3\\lib\\site-packages\\keras\\engine\\compile_utils.py\", line 265, in __call__\n        loss_value = loss_obj(y_t, y_p, sample_weight=sw)\n    File \"c:\\Users\\sayed\\anaconda3\\lib\\site-packages\\keras\\losses.py\", line 152, in __call__\n        losses = call_fn(y_true, y_pred)\n    File \"c:\\Users\\sayed\\anaconda3\\lib\\site-packages\\keras\\losses.py\", line 272, in call  **\n        return ag_fn(y_true, y_pred, **self._fn_kwargs)\n    File \"c:\\Users\\sayed\\anaconda3\\lib\\site-packages\\keras\\losses.py\", line 2162, in binary_crossentropy\n        backend.binary_crossentropy(y_true, y_pred, from_logits=from_logits),\n    File \"c:\\Users\\sayed\\anaconda3\\lib\\site-packages\\keras\\backend.py\", line 5677, in binary_crossentropy\n        return tf.nn.sigmoid_cross_entropy_with_logits(\n\n    ValueError: `logits` and `labels` must have the same shape, received ((None, 10) vs (None, 1)).\n",
     "output_type": "error",
     "traceback": [
      "\u001b[1;31m---------------------------------------------------------------------------\u001b[0m",
      "\u001b[1;31mValueError\u001b[0m                                Traceback (most recent call last)",
      "Cell \u001b[1;32mIn[92], line 1\u001b[0m\n\u001b[1;32m----> 1\u001b[0m \u001b[43mmodel\u001b[49m\u001b[38;5;241;43m.\u001b[39;49m\u001b[43mfit\u001b[49m\u001b[43m(\u001b[49m\u001b[43mX_train\u001b[49m\u001b[43m,\u001b[49m\u001b[43m \u001b[49m\u001b[43my_train\u001b[49m\u001b[43m,\u001b[49m\u001b[43m \u001b[49m\u001b[43mepochs\u001b[49m\u001b[38;5;241;43m=\u001b[39;49m\u001b[38;5;241;43m30\u001b[39;49m\u001b[43m,\u001b[49m\u001b[43m \u001b[49m\u001b[43mvalidation_data\u001b[49m\u001b[38;5;241;43m=\u001b[39;49m\u001b[43m(\u001b[49m\u001b[43mX_valid\u001b[49m\u001b[43m,\u001b[49m\u001b[43m \u001b[49m\u001b[43my_valid\u001b[49m\u001b[43m)\u001b[49m\u001b[43m)\u001b[49m\n",
      "File \u001b[1;32mc:\\Users\\sayed\\anaconda3\\lib\\site-packages\\keras\\utils\\traceback_utils.py:70\u001b[0m, in \u001b[0;36mfilter_traceback.<locals>.error_handler\u001b[1;34m(*args, **kwargs)\u001b[0m\n\u001b[0;32m     67\u001b[0m     filtered_tb \u001b[38;5;241m=\u001b[39m _process_traceback_frames(e\u001b[38;5;241m.\u001b[39m__traceback__)\n\u001b[0;32m     68\u001b[0m     \u001b[38;5;66;03m# To get the full stack trace, call:\u001b[39;00m\n\u001b[0;32m     69\u001b[0m     \u001b[38;5;66;03m# `tf.debugging.disable_traceback_filtering()`\u001b[39;00m\n\u001b[1;32m---> 70\u001b[0m     \u001b[38;5;28;01mraise\u001b[39;00m e\u001b[38;5;241m.\u001b[39mwith_traceback(filtered_tb) \u001b[38;5;28;01mfrom\u001b[39;00m \u001b[38;5;28;01mNone\u001b[39;00m\n\u001b[0;32m     71\u001b[0m \u001b[38;5;28;01mfinally\u001b[39;00m:\n\u001b[0;32m     72\u001b[0m     \u001b[38;5;28;01mdel\u001b[39;00m filtered_tb\n",
      "File \u001b[1;32m~\\AppData\\Local\\Temp\\__autograph_generated_filepehnra4s.py:15\u001b[0m, in \u001b[0;36mouter_factory.<locals>.inner_factory.<locals>.tf__train_function\u001b[1;34m(iterator)\u001b[0m\n\u001b[0;32m     13\u001b[0m \u001b[38;5;28;01mtry\u001b[39;00m:\n\u001b[0;32m     14\u001b[0m     do_return \u001b[38;5;241m=\u001b[39m \u001b[38;5;28;01mTrue\u001b[39;00m\n\u001b[1;32m---> 15\u001b[0m     retval_ \u001b[38;5;241m=\u001b[39m ag__\u001b[38;5;241m.\u001b[39mconverted_call(ag__\u001b[38;5;241m.\u001b[39mld(step_function), (ag__\u001b[38;5;241m.\u001b[39mld(\u001b[38;5;28mself\u001b[39m), ag__\u001b[38;5;241m.\u001b[39mld(iterator)), \u001b[38;5;28;01mNone\u001b[39;00m, fscope)\n\u001b[0;32m     16\u001b[0m \u001b[38;5;28;01mexcept\u001b[39;00m:\n\u001b[0;32m     17\u001b[0m     do_return \u001b[38;5;241m=\u001b[39m \u001b[38;5;28;01mFalse\u001b[39;00m\n",
      "\u001b[1;31mValueError\u001b[0m: in user code:\n\n    File \"c:\\Users\\sayed\\anaconda3\\lib\\site-packages\\keras\\engine\\training.py\", line 1160, in train_function  *\n        return step_function(self, iterator)\n    File \"c:\\Users\\sayed\\anaconda3\\lib\\site-packages\\keras\\engine\\training.py\", line 1146, in step_function  **\n        outputs = model.distribute_strategy.run(run_step, args=(data,))\n    File \"c:\\Users\\sayed\\anaconda3\\lib\\site-packages\\keras\\engine\\training.py\", line 1135, in run_step  **\n        outputs = model.train_step(data)\n    File \"c:\\Users\\sayed\\anaconda3\\lib\\site-packages\\keras\\engine\\training.py\", line 994, in train_step\n        loss = self.compute_loss(x, y, y_pred, sample_weight)\n    File \"c:\\Users\\sayed\\anaconda3\\lib\\site-packages\\keras\\engine\\training.py\", line 1052, in compute_loss\n        return self.compiled_loss(\n    File \"c:\\Users\\sayed\\anaconda3\\lib\\site-packages\\keras\\engine\\compile_utils.py\", line 265, in __call__\n        loss_value = loss_obj(y_t, y_p, sample_weight=sw)\n    File \"c:\\Users\\sayed\\anaconda3\\lib\\site-packages\\keras\\losses.py\", line 152, in __call__\n        losses = call_fn(y_true, y_pred)\n    File \"c:\\Users\\sayed\\anaconda3\\lib\\site-packages\\keras\\losses.py\", line 272, in call  **\n        return ag_fn(y_true, y_pred, **self._fn_kwargs)\n    File \"c:\\Users\\sayed\\anaconda3\\lib\\site-packages\\keras\\losses.py\", line 2162, in binary_crossentropy\n        backend.binary_crossentropy(y_true, y_pred, from_logits=from_logits),\n    File \"c:\\Users\\sayed\\anaconda3\\lib\\site-packages\\keras\\backend.py\", line 5677, in binary_crossentropy\n        return tf.nn.sigmoid_cross_entropy_with_logits(\n\n    ValueError: `logits` and `labels` must have the same shape, received ((None, 10) vs (None, 1)).\n"
     ]
    }
   ],
   "source": [
    "model.fit(X_train, y_train, epochs=30, validation_data=(X_valid, y_valid))"
   ]
  },
  {
   "cell_type": "markdown",
   "metadata": {},
   "source": [
    "here's the error :\n",
    "` ValueError: logits and labels must have the same shape, received ((None, 10) vs (None, 1)).`\n"
   ]
  },
  {
   "cell_type": "code",
   "execution_count": 94,
   "metadata": {},
   "outputs": [
    {
     "name": "stdout",
     "output_type": "stream",
     "text": [
      "Epoch 1/30\n"
     ]
    },
    {
     "ename": "ValueError",
     "evalue": "in user code:\n\n    File \"c:\\Users\\sayed\\anaconda3\\lib\\site-packages\\keras\\engine\\training.py\", line 1160, in train_function  *\n        return step_function(self, iterator)\n    File \"c:\\Users\\sayed\\anaconda3\\lib\\site-packages\\keras\\engine\\training.py\", line 1146, in step_function  **\n        outputs = model.distribute_strategy.run(run_step, args=(data,))\n    File \"c:\\Users\\sayed\\anaconda3\\lib\\site-packages\\keras\\engine\\training.py\", line 1135, in run_step  **\n        outputs = model.train_step(data)\n    File \"c:\\Users\\sayed\\anaconda3\\lib\\site-packages\\keras\\engine\\training.py\", line 994, in train_step\n        loss = self.compute_loss(x, y, y_pred, sample_weight)\n    File \"c:\\Users\\sayed\\anaconda3\\lib\\site-packages\\keras\\engine\\training.py\", line 1052, in compute_loss\n        return self.compiled_loss(\n    File \"c:\\Users\\sayed\\anaconda3\\lib\\site-packages\\keras\\engine\\compile_utils.py\", line 265, in __call__\n        loss_value = loss_obj(y_t, y_p, sample_weight=sw)\n    File \"c:\\Users\\sayed\\anaconda3\\lib\\site-packages\\keras\\losses.py\", line 152, in __call__\n        losses = call_fn(y_true, y_pred)\n    File \"c:\\Users\\sayed\\anaconda3\\lib\\site-packages\\keras\\losses.py\", line 272, in call  **\n        return ag_fn(y_true, y_pred, **self._fn_kwargs)\n    File \"c:\\Users\\sayed\\anaconda3\\lib\\site-packages\\keras\\losses.py\", line 1990, in categorical_crossentropy\n        return backend.categorical_crossentropy(\n    File \"c:\\Users\\sayed\\anaconda3\\lib\\site-packages\\keras\\backend.py\", line 5529, in categorical_crossentropy\n        target.shape.assert_is_compatible_with(output.shape)\n\n    ValueError: Shapes (None, 1) and (None, 10) are incompatible\n",
     "output_type": "error",
     "traceback": [
      "\u001b[1;31m---------------------------------------------------------------------------\u001b[0m",
      "\u001b[1;31mValueError\u001b[0m                                Traceback (most recent call last)",
      "Cell \u001b[1;32mIn[94], line 3\u001b[0m\n\u001b[0;32m      1\u001b[0m model\u001b[38;5;241m.\u001b[39mcompile(loss\u001b[38;5;241m=\u001b[39mtf\u001b[38;5;241m.\u001b[39mkeras\u001b[38;5;241m.\u001b[39mlosses\u001b[38;5;241m.\u001b[39mcategorical_crossentropy,\n\u001b[0;32m      2\u001b[0m               optimizer\u001b[38;5;241m=\u001b[39m\u001b[38;5;124m'\u001b[39m\u001b[38;5;124madam\u001b[39m\u001b[38;5;124m'\u001b[39m, metrics\u001b[38;5;241m=\u001b[39m\u001b[38;5;124m'\u001b[39m\u001b[38;5;124maccuracy\u001b[39m\u001b[38;5;124m'\u001b[39m)\n\u001b[1;32m----> 3\u001b[0m \u001b[43mmodel\u001b[49m\u001b[38;5;241;43m.\u001b[39;49m\u001b[43mfit\u001b[49m\u001b[43m(\u001b[49m\u001b[43mX_train\u001b[49m\u001b[43m,\u001b[49m\u001b[43m \u001b[49m\u001b[43my_train\u001b[49m\u001b[43m,\u001b[49m\u001b[43m \u001b[49m\u001b[43mepochs\u001b[49m\u001b[38;5;241;43m=\u001b[39;49m\u001b[38;5;241;43m30\u001b[39;49m\u001b[43m,\u001b[49m\u001b[43m \u001b[49m\u001b[43mvalidation_data\u001b[49m\u001b[38;5;241;43m=\u001b[39;49m\u001b[43m(\u001b[49m\u001b[43mX_valid\u001b[49m\u001b[43m,\u001b[49m\u001b[43m \u001b[49m\u001b[43my_valid\u001b[49m\u001b[43m)\u001b[49m\u001b[43m)\u001b[49m\n",
      "File \u001b[1;32mc:\\Users\\sayed\\anaconda3\\lib\\site-packages\\keras\\utils\\traceback_utils.py:70\u001b[0m, in \u001b[0;36mfilter_traceback.<locals>.error_handler\u001b[1;34m(*args, **kwargs)\u001b[0m\n\u001b[0;32m     67\u001b[0m     filtered_tb \u001b[38;5;241m=\u001b[39m _process_traceback_frames(e\u001b[38;5;241m.\u001b[39m__traceback__)\n\u001b[0;32m     68\u001b[0m     \u001b[38;5;66;03m# To get the full stack trace, call:\u001b[39;00m\n\u001b[0;32m     69\u001b[0m     \u001b[38;5;66;03m# `tf.debugging.disable_traceback_filtering()`\u001b[39;00m\n\u001b[1;32m---> 70\u001b[0m     \u001b[38;5;28;01mraise\u001b[39;00m e\u001b[38;5;241m.\u001b[39mwith_traceback(filtered_tb) \u001b[38;5;28;01mfrom\u001b[39;00m \u001b[38;5;28;01mNone\u001b[39;00m\n\u001b[0;32m     71\u001b[0m \u001b[38;5;28;01mfinally\u001b[39;00m:\n\u001b[0;32m     72\u001b[0m     \u001b[38;5;28;01mdel\u001b[39;00m filtered_tb\n",
      "File \u001b[1;32m~\\AppData\\Local\\Temp\\__autograph_generated_filepehnra4s.py:15\u001b[0m, in \u001b[0;36mouter_factory.<locals>.inner_factory.<locals>.tf__train_function\u001b[1;34m(iterator)\u001b[0m\n\u001b[0;32m     13\u001b[0m \u001b[38;5;28;01mtry\u001b[39;00m:\n\u001b[0;32m     14\u001b[0m     do_return \u001b[38;5;241m=\u001b[39m \u001b[38;5;28;01mTrue\u001b[39;00m\n\u001b[1;32m---> 15\u001b[0m     retval_ \u001b[38;5;241m=\u001b[39m ag__\u001b[38;5;241m.\u001b[39mconverted_call(ag__\u001b[38;5;241m.\u001b[39mld(step_function), (ag__\u001b[38;5;241m.\u001b[39mld(\u001b[38;5;28mself\u001b[39m), ag__\u001b[38;5;241m.\u001b[39mld(iterator)), \u001b[38;5;28;01mNone\u001b[39;00m, fscope)\n\u001b[0;32m     16\u001b[0m \u001b[38;5;28;01mexcept\u001b[39;00m:\n\u001b[0;32m     17\u001b[0m     do_return \u001b[38;5;241m=\u001b[39m \u001b[38;5;28;01mFalse\u001b[39;00m\n",
      "\u001b[1;31mValueError\u001b[0m: in user code:\n\n    File \"c:\\Users\\sayed\\anaconda3\\lib\\site-packages\\keras\\engine\\training.py\", line 1160, in train_function  *\n        return step_function(self, iterator)\n    File \"c:\\Users\\sayed\\anaconda3\\lib\\site-packages\\keras\\engine\\training.py\", line 1146, in step_function  **\n        outputs = model.distribute_strategy.run(run_step, args=(data,))\n    File \"c:\\Users\\sayed\\anaconda3\\lib\\site-packages\\keras\\engine\\training.py\", line 1135, in run_step  **\n        outputs = model.train_step(data)\n    File \"c:\\Users\\sayed\\anaconda3\\lib\\site-packages\\keras\\engine\\training.py\", line 994, in train_step\n        loss = self.compute_loss(x, y, y_pred, sample_weight)\n    File \"c:\\Users\\sayed\\anaconda3\\lib\\site-packages\\keras\\engine\\training.py\", line 1052, in compute_loss\n        return self.compiled_loss(\n    File \"c:\\Users\\sayed\\anaconda3\\lib\\site-packages\\keras\\engine\\compile_utils.py\", line 265, in __call__\n        loss_value = loss_obj(y_t, y_p, sample_weight=sw)\n    File \"c:\\Users\\sayed\\anaconda3\\lib\\site-packages\\keras\\losses.py\", line 152, in __call__\n        losses = call_fn(y_true, y_pred)\n    File \"c:\\Users\\sayed\\anaconda3\\lib\\site-packages\\keras\\losses.py\", line 272, in call  **\n        return ag_fn(y_true, y_pred, **self._fn_kwargs)\n    File \"c:\\Users\\sayed\\anaconda3\\lib\\site-packages\\keras\\losses.py\", line 1990, in categorical_crossentropy\n        return backend.categorical_crossentropy(\n    File \"c:\\Users\\sayed\\anaconda3\\lib\\site-packages\\keras\\backend.py\", line 5529, in categorical_crossentropy\n        target.shape.assert_is_compatible_with(output.shape)\n\n    ValueError: Shapes (None, 1) and (None, 10) are incompatible\n"
     ]
    }
   ],
   "source": [
    "model.compile(loss=tf.keras.losses.categorical_crossentropy,\n",
    "              optimizer='adam', metrics='accuracy')\n",
    "model.fit(X_train, y_train, epochs=30, validation_data=(X_valid, y_valid))"
   ]
  },
  {
   "cell_type": "markdown",
   "metadata": {},
   "source": [
    "let's try fix this error by modifying `y`\n"
   ]
  },
  {
   "cell_type": "code",
   "execution_count": 95,
   "metadata": {},
   "outputs": [
    {
     "name": "stdout",
     "output_type": "stream",
     "text": [
      "Epoch 1/2\n",
      "1719/1719 [==============================] - 5s 3ms/step - loss: 0.3728 - accuracy: 0.8638 - val_loss: 0.4074 - val_accuracy: 0.8466\n",
      "Epoch 2/2\n",
      "1719/1719 [==============================] - 4s 2ms/step - loss: 0.3295 - accuracy: 0.8797 - val_loss: 0.3922 - val_accuracy: 0.8524\n"
     ]
    },
    {
     "data": {
      "text/plain": [
       "<keras.callbacks.History at 0x1e7dc98cc40>"
      ]
     },
     "execution_count": 95,
     "metadata": {},
     "output_type": "execute_result"
    }
   ],
   "source": [
    "model.compile(loss=tf.keras.losses.categorical_crossentropy,\n",
    "              optimizer='adam', metrics='accuracy')\n",
    "model.fit(X_train, tf.keras.utils.to_categorical(y_train), epochs=2,\n",
    "          validation_data=(X_valid, tf.keras.utils.to_categorical(y_valid)))"
   ]
  },
  {
   "cell_type": "markdown",
   "metadata": {},
   "source": [
    "ok, it's worked.\n"
   ]
  },
  {
   "cell_type": "markdown",
   "metadata": {},
   "source": [
    "let's try remove `Flatten` Layer:\n"
   ]
  },
  {
   "cell_type": "code",
   "execution_count": 102,
   "metadata": {},
   "outputs": [
    {
     "name": "stdout",
     "output_type": "stream",
     "text": [
      "Epoch 1/2\n"
     ]
    },
    {
     "ename": "ValueError",
     "evalue": "in user code:\n\n    File \"c:\\Users\\sayed\\anaconda3\\lib\\site-packages\\keras\\engine\\training.py\", line 1160, in train_function  *\n        return step_function(self, iterator)\n    File \"c:\\Users\\sayed\\anaconda3\\lib\\site-packages\\keras\\engine\\training.py\", line 1146, in step_function  **\n        outputs = model.distribute_strategy.run(run_step, args=(data,))\n    File \"c:\\Users\\sayed\\anaconda3\\lib\\site-packages\\keras\\engine\\training.py\", line 1135, in run_step  **\n        outputs = model.train_step(data)\n    File \"c:\\Users\\sayed\\anaconda3\\lib\\site-packages\\keras\\engine\\training.py\", line 994, in train_step\n        loss = self.compute_loss(x, y, y_pred, sample_weight)\n    File \"c:\\Users\\sayed\\anaconda3\\lib\\site-packages\\keras\\engine\\training.py\", line 1052, in compute_loss\n        return self.compiled_loss(\n    File \"c:\\Users\\sayed\\anaconda3\\lib\\site-packages\\keras\\engine\\compile_utils.py\", line 265, in __call__\n        loss_value = loss_obj(y_t, y_p, sample_weight=sw)\n    File \"c:\\Users\\sayed\\anaconda3\\lib\\site-packages\\keras\\losses.py\", line 152, in __call__\n        losses = call_fn(y_true, y_pred)\n    File \"c:\\Users\\sayed\\anaconda3\\lib\\site-packages\\keras\\losses.py\", line 272, in call  **\n        return ag_fn(y_true, y_pred, **self._fn_kwargs)\n    File \"c:\\Users\\sayed\\anaconda3\\lib\\site-packages\\keras\\losses.py\", line 1990, in categorical_crossentropy\n        return backend.categorical_crossentropy(\n    File \"c:\\Users\\sayed\\anaconda3\\lib\\site-packages\\keras\\backend.py\", line 5529, in categorical_crossentropy\n        target.shape.assert_is_compatible_with(output.shape)\n\n    ValueError: Shapes (None, 10) and (None, 28, 10) are incompatible\n",
     "output_type": "error",
     "traceback": [
      "\u001b[1;31m---------------------------------------------------------------------------\u001b[0m",
      "\u001b[1;31mValueError\u001b[0m                                Traceback (most recent call last)",
      "Cell \u001b[1;32mIn[102], line 9\u001b[0m\n\u001b[0;32m      1\u001b[0m model \u001b[38;5;241m=\u001b[39m Sequential([\n\u001b[0;32m      2\u001b[0m     Dense(\u001b[38;5;241m300\u001b[39m, activation\u001b[38;5;241m=\u001b[39mrelu, input_shape\u001b[38;5;241m=\u001b[39m[\u001b[38;5;241m28\u001b[39m, \u001b[38;5;241m28\u001b[39m]),\n\u001b[0;32m      3\u001b[0m     Dense(\u001b[38;5;241m100\u001b[39m, activation\u001b[38;5;241m=\u001b[39mrelu),\n\u001b[0;32m      4\u001b[0m     Dense(\u001b[38;5;241m10\u001b[39m, activation\u001b[38;5;241m=\u001b[39msoftmax)\n\u001b[0;32m      5\u001b[0m ])\n\u001b[0;32m      7\u001b[0m model\u001b[38;5;241m.\u001b[39mcompile(loss\u001b[38;5;241m=\u001b[39mtf\u001b[38;5;241m.\u001b[39mkeras\u001b[38;5;241m.\u001b[39mlosses\u001b[38;5;241m.\u001b[39mcategorical_crossentropy,\n\u001b[0;32m      8\u001b[0m               optimizer\u001b[38;5;241m=\u001b[39m\u001b[38;5;124m'\u001b[39m\u001b[38;5;124madam\u001b[39m\u001b[38;5;124m'\u001b[39m, metrics\u001b[38;5;241m=\u001b[39m\u001b[38;5;124m'\u001b[39m\u001b[38;5;124maccuracy\u001b[39m\u001b[38;5;124m'\u001b[39m)\n\u001b[1;32m----> 9\u001b[0m \u001b[43mmodel\u001b[49m\u001b[38;5;241;43m.\u001b[39;49m\u001b[43mfit\u001b[49m\u001b[43m(\u001b[49m\u001b[43mX_train\u001b[49m\u001b[43m,\u001b[49m\u001b[43m \u001b[49m\u001b[43mtf\u001b[49m\u001b[38;5;241;43m.\u001b[39;49m\u001b[43mkeras\u001b[49m\u001b[38;5;241;43m.\u001b[39;49m\u001b[43mutils\u001b[49m\u001b[38;5;241;43m.\u001b[39;49m\u001b[43mto_categorical\u001b[49m\u001b[43m(\u001b[49m\u001b[43my_train\u001b[49m\u001b[43m)\u001b[49m\u001b[43m,\u001b[49m\u001b[43m \u001b[49m\u001b[43mepochs\u001b[49m\u001b[38;5;241;43m=\u001b[39;49m\u001b[38;5;241;43m2\u001b[39;49m\u001b[43m,\u001b[49m\n\u001b[0;32m     10\u001b[0m \u001b[43m          \u001b[49m\u001b[43mvalidation_data\u001b[49m\u001b[38;5;241;43m=\u001b[39;49m\u001b[43m(\u001b[49m\u001b[43mX_valid\u001b[49m\u001b[43m,\u001b[49m\u001b[43m \u001b[49m\u001b[43mtf\u001b[49m\u001b[38;5;241;43m.\u001b[39;49m\u001b[43mkeras\u001b[49m\u001b[38;5;241;43m.\u001b[39;49m\u001b[43mutils\u001b[49m\u001b[38;5;241;43m.\u001b[39;49m\u001b[43mto_categorical\u001b[49m\u001b[43m(\u001b[49m\u001b[43my_valid\u001b[49m\u001b[43m)\u001b[49m\u001b[43m)\u001b[49m\u001b[43m)\u001b[49m\n",
      "File \u001b[1;32mc:\\Users\\sayed\\anaconda3\\lib\\site-packages\\keras\\utils\\traceback_utils.py:70\u001b[0m, in \u001b[0;36mfilter_traceback.<locals>.error_handler\u001b[1;34m(*args, **kwargs)\u001b[0m\n\u001b[0;32m     67\u001b[0m     filtered_tb \u001b[38;5;241m=\u001b[39m _process_traceback_frames(e\u001b[38;5;241m.\u001b[39m__traceback__)\n\u001b[0;32m     68\u001b[0m     \u001b[38;5;66;03m# To get the full stack trace, call:\u001b[39;00m\n\u001b[0;32m     69\u001b[0m     \u001b[38;5;66;03m# `tf.debugging.disable_traceback_filtering()`\u001b[39;00m\n\u001b[1;32m---> 70\u001b[0m     \u001b[38;5;28;01mraise\u001b[39;00m e\u001b[38;5;241m.\u001b[39mwith_traceback(filtered_tb) \u001b[38;5;28;01mfrom\u001b[39;00m \u001b[38;5;28;01mNone\u001b[39;00m\n\u001b[0;32m     71\u001b[0m \u001b[38;5;28;01mfinally\u001b[39;00m:\n\u001b[0;32m     72\u001b[0m     \u001b[38;5;28;01mdel\u001b[39;00m filtered_tb\n",
      "File \u001b[1;32m~\\AppData\\Local\\Temp\\__autograph_generated_filepehnra4s.py:15\u001b[0m, in \u001b[0;36mouter_factory.<locals>.inner_factory.<locals>.tf__train_function\u001b[1;34m(iterator)\u001b[0m\n\u001b[0;32m     13\u001b[0m \u001b[38;5;28;01mtry\u001b[39;00m:\n\u001b[0;32m     14\u001b[0m     do_return \u001b[38;5;241m=\u001b[39m \u001b[38;5;28;01mTrue\u001b[39;00m\n\u001b[1;32m---> 15\u001b[0m     retval_ \u001b[38;5;241m=\u001b[39m ag__\u001b[38;5;241m.\u001b[39mconverted_call(ag__\u001b[38;5;241m.\u001b[39mld(step_function), (ag__\u001b[38;5;241m.\u001b[39mld(\u001b[38;5;28mself\u001b[39m), ag__\u001b[38;5;241m.\u001b[39mld(iterator)), \u001b[38;5;28;01mNone\u001b[39;00m, fscope)\n\u001b[0;32m     16\u001b[0m \u001b[38;5;28;01mexcept\u001b[39;00m:\n\u001b[0;32m     17\u001b[0m     do_return \u001b[38;5;241m=\u001b[39m \u001b[38;5;28;01mFalse\u001b[39;00m\n",
      "\u001b[1;31mValueError\u001b[0m: in user code:\n\n    File \"c:\\Users\\sayed\\anaconda3\\lib\\site-packages\\keras\\engine\\training.py\", line 1160, in train_function  *\n        return step_function(self, iterator)\n    File \"c:\\Users\\sayed\\anaconda3\\lib\\site-packages\\keras\\engine\\training.py\", line 1146, in step_function  **\n        outputs = model.distribute_strategy.run(run_step, args=(data,))\n    File \"c:\\Users\\sayed\\anaconda3\\lib\\site-packages\\keras\\engine\\training.py\", line 1135, in run_step  **\n        outputs = model.train_step(data)\n    File \"c:\\Users\\sayed\\anaconda3\\lib\\site-packages\\keras\\engine\\training.py\", line 994, in train_step\n        loss = self.compute_loss(x, y, y_pred, sample_weight)\n    File \"c:\\Users\\sayed\\anaconda3\\lib\\site-packages\\keras\\engine\\training.py\", line 1052, in compute_loss\n        return self.compiled_loss(\n    File \"c:\\Users\\sayed\\anaconda3\\lib\\site-packages\\keras\\engine\\compile_utils.py\", line 265, in __call__\n        loss_value = loss_obj(y_t, y_p, sample_weight=sw)\n    File \"c:\\Users\\sayed\\anaconda3\\lib\\site-packages\\keras\\losses.py\", line 152, in __call__\n        losses = call_fn(y_true, y_pred)\n    File \"c:\\Users\\sayed\\anaconda3\\lib\\site-packages\\keras\\losses.py\", line 272, in call  **\n        return ag_fn(y_true, y_pred, **self._fn_kwargs)\n    File \"c:\\Users\\sayed\\anaconda3\\lib\\site-packages\\keras\\losses.py\", line 1990, in categorical_crossentropy\n        return backend.categorical_crossentropy(\n    File \"c:\\Users\\sayed\\anaconda3\\lib\\site-packages\\keras\\backend.py\", line 5529, in categorical_crossentropy\n        target.shape.assert_is_compatible_with(output.shape)\n\n    ValueError: Shapes (None, 10) and (None, 28, 10) are incompatible\n"
     ]
    }
   ],
   "source": [
    "model = Sequential([\n",
    "    Dense(300, activation=relu, input_shape=[28, 28]),\n",
    "    Dense(100, activation=relu),\n",
    "    Dense(10, activation=softmax)\n",
    "])\n",
    "\n",
    "model.compile(loss=tf.keras.losses.categorical_crossentropy,\n",
    "              optimizer='adam', metrics='accuracy')\n",
    "model.fit(X_train, tf.keras.utils.to_categorical(y_train), epochs=2,\n",
    "          validation_data=(X_valid, tf.keras.utils.to_categorical(y_valid)))"
   ]
  },
  {
   "cell_type": "code",
   "execution_count": 9,
   "metadata": {},
   "outputs": [],
   "source": [
    "housing = fetch_california_housing()\n",
    "X_train_full, X_test, y_train_full, y_test = train_test_split(\n",
    "    housing.data, housing.target, random_state=42)\n",
    "X_train, X_valid, y_train, y_valid = train_test_split(\n",
    "    X_train_full, y_train_full, random_state=42)"
   ]
  },
  {
   "cell_type": "code",
   "execution_count": 10,
   "metadata": {},
   "outputs": [
    {
     "data": {
      "text/plain": [
       "(11610, 8)"
      ]
     },
     "execution_count": 10,
     "metadata": {},
     "output_type": "execute_result"
    }
   ],
   "source": [
    "X_train.shape"
   ]
  },
  {
   "cell_type": "code",
   "execution_count": 134,
   "metadata": {},
   "outputs": [
    {
     "name": "stdout",
     "output_type": "stream",
     "text": [
      "Epoch 1/30\n",
      "363/363 [==============================] - 2s 4ms/step - loss: 1.0022 - root_mean_squared_error: 1.0011 - val_loss: 0.9212 - val_root_mean_squared_error: 0.9598\n",
      "Epoch 2/30\n",
      "363/363 [==============================] - 1s 3ms/step - loss: 0.3932 - root_mean_squared_error: 0.6270 - val_loss: 0.3476 - val_root_mean_squared_error: 0.5896\n",
      "Epoch 3/30\n",
      "363/363 [==============================] - 1s 3ms/step - loss: 0.3581 - root_mean_squared_error: 0.5984 - val_loss: 0.9974 - val_root_mean_squared_error: 0.9987\n",
      "Epoch 4/30\n",
      "363/363 [==============================] - 1s 3ms/step - loss: 0.3548 - root_mean_squared_error: 0.5956 - val_loss: 0.9764 - val_root_mean_squared_error: 0.9881\n",
      "Epoch 5/30\n",
      "363/363 [==============================] - 1s 3ms/step - loss: 0.3350 - root_mean_squared_error: 0.5788 - val_loss: 0.3657 - val_root_mean_squared_error: 0.6047\n",
      "Epoch 6/30\n",
      "363/363 [==============================] - 1s 3ms/step - loss: 0.3250 - root_mean_squared_error: 0.5701 - val_loss: 1.0227 - val_root_mean_squared_error: 1.0113\n",
      "Epoch 7/30\n",
      "363/363 [==============================] - 1s 3ms/step - loss: 0.3291 - root_mean_squared_error: 0.5737 - val_loss: 1.1027 - val_root_mean_squared_error: 1.0501\n",
      "Epoch 8/30\n",
      "363/363 [==============================] - 1s 3ms/step - loss: 0.3104 - root_mean_squared_error: 0.5572 - val_loss: 0.3175 - val_root_mean_squared_error: 0.5635\n",
      "Epoch 9/30\n",
      "363/363 [==============================] - 1s 3ms/step - loss: 0.3094 - root_mean_squared_error: 0.5562 - val_loss: 2.7776 - val_root_mean_squared_error: 1.6666\n",
      "Epoch 10/30\n",
      "363/363 [==============================] - 1s 3ms/step - loss: 0.3219 - root_mean_squared_error: 0.5674 - val_loss: 1.1756 - val_root_mean_squared_error: 1.0842\n",
      "Epoch 11/30\n",
      "363/363 [==============================] - 1s 3ms/step - loss: 0.2984 - root_mean_squared_error: 0.5463 - val_loss: 0.2970 - val_root_mean_squared_error: 0.5450\n",
      "Epoch 12/30\n",
      "363/363 [==============================] - 1s 4ms/step - loss: 0.2952 - root_mean_squared_error: 0.5434 - val_loss: 0.3572 - val_root_mean_squared_error: 0.5976\n",
      "Epoch 13/30\n",
      "363/363 [==============================] - 1s 4ms/step - loss: 0.2858 - root_mean_squared_error: 0.5346 - val_loss: 0.3228 - val_root_mean_squared_error: 0.5682\n",
      "Epoch 14/30\n",
      "363/363 [==============================] - 1s 4ms/step - loss: 0.2855 - root_mean_squared_error: 0.5343 - val_loss: 0.4796 - val_root_mean_squared_error: 0.6926\n",
      "Epoch 15/30\n",
      "363/363 [==============================] - 1s 3ms/step - loss: 0.2848 - root_mean_squared_error: 0.5337 - val_loss: 0.3070 - val_root_mean_squared_error: 0.5541\n",
      "Epoch 16/30\n",
      "363/363 [==============================] - 1s 3ms/step - loss: 0.2803 - root_mean_squared_error: 0.5295 - val_loss: 0.2856 - val_root_mean_squared_error: 0.5344\n",
      "Epoch 17/30\n",
      "363/363 [==============================] - 1s 3ms/step - loss: 0.2772 - root_mean_squared_error: 0.5265 - val_loss: 0.3996 - val_root_mean_squared_error: 0.6321\n",
      "Epoch 18/30\n",
      "363/363 [==============================] - 1s 3ms/step - loss: 0.2728 - root_mean_squared_error: 0.5223 - val_loss: 0.3069 - val_root_mean_squared_error: 0.5539\n",
      "Epoch 19/30\n",
      "363/363 [==============================] - 1s 3ms/step - loss: 0.2696 - root_mean_squared_error: 0.5192 - val_loss: 0.2763 - val_root_mean_squared_error: 0.5256\n",
      "Epoch 20/30\n",
      "363/363 [==============================] - 1s 3ms/step - loss: 0.2712 - root_mean_squared_error: 0.5207 - val_loss: 0.3272 - val_root_mean_squared_error: 0.5720\n",
      "Epoch 21/30\n",
      "363/363 [==============================] - 1s 3ms/step - loss: 0.2693 - root_mean_squared_error: 0.5190 - val_loss: 0.2976 - val_root_mean_squared_error: 0.5456\n",
      "Epoch 22/30\n",
      "363/363 [==============================] - 1s 3ms/step - loss: 0.2634 - root_mean_squared_error: 0.5132 - val_loss: 0.3101 - val_root_mean_squared_error: 0.5568\n",
      "Epoch 23/30\n",
      "363/363 [==============================] - 1s 4ms/step - loss: 0.2620 - root_mean_squared_error: 0.5118 - val_loss: 0.3129 - val_root_mean_squared_error: 0.5594\n",
      "Epoch 24/30\n",
      "363/363 [==============================] - 1s 3ms/step - loss: 0.2656 - root_mean_squared_error: 0.5153 - val_loss: 0.2689 - val_root_mean_squared_error: 0.5186\n",
      "Epoch 25/30\n",
      "363/363 [==============================] - 1s 3ms/step - loss: 0.2612 - root_mean_squared_error: 0.5111 - val_loss: 0.4386 - val_root_mean_squared_error: 0.6622\n",
      "Epoch 26/30\n",
      "363/363 [==============================] - 1s 3ms/step - loss: 0.2564 - root_mean_squared_error: 0.5063 - val_loss: 0.2669 - val_root_mean_squared_error: 0.5167\n",
      "Epoch 27/30\n",
      "363/363 [==============================] - 1s 3ms/step - loss: 0.2559 - root_mean_squared_error: 0.5059 - val_loss: 0.4598 - val_root_mean_squared_error: 0.6781\n",
      "Epoch 28/30\n",
      "363/363 [==============================] - 1s 3ms/step - loss: 0.2561 - root_mean_squared_error: 0.5060 - val_loss: 0.3893 - val_root_mean_squared_error: 0.6239\n",
      "Epoch 29/30\n",
      "363/363 [==============================] - 1s 3ms/step - loss: 0.2521 - root_mean_squared_error: 0.5021 - val_loss: 0.4263 - val_root_mean_squared_error: 0.6530\n",
      "Epoch 30/30\n",
      "363/363 [==============================] - 1s 3ms/step - loss: 0.2535 - root_mean_squared_error: 0.5034 - val_loss: 0.3156 - val_root_mean_squared_error: 0.5618\n"
     ]
    }
   ],
   "source": [
    "tf.random.set_seed(42)\n",
    "\n",
    "norm_layer = tf.keras.layers.Normalization(input_shape=X_train.shape[1:])\n",
    "model = Sequential([\n",
    "    norm_layer,\n",
    "    Dense(50, activation='relu'),\n",
    "    Dense(50, activation='relu'),\n",
    "    Dense(50, activation='relu'),\n",
    "    Dense(1, activation='linear')  # output : no activation\n",
    "])\n",
    "\n",
    "model.compile(loss='mse',\n",
    "              optimizer=tf.keras.optimizers.Adam(learning_rate=1e-3), metrics=['RootMeanSquaredError'])\n",
    "\n",
    "norm_layer.adapt(X_train)\n",
    "\n",
    "history = model.fit(X_train, y_train, epochs=30,\n",
    "                    validation_data=(X_valid, y_valid))"
   ]
  },
  {
   "cell_type": "code",
   "execution_count": 136,
   "metadata": {},
   "outputs": [
    {
     "name": "stdout",
     "output_type": "stream",
     "text": [
      "162/162 [==============================] - 0s 2ms/step - loss: 0.2785 - root_mean_squared_error: 0.5277\n",
      "1/1 [==============================] - 0s 49ms/step\n"
     ]
    },
    {
     "data": {
      "text/plain": [
       "array([[0.46420538],\n",
       "       [1.135674  ],\n",
       "       [4.8049026 ]], dtype=float32)"
      ]
     },
     "execution_count": 136,
     "metadata": {},
     "output_type": "execute_result"
    }
   ],
   "source": [
    "mse, rmse = model.evaluate(X_test, y_test)\n",
    "X_new = X_test[:3]\n",
    "y_pred = model.predict(X_new)\n",
    "y_pred"
   ]
  },
  {
   "cell_type": "code",
   "execution_count": 137,
   "metadata": {},
   "outputs": [
    {
     "data": {
      "text/plain": [
       "0.5276895761489868"
      ]
     },
     "execution_count": 137,
     "metadata": {},
     "output_type": "execute_result"
    }
   ],
   "source": [
    "rmse"
   ]
  },
  {
   "cell_type": "markdown",
   "metadata": {},
   "source": [
    "## Building Complex Models Using the Functional API\n"
   ]
  },
  {
   "cell_type": "code",
   "execution_count": 6,
   "metadata": {},
   "outputs": [],
   "source": [
    "from tensorflow.keras.layers import Dense"
   ]
  },
  {
   "attachments": {
    "image.png": {
     "image/png": "[encoded data removed]"
    }
   },
   "cell_type": "markdown",
   "metadata": {},
   "source": [
    "![image.png](attachment:image.png)\n"
   ]
  },
  {
   "cell_type": "code",
   "execution_count": 11,
   "metadata": {},
   "outputs": [],
   "source": [
    "normalization_layer = tf.keras.layers.Normalization()\n",
    "hidden1_layer = Dense(30, activation='relu')\n",
    "hidden2_layer = Dense(30, activation='relu')\n",
    "concat_layer = tf.keras.layers.Concatenate()\n",
    "output_layer = Dense(1)\n",
    "\n",
    "input_ = tf.keras.layers.Input(shape=X_train.shape[1:])\n",
    "normalized = normalization_layer(input_)\n",
    "hidden1 = hidden1_layer(normalized)\n",
    "hidden2 = hidden2_layer(hidden1)\n",
    "concat = concat_layer([normalized, hidden2])\n",
    "output = output_layer(concat)\n",
    "\n",
    "model = tf.keras.Model(inputs=[input_], outputs=[output])"
   ]
  },
  {
   "cell_type": "code",
   "execution_count": 12,
   "metadata": {},
   "outputs": [
    {
     "name": "stdout",
     "output_type": "stream",
     "text": [
      "Model: \"model_1\"\n",
      "__________________________________________________________________________________________________\n",
      " Layer (type)                   Output Shape         Param #     Connected to                     \n",
      "==================================================================================================\n",
      " input_2 (InputLayer)           [(None, 8)]          0           []                               \n",
      "                                                                                                  \n",
      " normalization_2 (Normalization  (None, 8)           17          ['input_2[0][0]']                \n",
      " )                                                                                                \n",
      "                                                                                                  \n",
      " dense_3 (Dense)                (None, 30)           270         ['normalization_2[0][0]']        \n",
      "                                                                                                  \n",
      " dense_4 (Dense)                (None, 30)           930         ['dense_3[0][0]']                \n",
      "                                                                                                  \n",
      " concatenate_1 (Concatenate)    (None, 38)           0           ['normalization_2[0][0]',        \n",
      "                                                                  'dense_4[0][0]']                \n",
      "                                                                                                  \n",
      " dense_5 (Dense)                (None, 1)            39          ['concatenate_1[0][0]']          \n",
      "                                                                                                  \n",
      "==================================================================================================\n",
      "Total params: 1,256\n",
      "Trainable params: 1,239\n",
      "Non-trainable params: 17\n",
      "__________________________________________________________________________________________________\n"
     ]
    }
   ],
   "source": [
    "model.summary()"
   ]
  },
  {
   "cell_type": "code",
   "execution_count": 14,
   "metadata": {},
   "outputs": [],
   "source": [
    "optimizer = tf.keras.optimizers.Adam(learning_rate=1e-3)\n",
    "loss = 'mse'\n",
    "metrics = ['RootMeanSquaredError']\n",
    "\n",
    "model.compile(loss=loss, optimizer=optimizer, metrics=metrics)"
   ]
  },
  {
   "cell_type": "code",
   "execution_count": 15,
   "metadata": {},
   "outputs": [
    {
     "name": "stdout",
     "output_type": "stream",
     "text": [
      "Epoch 1/20\n",
      "363/363 [==============================] - 4s 4ms/step - loss: 1.4168 - root_mean_squared_error: 1.1903 - val_loss: 7.7744 - val_root_mean_squared_error: 2.7883\n",
      "Epoch 2/20\n",
      "363/363 [==============================] - 1s 3ms/step - loss: 0.5053 - root_mean_squared_error: 0.7109 - val_loss: 0.6134 - val_root_mean_squared_error: 0.7832\n",
      "Epoch 3/20\n",
      "363/363 [==============================] - 1s 3ms/step - loss: 0.3938 - root_mean_squared_error: 0.6275 - val_loss: 0.4379 - val_root_mean_squared_error: 0.6617\n",
      "Epoch 4/20\n",
      "363/363 [==============================] - 1s 3ms/step - loss: 0.3734 - root_mean_squared_error: 0.6111 - val_loss: 0.4190 - val_root_mean_squared_error: 0.6473\n",
      "Epoch 5/20\n",
      "363/363 [==============================] - 1s 3ms/step - loss: 0.3612 - root_mean_squared_error: 0.6010 - val_loss: 0.3407 - val_root_mean_squared_error: 0.5837\n",
      "Epoch 6/20\n",
      "363/363 [==============================] - 1s 3ms/step - loss: 0.3535 - root_mean_squared_error: 0.5946 - val_loss: 0.4288 - val_root_mean_squared_error: 0.6548\n",
      "Epoch 7/20\n",
      "363/363 [==============================] - 1s 3ms/step - loss: 0.3472 - root_mean_squared_error: 0.5893 - val_loss: 0.3570 - val_root_mean_squared_error: 0.5975\n",
      "Epoch 8/20\n",
      "363/363 [==============================] - 1s 4ms/step - loss: 0.3396 - root_mean_squared_error: 0.5827 - val_loss: 0.3883 - val_root_mean_squared_error: 0.6232\n",
      "Epoch 9/20\n",
      "363/363 [==============================] - 2s 5ms/step - loss: 0.3365 - root_mean_squared_error: 0.5801 - val_loss: 1.4062 - val_root_mean_squared_error: 1.1858\n",
      "Epoch 10/20\n",
      "363/363 [==============================] - 2s 4ms/step - loss: 0.3407 - root_mean_squared_error: 0.5837 - val_loss: 5.2126 - val_root_mean_squared_error: 2.2831\n",
      "Epoch 11/20\n",
      "363/363 [==============================] - 2s 4ms/step - loss: 0.3526 - root_mean_squared_error: 0.5938 - val_loss: 5.1312 - val_root_mean_squared_error: 2.2652\n",
      "Epoch 12/20\n",
      "363/363 [==============================] - 2s 4ms/step - loss: 0.3294 - root_mean_squared_error: 0.5739 - val_loss: 6.6140 - val_root_mean_squared_error: 2.5718\n",
      "Epoch 13/20\n",
      "363/363 [==============================] - 2s 4ms/step - loss: 0.3253 - root_mean_squared_error: 0.5703 - val_loss: 13.1750 - val_root_mean_squared_error: 3.6297\n",
      "Epoch 14/20\n",
      "363/363 [==============================] - 2s 4ms/step - loss: 0.4042 - root_mean_squared_error: 0.6358 - val_loss: 5.9020 - val_root_mean_squared_error: 2.4294\n",
      "Epoch 15/20\n",
      "363/363 [==============================] - 2s 4ms/step - loss: 0.3521 - root_mean_squared_error: 0.5933 - val_loss: 1.9789 - val_root_mean_squared_error: 1.4067\n",
      "Epoch 16/20\n",
      "363/363 [==============================] - 2s 4ms/step - loss: 0.3185 - root_mean_squared_error: 0.5643 - val_loss: 0.3674 - val_root_mean_squared_error: 0.6062\n",
      "Epoch 17/20\n",
      "363/363 [==============================] - 2s 4ms/step - loss: 0.3077 - root_mean_squared_error: 0.5547 - val_loss: 0.3735 - val_root_mean_squared_error: 0.6111\n",
      "Epoch 18/20\n",
      "363/363 [==============================] - 2s 4ms/step - loss: 0.3054 - root_mean_squared_error: 0.5526 - val_loss: 0.4091 - val_root_mean_squared_error: 0.6396\n",
      "Epoch 19/20\n",
      "363/363 [==============================] - 2s 4ms/step - loss: 0.3030 - root_mean_squared_error: 0.5505 - val_loss: 0.4260 - val_root_mean_squared_error: 0.6527\n",
      "Epoch 20/20\n",
      "363/363 [==============================] - 2s 4ms/step - loss: 0.3009 - root_mean_squared_error: 0.5485 - val_loss: 0.5753 - val_root_mean_squared_error: 0.7585\n"
     ]
    }
   ],
   "source": [
    "normalization_layer.adapt(X_train)\n",
    "\n",
    "history = model.fit(X_train, y_train, epochs=20,\n",
    "                    validation_data=(X_valid, y_valid))"
   ]
  },
  {
   "attachments": {
    "ANN_functional2png.png": {
     "image/png": "[encoded data removed]"
    }
   },
   "cell_type": "markdown",
   "metadata": {},
   "source": [
    "![ANN_functional2png.png](attachment:ANN_functional2png.png)\n"
   ]
  },
  {
   "cell_type": "markdown",
   "metadata": {},
   "source": [
    "What if you want to send different subsets of input features through the wide or deep paths? We will send 5 features (features 0 to 4), and 6 through the deep path (features 2 to 7). Note that 3 features will go through both (features 2, 3 and 4).\n"
   ]
  },
  {
   "cell_type": "code",
   "execution_count": 32,
   "metadata": {},
   "outputs": [],
   "source": [
    "input_wide = tf.keras.layers.Input(shape=[5], name='input_wide')\n",
    "input_deep = tf.keras.layers.Input(shape=[6], name='input_deep')\n",
    "\n",
    "normalization_deep = tf.keras.layers.Normalization(name='normalization_deep')\n",
    "normalization_wide = tf.keras.layers.Normalization(name='normalization_wide')\n",
    "\n",
    "norm_deep = normalization_deep(input_deep)\n",
    "norm_wide = normalization_wide(input_wide)\n",
    "\n",
    "hidden1 = tf.keras.layers.Dense(\n",
    "    30, activation='relu', name='hidden1_deep')(norm_deep)\n",
    "hidden2 = tf.keras.layers.Dense(\n",
    "    30, activation='relu', name='hidden2_deep')(hidden1)\n",
    "\n",
    "concat = tf.keras.layers.Concatenate(name='concat')([norm_wide, hidden2])\n",
    "output = Dense(1, activation='linear', name='output')(concat)\n",
    "\n",
    "model = tf.keras.Model(inputs=[input_wide, input_deep], outputs=[output])"
   ]
  },
  {
   "cell_type": "code",
   "execution_count": 33,
   "metadata": {},
   "outputs": [
    {
     "name": "stdout",
     "output_type": "stream",
     "text": [
      "Model: \"model_5\"\n",
      "__________________________________________________________________________________________________\n",
      " Layer (type)                   Output Shape         Param #     Connected to                     \n",
      "==================================================================================================\n",
      " input_deep (InputLayer)        [(None, 6)]          0           []                               \n",
      "                                                                                                  \n",
      " normalization_deep (Normalizat  (None, 6)           13          ['input_deep[0][0]']             \n",
      " ion)                                                                                             \n",
      "                                                                                                  \n",
      " input_wide (InputLayer)        [(None, 5)]          0           []                               \n",
      "                                                                                                  \n",
      " hidden1_deep (Dense)           (None, 30)           210         ['normalization_deep[0][0]']     \n",
      "                                                                                                  \n",
      " normalization_wide (Normalizat  (None, 5)           11          ['input_wide[0][0]']             \n",
      " ion)                                                                                             \n",
      "                                                                                                  \n",
      " hidden2_deep (Dense)           (None, 30)           930         ['hidden1_deep[0][0]']           \n",
      "                                                                                                  \n",
      " concat (Concatenate)           (None, 35)           0           ['normalization_wide[0][0]',     \n",
      "                                                                  'hidden2_deep[0][0]']           \n",
      "                                                                                                  \n",
      " output (Dense)                 (None, 1)            36          ['concat[0][0]']                 \n",
      "                                                                                                  \n",
      "==================================================================================================\n",
      "Total params: 1,200\n",
      "Trainable params: 1,176\n",
      "Non-trainable params: 24\n",
      "__________________________________________________________________________________________________\n"
     ]
    }
   ],
   "source": [
    "model.summary()"
   ]
  },
  {
   "cell_type": "code",
   "execution_count": 34,
   "metadata": {},
   "outputs": [
    {
     "name": "stdout",
     "output_type": "stream",
     "text": [
      "Epoch 1/20\n",
      "363/363 [==============================] - 2s 4ms/step - loss: 0.6410 - root_mean_squared_error: 0.8006 - val_loss: 0.4450 - val_root_mean_squared_error: 0.6671\n",
      "Epoch 2/20\n",
      "363/363 [==============================] - 1s 3ms/step - loss: 0.4143 - root_mean_squared_error: 0.6436 - val_loss: 1.1775 - val_root_mean_squared_error: 1.0851\n",
      "Epoch 3/20\n",
      "363/363 [==============================] - 1s 3ms/step - loss: 0.4089 - root_mean_squared_error: 0.6395 - val_loss: 0.7493 - val_root_mean_squared_error: 0.8656\n",
      "Epoch 4/20\n",
      "363/363 [==============================] - 1s 3ms/step - loss: 0.3949 - root_mean_squared_error: 0.6284 - val_loss: 0.4526 - val_root_mean_squared_error: 0.6727\n",
      "Epoch 5/20\n",
      "363/363 [==============================] - 2s 5ms/step - loss: 0.3854 - root_mean_squared_error: 0.6208 - val_loss: 0.3606 - val_root_mean_squared_error: 0.6005\n",
      "Epoch 6/20\n",
      "363/363 [==============================] - 2s 4ms/step - loss: 0.3788 - root_mean_squared_error: 0.6155 - val_loss: 0.3853 - val_root_mean_squared_error: 0.6207\n",
      "Epoch 7/20\n",
      "363/363 [==============================] - 2s 4ms/step - loss: 0.3700 - root_mean_squared_error: 0.6083 - val_loss: 0.3627 - val_root_mean_squared_error: 0.6022\n",
      "Epoch 8/20\n",
      "363/363 [==============================] - 2s 5ms/step - loss: 0.3649 - root_mean_squared_error: 0.6041 - val_loss: 0.4401 - val_root_mean_squared_error: 0.6634\n",
      "Epoch 9/20\n",
      "363/363 [==============================] - 2s 4ms/step - loss: 0.3584 - root_mean_squared_error: 0.5987 - val_loss: 0.3954 - val_root_mean_squared_error: 0.6288\n",
      "Epoch 10/20\n",
      "363/363 [==============================] - 2s 5ms/step - loss: 0.3533 - root_mean_squared_error: 0.5944 - val_loss: 0.8806 - val_root_mean_squared_error: 0.9384\n",
      "Epoch 11/20\n",
      "363/363 [==============================] - 2s 5ms/step - loss: 0.3539 - root_mean_squared_error: 0.5949 - val_loss: 0.8083 - val_root_mean_squared_error: 0.8991\n",
      "Epoch 12/20\n",
      "363/363 [==============================] - 2s 5ms/step - loss: 0.3473 - root_mean_squared_error: 0.5893 - val_loss: 0.8390 - val_root_mean_squared_error: 0.9160\n",
      "Epoch 13/20\n",
      "363/363 [==============================] - 2s 5ms/step - loss: 0.3496 - root_mean_squared_error: 0.5913 - val_loss: 0.8788 - val_root_mean_squared_error: 0.9374\n",
      "Epoch 14/20\n",
      "363/363 [==============================] - 2s 5ms/step - loss: 0.3463 - root_mean_squared_error: 0.5885 - val_loss: 0.3269 - val_root_mean_squared_error: 0.5717\n",
      "Epoch 15/20\n",
      "363/363 [==============================] - 2s 5ms/step - loss: 0.3387 - root_mean_squared_error: 0.5820 - val_loss: 0.3286 - val_root_mean_squared_error: 0.5732\n",
      "Epoch 16/20\n",
      "363/363 [==============================] - 2s 5ms/step - loss: 0.3366 - root_mean_squared_error: 0.5802 - val_loss: 0.3841 - val_root_mean_squared_error: 0.6198\n",
      "Epoch 17/20\n",
      "363/363 [==============================] - 2s 5ms/step - loss: 0.3341 - root_mean_squared_error: 0.5781 - val_loss: 0.3144 - val_root_mean_squared_error: 0.5607\n",
      "Epoch 18/20\n",
      "363/363 [==============================] - 2s 4ms/step - loss: 0.3312 - root_mean_squared_error: 0.5755 - val_loss: 0.3669 - val_root_mean_squared_error: 0.6058\n",
      "Epoch 19/20\n",
      "363/363 [==============================] - 2s 5ms/step - loss: 0.3282 - root_mean_squared_error: 0.5729 - val_loss: 0.3202 - val_root_mean_squared_error: 0.5659\n",
      "Epoch 20/20\n",
      "363/363 [==============================] - 2s 4ms/step - loss: 0.3293 - root_mean_squared_error: 0.5738 - val_loss: 0.3956 - val_root_mean_squared_error: 0.6290\n"
     ]
    }
   ],
   "source": [
    "model.compile(loss=loss, optimizer=optimizer, metrics=metrics)\n",
    "\n",
    "X_train_deep, X_train_wide = X_train[:, 2:], X_train[:, :5]\n",
    "X_valid_deep, X_valid_wide = X_valid[:, 2:], X_valid[:, :5]\n",
    "X_test_deep, X_test_wide = X_test[:, 2:], X_test[:, :5]\n",
    "X_new_deep, X_new_wide = X_test[:3, 2:], X_test[:3, :5]\n",
    "\n",
    "\n",
    "normalization_wide.adapt(X_train_wide)\n",
    "normalization_deep.adapt(X_train_deep)\n",
    "\n",
    "# history = model.fit((X_train_wide, X_train_deep), y_train, epochs=20,\n",
    "#                     validation_data=((X_valid_wide, X_valid_deep), y_valid))\n",
    "\n",
    "history = model.fit({'input_wide': X_train_wide, 'input_deep': X_train_deep}, y_train, epochs=20,\n",
    "                    validation_data=({'input_wide': X_valid_wide, 'input_deep': X_valid_deep}, y_valid))"
   ]
  },
  {
   "cell_type": "code",
   "execution_count": 37,
   "metadata": {},
   "outputs": [
    {
     "name": "stdout",
     "output_type": "stream",
     "text": [
      "162/162 [==============================] - 0s 3ms/step - loss: 0.3376 - root_mean_squared_error: 0.5811\n",
      "1/1 [==============================] - 0s 16ms/step\n",
      "[0.3376445472240448, 0.5810719132423401]\n",
      "[[0.42338794]\n",
      " [1.1275091 ]\n",
      " [3.9657369 ]]\n"
     ]
    }
   ],
   "source": [
    "mse_test = model.evaluate(\n",
    "    {'input_wide': X_test_wide, 'input_deep': X_test_deep}, y_test)\n",
    "y_pred = model.predict({'input_wide': X_new_wide, 'input_deep': X_new_deep})\n",
    "print(mse_test)\n",
    "print(y_pred)"
   ]
  },
  {
   "cell_type": "markdown",
   "metadata": {},
   "source": [
    "let's try with multiple outputs..\n"
   ]
  },
  {
   "cell_type": "code",
   "execution_count": 38,
   "metadata": {},
   "outputs": [],
   "source": [
    "tf.keras.backend.clear_session()\n",
    "tf.random.set_seed(42)"
   ]
  },
  {
   "cell_type": "code",
   "execution_count": 52,
   "metadata": {},
   "outputs": [],
   "source": [
    "input_wide = tf.keras.layers.Input(shape=[5], name='input_wide')\n",
    "input_deep = tf.keras.layers.Input(shape=[6], name='input_deep')\n",
    "\n",
    "normalization_deep = tf.keras.layers.Normalization(name='normalization_deep')\n",
    "normalization_wide = tf.keras.layers.Normalization(name='normalization_wide')\n",
    "\n",
    "norm_deep = normalization_deep(input_deep)\n",
    "norm_wide = normalization_wide(input_wide)\n",
    "\n",
    "hidden1 = tf.keras.layers.Dense(\n",
    "    30, activation='relu', name='hidden1_deep')(norm_deep)\n",
    "hidden2 = tf.keras.layers.Dense(\n",
    "    30, activation='relu', name='hidden2_deep')(hidden1)\n",
    "\n",
    "concat = tf.keras.layers.Concatenate(name='concat')([norm_wide, hidden2])\n",
    "output_main = Dense(1, activation='linear', name='output_main')(concat)\n",
    "output_aux = Dense(1, activation='linear', name='output_aux')(hidden2)\n",
    "\n",
    "model = tf.keras.Model(inputs=[input_wide, input_deep], outputs=[\n",
    "                       output_main, output_aux])"
   ]
  },
  {
   "cell_type": "code",
   "execution_count": 53,
   "metadata": {},
   "outputs": [
    {
     "name": "stdout",
     "output_type": "stream",
     "text": [
      "Model: \"model_1\"\n",
      "__________________________________________________________________________________________________\n",
      " Layer (type)                   Output Shape         Param #     Connected to                     \n",
      "==================================================================================================\n",
      " input_deep (InputLayer)        [(None, 6)]          0           []                               \n",
      "                                                                                                  \n",
      " normalization_deep (Normalizat  (None, 6)           13          ['input_deep[0][0]']             \n",
      " ion)                                                                                             \n",
      "                                                                                                  \n",
      " input_wide (InputLayer)        [(None, 5)]          0           []                               \n",
      "                                                                                                  \n",
      " hidden1_deep (Dense)           (None, 30)           210         ['normalization_deep[0][0]']     \n",
      "                                                                                                  \n",
      " normalization_wide (Normalizat  (None, 5)           11          ['input_wide[0][0]']             \n",
      " ion)                                                                                             \n",
      "                                                                                                  \n",
      " hidden2_deep (Dense)           (None, 30)           930         ['hidden1_deep[0][0]']           \n",
      "                                                                                                  \n",
      " concat (Concatenate)           (None, 35)           0           ['normalization_wide[0][0]',     \n",
      "                                                                  'hidden2_deep[0][0]']           \n",
      "                                                                                                  \n",
      " output_main (Dense)            (None, 1)            36          ['concat[0][0]']                 \n",
      "                                                                                                  \n",
      " output_aux (Dense)             (None, 1)            31          ['hidden2_deep[0][0]']           \n",
      "                                                                                                  \n",
      "==================================================================================================\n",
      "Total params: 1,231\n",
      "Trainable params: 1,207\n",
      "Non-trainable params: 24\n",
      "__________________________________________________________________________________________________\n"
     ]
    }
   ],
   "source": [
    "model.summary()"
   ]
  },
  {
   "cell_type": "code",
   "execution_count": 54,
   "metadata": {},
   "outputs": [],
   "source": [
    "model.compile(loss={'output_main': 'mse', 'output_aux': 'mae'}, optimizer=optimizer,\n",
    "              loss_weights={'output_main': .8, 'output_aux': .2}, metrics=metrics)"
   ]
  },
  {
   "cell_type": "code",
   "execution_count": 55,
   "metadata": {},
   "outputs": [
    {
     "name": "stdout",
     "output_type": "stream",
     "text": [
      "Epoch 1/20\n",
      "363/363 [==============================] - 3s 7ms/step - loss: 0.6703 - output_main_loss: 0.6695 - output_aux_loss: 0.6735 - output_main_root_mean_squared_error: 0.8182 - output_aux_root_mean_squared_error: 0.9719 - val_loss: 0.9659 - val_output_main_loss: 1.0696 - val_output_aux_loss: 0.5514 - val_output_main_root_mean_squared_error: 1.0342 - val_output_aux_root_mean_squared_error: 0.8656\n",
      "Epoch 2/20\n",
      "363/363 [==============================] - 2s 6ms/step - loss: 0.4417 - output_main_loss: 0.4165 - output_aux_loss: 0.5425 - output_main_root_mean_squared_error: 0.6454 - output_aux_root_mean_squared_error: 0.7643 - val_loss: 0.4415 - val_output_main_loss: 0.4157 - val_output_aux_loss: 0.5447 - val_output_main_root_mean_squared_error: 0.6448 - val_output_aux_root_mean_squared_error: 0.7726\n",
      "Epoch 3/20\n",
      "363/363 [==============================] - 2s 6ms/step - loss: 0.4273 - output_main_loss: 0.4022 - output_aux_loss: 0.5279 - output_main_root_mean_squared_error: 0.6342 - output_aux_root_mean_squared_error: 0.7466 - val_loss: 0.4872 - val_output_main_loss: 0.4779 - val_output_aux_loss: 0.5240 - val_output_main_root_mean_squared_error: 0.6913 - val_output_aux_root_mean_squared_error: 0.7489\n",
      "Epoch 4/20\n",
      "363/363 [==============================] - 2s 6ms/step - loss: 0.4161 - output_main_loss: 0.3902 - output_aux_loss: 0.5196 - output_main_root_mean_squared_error: 0.6246 - output_aux_root_mean_squared_error: 0.7359 - val_loss: 0.3935 - val_output_main_loss: 0.3640 - val_output_aux_loss: 0.5115 - val_output_main_root_mean_squared_error: 0.6033 - val_output_aux_root_mean_squared_error: 0.7253\n",
      "Epoch 5/20\n",
      "363/363 [==============================] - 2s 6ms/step - loss: 0.4087 - output_main_loss: 0.3838 - output_aux_loss: 0.5080 - output_main_root_mean_squared_error: 0.6195 - output_aux_root_mean_squared_error: 0.7209 - val_loss: 0.3856 - val_output_main_loss: 0.3568 - val_output_aux_loss: 0.5005 - val_output_main_root_mean_squared_error: 0.5973 - val_output_aux_root_mean_squared_error: 0.7164\n",
      "Epoch 6/20\n",
      "363/363 [==============================] - 2s 5ms/step - loss: 0.3990 - output_main_loss: 0.3737 - output_aux_loss: 0.5001 - output_main_root_mean_squared_error: 0.6113 - output_aux_root_mean_squared_error: 0.7099 - val_loss: 0.5133 - val_output_main_loss: 0.5137 - val_output_aux_loss: 0.5117 - val_output_main_root_mean_squared_error: 0.7167 - val_output_aux_root_mean_squared_error: 0.8595\n",
      "Epoch 7/20\n",
      "363/363 [==============================] - 2s 6ms/step - loss: 0.3953 - output_main_loss: 0.3712 - output_aux_loss: 0.4915 - output_main_root_mean_squared_error: 0.6093 - output_aux_root_mean_squared_error: 0.7016 - val_loss: 0.3938 - val_output_main_loss: 0.3700 - val_output_aux_loss: 0.4891 - val_output_main_root_mean_squared_error: 0.6083 - val_output_aux_root_mean_squared_error: 0.6962\n",
      "Epoch 8/20\n",
      "363/363 [==============================] - 2s 6ms/step - loss: 0.3893 - output_main_loss: 0.3655 - output_aux_loss: 0.4847 - output_main_root_mean_squared_error: 0.6046 - output_aux_root_mean_squared_error: 0.6926 - val_loss: 0.4477 - val_output_main_loss: 0.4407 - val_output_aux_loss: 0.4754 - val_output_main_root_mean_squared_error: 0.6639 - val_output_aux_root_mean_squared_error: 0.6697\n",
      "Epoch 9/20\n",
      "363/363 [==============================] - 2s 6ms/step - loss: 0.3837 - output_main_loss: 0.3603 - output_aux_loss: 0.4773 - output_main_root_mean_squared_error: 0.6003 - output_aux_root_mean_squared_error: 0.6867 - val_loss: 0.5309 - val_output_main_loss: 0.5434 - val_output_aux_loss: 0.4807 - val_output_main_root_mean_squared_error: 0.7372 - val_output_aux_root_mean_squared_error: 0.7861\n",
      "Epoch 10/20\n",
      "363/363 [==============================] - 2s 6ms/step - loss: 0.3822 - output_main_loss: 0.3598 - output_aux_loss: 0.4716 - output_main_root_mean_squared_error: 0.5998 - output_aux_root_mean_squared_error: 0.6805 - val_loss: 0.5604 - val_output_main_loss: 0.5839 - val_output_aux_loss: 0.4666 - val_output_main_root_mean_squared_error: 0.7641 - val_output_aux_root_mean_squared_error: 0.6851\n",
      "Epoch 11/20\n",
      "363/363 [==============================] - 2s 6ms/step - loss: 0.3751 - output_main_loss: 0.3530 - output_aux_loss: 0.4635 - output_main_root_mean_squared_error: 0.5942 - output_aux_root_mean_squared_error: 0.6693 - val_loss: 0.3736 - val_output_main_loss: 0.3514 - val_output_aux_loss: 0.4621 - val_output_main_root_mean_squared_error: 0.5928 - val_output_aux_root_mean_squared_error: 0.6737\n",
      "Epoch 12/20\n",
      "363/363 [==============================] - 2s 5ms/step - loss: 0.3735 - output_main_loss: 0.3516 - output_aux_loss: 0.4611 - output_main_root_mean_squared_error: 0.5930 - output_aux_root_mean_squared_error: 0.6667 - val_loss: 0.4343 - val_output_main_loss: 0.4297 - val_output_aux_loss: 0.4530 - val_output_main_root_mean_squared_error: 0.6555 - val_output_aux_root_mean_squared_error: 0.6471\n",
      "Epoch 13/20\n",
      "363/363 [==============================] - 2s 5ms/step - loss: 0.3681 - output_main_loss: 0.3461 - output_aux_loss: 0.4560 - output_main_root_mean_squared_error: 0.5883 - output_aux_root_mean_squared_error: 0.6609 - val_loss: 0.3571 - val_output_main_loss: 0.3337 - val_output_aux_loss: 0.4509 - val_output_main_root_mean_squared_error: 0.5777 - val_output_aux_root_mean_squared_error: 0.6650\n",
      "Epoch 14/20\n",
      "363/363 [==============================] - 2s 6ms/step - loss: 0.3629 - output_main_loss: 0.3412 - output_aux_loss: 0.4496 - output_main_root_mean_squared_error: 0.5841 - output_aux_root_mean_squared_error: 0.6538 - val_loss: 0.3485 - val_output_main_loss: 0.3251 - val_output_aux_loss: 0.4421 - val_output_main_root_mean_squared_error: 0.5702 - val_output_aux_root_mean_squared_error: 0.6386\n",
      "Epoch 15/20\n",
      "363/363 [==============================] - 2s 6ms/step - loss: 0.3615 - output_main_loss: 0.3403 - output_aux_loss: 0.4462 - output_main_root_mean_squared_error: 0.5834 - output_aux_root_mean_squared_error: 0.6472 - val_loss: 0.3490 - val_output_main_loss: 0.3260 - val_output_aux_loss: 0.4411 - val_output_main_root_mean_squared_error: 0.5709 - val_output_aux_root_mean_squared_error: 0.6485\n",
      "Epoch 16/20\n",
      "363/363 [==============================] - 2s 6ms/step - loss: 0.3568 - output_main_loss: 0.3353 - output_aux_loss: 0.4428 - output_main_root_mean_squared_error: 0.5791 - output_aux_root_mean_squared_error: 0.6437 - val_loss: 0.3354 - val_output_main_loss: 0.3112 - val_output_aux_loss: 0.4321 - val_output_main_root_mean_squared_error: 0.5579 - val_output_aux_root_mean_squared_error: 0.6210\n",
      "Epoch 17/20\n",
      "363/363 [==============================] - 2s 6ms/step - loss: 0.3542 - output_main_loss: 0.3329 - output_aux_loss: 0.4393 - output_main_root_mean_squared_error: 0.5770 - output_aux_root_mean_squared_error: 0.6395 - val_loss: 0.4376 - val_output_main_loss: 0.4377 - val_output_aux_loss: 0.4372 - val_output_main_root_mean_squared_error: 0.6616 - val_output_aux_root_mean_squared_error: 0.6489\n",
      "Epoch 18/20\n",
      "363/363 [==============================] - 2s 6ms/step - loss: 0.3510 - output_main_loss: 0.3298 - output_aux_loss: 0.4357 - output_main_root_mean_squared_error: 0.5743 - output_aux_root_mean_squared_error: 0.6326 - val_loss: 0.3546 - val_output_main_loss: 0.3339 - val_output_aux_loss: 0.4374 - val_output_main_root_mean_squared_error: 0.5778 - val_output_aux_root_mean_squared_error: 0.6272\n",
      "Epoch 19/20\n",
      "363/363 [==============================] - 2s 5ms/step - loss: 0.3492 - output_main_loss: 0.3284 - output_aux_loss: 0.4325 - output_main_root_mean_squared_error: 0.5731 - output_aux_root_mean_squared_error: 0.6296 - val_loss: 0.5557 - val_output_main_loss: 0.5830 - val_output_aux_loss: 0.4463 - val_output_main_root_mean_squared_error: 0.7635 - val_output_aux_root_mean_squared_error: 0.9322\n",
      "Epoch 20/20\n",
      "363/363 [==============================] - 2s 6ms/step - loss: 0.3489 - output_main_loss: 0.3285 - output_aux_loss: 0.4308 - output_main_root_mean_squared_error: 0.5731 - output_aux_root_mean_squared_error: 0.6291 - val_loss: 0.3607 - val_output_main_loss: 0.3442 - val_output_aux_loss: 0.4268 - val_output_main_root_mean_squared_error: 0.5867 - val_output_aux_root_mean_squared_error: 0.6300\n"
     ]
    }
   ],
   "source": [
    "normalization_wide.adapt(X_train_wide)\n",
    "normalization_deep.adapt(X_train_deep)\n",
    "\n",
    "history = model.fit({'input_wide': X_train_wide, 'input_deep': X_train_deep}, (y_train, y_train), epochs=20,\n",
    "                    validation_data=({'input_wide': X_valid_wide, 'input_deep': X_valid_deep}, (y_valid, y_valid)))"
   ]
  },
  {
   "cell_type": "code",
   "execution_count": 44,
   "metadata": {},
   "outputs": [
    {
     "name": "stdout",
     "output_type": "stream",
     "text": [
      "162/162 [==============================] - 1s 5ms/step - loss: 0.3302 - output_main_loss: 0.3242 - output_aux_loss: 0.3841 - output_main_root_mean_squared_error: 0.5694 - output_aux_root_mean_squared_error: 0.6197\n"
     ]
    }
   ],
   "source": [
    "eval_results = model.evaluate((X_test_wide, X_test_deep), (y_test, y_test))\n",
    "weighted_sum_of_losses, main_loss, aux_loss, main_rmse, aux_rmse = eval_results"
   ]
  },
  {
   "cell_type": "code",
   "execution_count": 45,
   "metadata": {},
   "outputs": [
    {
     "name": "stdout",
     "output_type": "stream",
     "text": [
      "1/1 [==============================] - 0s 104ms/step\n"
     ]
    }
   ],
   "source": [
    "y_pred_main, y_pred_aux = model.predict((X_new_wide, X_new_deep))"
   ]
  },
  {
   "cell_type": "code",
   "execution_count": 46,
   "metadata": {},
   "outputs": [
    {
     "data": {
      "text/plain": [
       "(array([[0.56568956],\n",
       "        [1.1642805 ],\n",
       "        [3.4986207 ]], dtype=float32),\n",
       " array([[0.60030943],\n",
       "        [1.0811226 ],\n",
       "        [3.256943  ]], dtype=float32))"
      ]
     },
     "execution_count": 46,
     "metadata": {},
     "output_type": "execute_result"
    }
   ],
   "source": [
    "y_pred_main, y_pred_aux"
   ]
  },
  {
   "cell_type": "code",
   "execution_count": 48,
   "metadata": {},
   "outputs": [
    {
     "name": "stdout",
     "output_type": "stream",
     "text": [
      "1/1 [==============================] - 0s 18ms/step\n"
     ]
    },
    {
     "data": {
      "text/plain": [
       "{'output_main': array([[0.56568956],\n",
       "        [1.1642805 ],\n",
       "        [3.4986207 ]], dtype=float32),\n",
       " 'output_aux': array([[0.60030943],\n",
       "        [1.0811226 ],\n",
       "        [3.256943  ]], dtype=float32)}"
      ]
     },
     "execution_count": 48,
     "metadata": {},
     "output_type": "execute_result"
    }
   ],
   "source": [
    "y_pred_tuple = model.predict((X_new_wide, X_new_deep))\n",
    "y_pred = dict(zip(model.output_names, y_pred_tuple))\n",
    "y_pred"
   ]
  },
  {
   "cell_type": "markdown",
   "metadata": {},
   "source": [
    "## Using the Subclassing API to Build Dynamic Models"
   ]
  },
  {
   "cell_type": "code",
   "execution_count": 56,
   "metadata": {},
   "outputs": [],
   "source": [
    "class WideAndDeepModel(tf.keras.Model):\n",
    "    def __init__(self, units=30, activation='relu', **kwargs):\n",
    "        super().__init__(**kwargs)\n",
    "        self.normalization_wide = tf.keras.layers.Normalization()\n",
    "        self.normalization_deep = tf.keras.layers.Normalization()\n",
    "        self.hidden1 = tf.keras.layers.Dense(units, activation)\n",
    "        self.hidden2 = tf.keras.layers.Dense(units, activation)\n",
    "        self.output_main = tf.keras.layers.Dense(1)\n",
    "        self.output_aux = tf.keras.layers.Dense(1)\n",
    "\n",
    "    def call(self, inputs):\n",
    "        input_wide, input_deep = inputs\n",
    "        norm_wide = self.normalization_wide(input_wide)\n",
    "        norm_deep = self.normalization_deep(input_deep)\n",
    "        hidden1 = self.hidden1(norm_deep)\n",
    "        hidden2 = self.hidden2(hidden1)\n",
    "        concat = tf.keras.layers.concatenate([norm_wide, hidden2])\n",
    "        output_main = self.output_main(concat)\n",
    "        output_aux = self.output_aux(hidden2)\n",
    "        return output_main, output_aux\n",
    "\n",
    "\n",
    "tf.random.set_seed(32)\n",
    "model = WideAndDeepModel(30, activation='relu', name='wide_deep_model')"
   ]
  },
  {
   "cell_type": "code",
   "execution_count": 59,
   "metadata": {},
   "outputs": [
    {
     "name": "stdout",
     "output_type": "stream",
     "text": [
      "Epoch 1/10\n",
      "363/363 [==============================] - 3s 6ms/step - loss: 1.3228 - output_1_loss: 1.2564 - output_2_loss: 1.9210 - output_1_root_mean_squared_error: 1.1209 - output_2_root_mean_squared_error: 1.3860 - val_loss: 1.2482 - val_output_1_loss: 1.0736 - val_output_2_loss: 2.8192 - val_output_1_root_mean_squared_error: 1.0362 - val_output_2_root_mean_squared_error: 1.6791\n",
      "Epoch 2/10\n",
      "363/363 [==============================] - 2s 5ms/step - loss: 0.5146 - output_1_loss: 0.4862 - output_2_loss: 0.7708 - output_1_root_mean_squared_error: 0.6973 - output_2_root_mean_squared_error: 0.8780 - val_loss: 1.4434 - val_output_1_loss: 1.3592 - val_output_2_loss: 2.2016 - val_output_1_root_mean_squared_error: 1.1658 - val_output_2_root_mean_squared_error: 1.4838\n",
      "Epoch 3/10\n",
      "363/363 [==============================] - 2s 6ms/step - loss: 0.4468 - output_1_loss: 0.4258 - output_2_loss: 0.6365 - output_1_root_mean_squared_error: 0.6525 - output_2_root_mean_squared_error: 0.7978 - val_loss: 0.4579 - val_output_1_loss: 0.4305 - val_output_2_loss: 0.7046 - val_output_1_root_mean_squared_error: 0.6561 - val_output_2_root_mean_squared_error: 0.8394\n",
      "Epoch 4/10\n",
      "363/363 [==============================] - 2s 5ms/step - loss: 0.4127 - output_1_loss: 0.3957 - output_2_loss: 0.5656 - output_1_root_mean_squared_error: 0.6291 - output_2_root_mean_squared_error: 0.7521 - val_loss: 0.3899 - val_output_1_loss: 0.3601 - val_output_2_loss: 0.6576 - val_output_1_root_mean_squared_error: 0.6001 - val_output_2_root_mean_squared_error: 0.8109\n",
      "Epoch 5/10\n",
      "363/363 [==============================] - 2s 6ms/step - loss: 0.4001 - output_1_loss: 0.3852 - output_2_loss: 0.5341 - output_1_root_mean_squared_error: 0.6207 - output_2_root_mean_squared_error: 0.7308 - val_loss: 1.2175 - val_output_1_loss: 1.2389 - val_output_2_loss: 1.0253 - val_output_1_root_mean_squared_error: 1.1130 - val_output_2_root_mean_squared_error: 1.0126\n",
      "Epoch 6/10\n",
      "363/363 [==============================] - 2s 6ms/step - loss: 0.4027 - output_1_loss: 0.3892 - output_2_loss: 0.5238 - output_1_root_mean_squared_error: 0.6239 - output_2_root_mean_squared_error: 0.7238 - val_loss: 1.9318 - val_output_1_loss: 2.0509 - val_output_2_loss: 0.8593 - val_output_1_root_mean_squared_error: 1.4321 - val_output_2_root_mean_squared_error: 0.9270\n",
      "Epoch 7/10\n",
      "363/363 [==============================] - 2s 5ms/step - loss: 0.3995 - output_1_loss: 0.3874 - output_2_loss: 0.5084 - output_1_root_mean_squared_error: 0.6224 - output_2_root_mean_squared_error: 0.7130 - val_loss: 3.4670 - val_output_1_loss: 3.5023 - val_output_2_loss: 3.1493 - val_output_1_root_mean_squared_error: 1.8714 - val_output_2_root_mean_squared_error: 1.7746\n",
      "Epoch 8/10\n",
      "363/363 [==============================] - 2s 5ms/step - loss: 0.4034 - output_1_loss: 0.3913 - output_2_loss: 0.5126 - output_1_root_mean_squared_error: 0.6255 - output_2_root_mean_squared_error: 0.7159 - val_loss: 0.9676 - val_output_1_loss: 1.0081 - val_output_2_loss: 0.6034 - val_output_1_root_mean_squared_error: 1.0040 - val_output_2_root_mean_squared_error: 0.7768\n",
      "Epoch 9/10\n",
      "363/363 [==============================] - 2s 5ms/step - loss: 0.3820 - output_1_loss: 0.3706 - output_2_loss: 0.4839 - output_1_root_mean_squared_error: 0.6088 - output_2_root_mean_squared_error: 0.6956 - val_loss: 0.9865 - val_output_1_loss: 0.9578 - val_output_2_loss: 1.2456 - val_output_1_root_mean_squared_error: 0.9786 - val_output_2_root_mean_squared_error: 1.1161\n",
      "Epoch 10/10\n",
      "363/363 [==============================] - 3s 7ms/step - loss: 0.3739 - output_1_loss: 0.3624 - output_2_loss: 0.4767 - output_1_root_mean_squared_error: 0.6020 - output_2_root_mean_squared_error: 0.6904 - val_loss: 0.3895 - val_output_1_loss: 0.3824 - val_output_2_loss: 0.4533 - val_output_1_root_mean_squared_error: 0.6184 - val_output_2_root_mean_squared_error: 0.6733\n",
      "162/162 [==============================] - 1s 5ms/step - loss: 0.3711 - output_1_loss: 0.3614 - output_2_loss: 0.4587 - output_1_root_mean_squared_error: 0.6011 - output_2_root_mean_squared_error: 0.6772\n",
      "1/1 [==============================] - 0s 77ms/step\n"
     ]
    }
   ],
   "source": [
    "optimizer = tf.keras.optimizers.Adam(learning_rate=1e-3)\n",
    "model.compile(loss=\"mse\", loss_weights=[0.9, 0.1], optimizer=optimizer,\n",
    "              metrics=[\"RootMeanSquaredError\"])\n",
    "\n",
    "model.normalization_wide.adapt(X_train_wide)\n",
    "model.normalization_deep.adapt(X_train_deep)\n",
    "history = model.fit(\n",
    "    (X_train_wide, X_train_deep), (y_train, y_train), epochs=10,\n",
    "    validation_data=((X_valid_wide, X_valid_deep), (y_valid, y_valid)))\n",
    "eval_results = model.evaluate((X_test_wide, X_test_deep), (y_test, y_test))\n",
    "weighted_sum_of_losses, main_loss, aux_loss, main_rmse, aux_rmse = eval_results\n",
    "y_pred_main, y_pred_aux = model.predict((X_new_wide, X_new_deep))"
   ]
  },
  {
   "cell_type": "markdown",
   "metadata": {},
   "source": [
    "## Saving and Restoring a Model"
   ]
  },
  {
   "cell_type": "code",
   "execution_count": 62,
   "metadata": {},
   "outputs": [],
   "source": [
    "import shutil\n",
    "from pathlib import Path\n",
    "\n",
    "shutil.rmtree('my_keras_model', ignore_errors=True)"
   ]
  },
  {
   "cell_type": "code",
   "execution_count": 63,
   "metadata": {},
   "outputs": [
    {
     "name": "stdout",
     "output_type": "stream",
     "text": [
      "INFO:tensorflow:Assets written to: my_keras_model\\assets\n"
     ]
    }
   ],
   "source": [
    "model.save('my_keras_model', save_format='tf')"
   ]
  },
  {
   "cell_type": "code",
   "execution_count": 64,
   "metadata": {},
   "outputs": [
    {
     "name": "stdout",
     "output_type": "stream",
     "text": [
      "my_keras_model\\assets\n",
      "my_keras_model\\keras_metadata.pb\n",
      "my_keras_model\\saved_model.pb\n",
      "my_keras_model\\variables\n",
      "my_keras_model\\variables\\variables.data-00000-of-00001\n",
      "my_keras_model\\variables\\variables.index\n"
     ]
    }
   ],
   "source": [
    "for path in sorted(Path(\"my_keras_model\").glob(\"**/*\")):\n",
    "    print(path)"
   ]
  },
  {
   "cell_type": "code",
   "execution_count": 66,
   "metadata": {},
   "outputs": [
    {
     "name": "stdout",
     "output_type": "stream",
     "text": [
      "1/1 [==============================] - 0s 16ms/step\n"
     ]
    },
    {
     "data": {
      "text/plain": [
       "(array([[0.4875873],\n",
       "        [1.5066742],\n",
       "        [3.5481503]], dtype=float32),\n",
       " array([[0.643222 ],\n",
       "        [1.8706505],\n",
       "        [3.1931453]], dtype=float32))"
      ]
     },
     "execution_count": 66,
     "metadata": {},
     "output_type": "execute_result"
    }
   ],
   "source": [
    "loaded_model = tf.keras.models.load_model('my_keras_model')\n",
    "y_pred_main, y_pred_aux = model.predict((X_new_wide, X_new_deep))\n",
    "y_pred_main, y_pred_aux"
   ]
  },
  {
   "cell_type": "code",
   "execution_count": 67,
   "metadata": {},
   "outputs": [],
   "source": [
    "model.save_weights(\"my_weights\")"
   ]
  },
  {
   "cell_type": "code",
   "execution_count": 68,
   "metadata": {},
   "outputs": [
    {
     "data": {
      "text/plain": [
       "<tensorflow.python.checkpoint.checkpoint.CheckpointLoadStatus at 0x25a1797dab0>"
      ]
     },
     "execution_count": 68,
     "metadata": {},
     "output_type": "execute_result"
    }
   ],
   "source": [
    "model.load_weights(\"my_weights\")"
   ]
  },
  {
   "cell_type": "code",
   "execution_count": 69,
   "metadata": {},
   "outputs": [
    {
     "name": "stdout",
     "output_type": "stream",
     "text": [
      "my_weights.data-00000-of-00001\n",
      "my_weights.index\n"
     ]
    }
   ],
   "source": [
    "for path in sorted(Path().glob(\"my_weights.*\")):\n",
    "    print(path)"
   ]
  },
  {
   "cell_type": "markdown",
   "metadata": {},
   "source": [
    "## Using Callbacks"
   ]
  },
  {
   "cell_type": "code",
   "execution_count": 72,
   "metadata": {},
   "outputs": [
    {
     "name": "stdout",
     "output_type": "stream",
     "text": [
      "Epoch 1/10\n",
      "363/363 [==============================] - 2s 6ms/step - loss: 0.3714 - output_1_loss: 0.3609 - output_2_loss: 0.4661 - output_1_root_mean_squared_error: 0.6008 - output_2_root_mean_squared_error: 0.6827 - val_loss: 0.4684 - val_output_1_loss: 0.4478 - val_output_2_loss: 0.6536 - val_output_1_root_mean_squared_error: 0.6692 - val_output_2_root_mean_squared_error: 0.8085\n",
      "Epoch 2/10\n",
      "363/363 [==============================] - 2s 6ms/step - loss: 0.3658 - output_1_loss: 0.3557 - output_2_loss: 0.4567 - output_1_root_mean_squared_error: 0.5964 - output_2_root_mean_squared_error: 0.6758 - val_loss: 0.4236 - val_output_1_loss: 0.4061 - val_output_2_loss: 0.5813 - val_output_1_root_mean_squared_error: 0.6373 - val_output_2_root_mean_squared_error: 0.7625\n",
      "Epoch 3/10\n",
      "363/363 [==============================] - 2s 6ms/step - loss: 0.3639 - output_1_loss: 0.3544 - output_2_loss: 0.4498 - output_1_root_mean_squared_error: 0.5953 - output_2_root_mean_squared_error: 0.6707 - val_loss: 0.3527 - val_output_1_loss: 0.3313 - val_output_2_loss: 0.5453 - val_output_1_root_mean_squared_error: 0.5756 - val_output_2_root_mean_squared_error: 0.7384\n",
      "Epoch 4/10\n",
      "363/363 [==============================] - 2s 6ms/step - loss: 0.3565 - output_1_loss: 0.3470 - output_2_loss: 0.4414 - output_1_root_mean_squared_error: 0.5891 - output_2_root_mean_squared_error: 0.6644 - val_loss: 0.3427 - val_output_1_loss: 0.3210 - val_output_2_loss: 0.5382 - val_output_1_root_mean_squared_error: 0.5666 - val_output_2_root_mean_squared_error: 0.7336\n",
      "Epoch 5/10\n",
      "363/363 [==============================] - 3s 8ms/step - loss: 0.3562 - output_1_loss: 0.3469 - output_2_loss: 0.4398 - output_1_root_mean_squared_error: 0.5890 - output_2_root_mean_squared_error: 0.6632 - val_loss: 1.0699 - val_output_1_loss: 1.0492 - val_output_2_loss: 1.2558 - val_output_1_root_mean_squared_error: 1.0243 - val_output_2_root_mean_squared_error: 1.1206\n",
      "Epoch 6/10\n",
      "363/363 [==============================] - 3s 8ms/step - loss: 0.3621 - output_1_loss: 0.3534 - output_2_loss: 0.4410 - output_1_root_mean_squared_error: 0.5944 - output_2_root_mean_squared_error: 0.6641 - val_loss: 1.8690 - val_output_1_loss: 1.9355 - val_output_2_loss: 1.2705 - val_output_1_root_mean_squared_error: 1.3912 - val_output_2_root_mean_squared_error: 1.1272\n",
      "Epoch 7/10\n",
      "363/363 [==============================] - 3s 8ms/step - loss: 0.3631 - output_1_loss: 0.3551 - output_2_loss: 0.4348 - output_1_root_mean_squared_error: 0.5959 - output_2_root_mean_squared_error: 0.6594 - val_loss: 2.5181 - val_output_1_loss: 2.5317 - val_output_2_loss: 2.3960 - val_output_1_root_mean_squared_error: 1.5911 - val_output_2_root_mean_squared_error: 1.5479\n",
      "Epoch 8/10\n",
      "363/363 [==============================] - 3s 8ms/step - loss: 0.3670 - output_1_loss: 0.3590 - output_2_loss: 0.4388 - output_1_root_mean_squared_error: 0.5992 - output_2_root_mean_squared_error: 0.6624 - val_loss: 0.9325 - val_output_1_loss: 0.9440 - val_output_2_loss: 0.8289 - val_output_1_root_mean_squared_error: 0.9716 - val_output_2_root_mean_squared_error: 0.9104\n",
      "Epoch 9/10\n",
      "363/363 [==============================] - 3s 8ms/step - loss: 0.3549 - output_1_loss: 0.3472 - output_2_loss: 0.4242 - output_1_root_mean_squared_error: 0.5892 - output_2_root_mean_squared_error: 0.6513 - val_loss: 0.7934 - val_output_1_loss: 0.7671 - val_output_2_loss: 1.0301 - val_output_1_root_mean_squared_error: 0.8759 - val_output_2_root_mean_squared_error: 1.0149\n",
      "Epoch 10/10\n",
      "363/363 [==============================] - 3s 8ms/step - loss: 0.3492 - output_1_loss: 0.3412 - output_2_loss: 0.4210 - output_1_root_mean_squared_error: 0.5841 - output_2_root_mean_squared_error: 0.6488 - val_loss: 0.3637 - val_output_1_loss: 0.3596 - val_output_2_loss: 0.4011 - val_output_1_root_mean_squared_error: 0.5997 - val_output_2_root_mean_squared_error: 0.6333\n"
     ]
    }
   ],
   "source": [
    "shutil.rmtree(\"my_checkpoints\", ignore_errors=True)\n",
    "\n",
    "checkpoint_cb = tf.keras.callbacks.ModelCheckpoint(\"my_checkpoints\",\n",
    "                                                   save_weights_only=True)\n",
    "history = model.fit(\n",
    "    (X_train_wide, X_train_deep), (y_train, y_train), epochs=10,\n",
    "    validation_data=((X_valid_wide, X_valid_deep), (y_valid, y_valid)),\n",
    "    callbacks=[checkpoint_cb])"
   ]
  },
  {
   "cell_type": "code",
   "execution_count": 73,
   "metadata": {},
   "outputs": [
    {
     "name": "stdout",
     "output_type": "stream",
     "text": [
      "Epoch 1/100\n",
      "363/363 [==============================] - 2s 7ms/step - loss: 0.3501 - output_1_loss: 0.3430 - output_2_loss: 0.4143 - output_1_root_mean_squared_error: 0.5856 - output_2_root_mean_squared_error: 0.6436 - val_loss: 0.5162 - val_output_1_loss: 0.4968 - val_output_2_loss: 0.6905 - val_output_1_root_mean_squared_error: 0.7048 - val_output_2_root_mean_squared_error: 0.8310\n",
      "Epoch 2/100\n",
      "363/363 [==============================] - 2s 6ms/step - loss: 0.3436 - output_1_loss: 0.3363 - output_2_loss: 0.4090 - output_1_root_mean_squared_error: 0.5799 - output_2_root_mean_squared_error: 0.6395 - val_loss: 0.3549 - val_output_1_loss: 0.3441 - val_output_2_loss: 0.4519 - val_output_1_root_mean_squared_error: 0.5866 - val_output_2_root_mean_squared_error: 0.6722\n",
      "Epoch 3/100\n",
      "363/363 [==============================] - 2s 5ms/step - loss: 0.3438 - output_1_loss: 0.3366 - output_2_loss: 0.4087 - output_1_root_mean_squared_error: 0.5802 - output_2_root_mean_squared_error: 0.6393 - val_loss: 0.3944 - val_output_1_loss: 0.3654 - val_output_2_loss: 0.6558 - val_output_1_root_mean_squared_error: 0.6045 - val_output_2_root_mean_squared_error: 0.8098\n",
      "Epoch 4/100\n",
      "363/363 [==============================] - 2s 6ms/step - loss: 0.3387 - output_1_loss: 0.3318 - output_2_loss: 0.4005 - output_1_root_mean_squared_error: 0.5760 - output_2_root_mean_squared_error: 0.6329 - val_loss: 0.3184 - val_output_1_loss: 0.3078 - val_output_2_loss: 0.4134 - val_output_1_root_mean_squared_error: 0.5548 - val_output_2_root_mean_squared_error: 0.6430\n",
      "Epoch 5/100\n",
      "363/363 [==============================] - 2s 6ms/step - loss: 0.3410 - output_1_loss: 0.3340 - output_2_loss: 0.4042 - output_1_root_mean_squared_error: 0.5779 - output_2_root_mean_squared_error: 0.6358 - val_loss: 1.8652 - val_output_1_loss: 1.8470 - val_output_2_loss: 2.0292 - val_output_1_root_mean_squared_error: 1.3590 - val_output_2_root_mean_squared_error: 1.4245\n",
      "Epoch 6/100\n",
      "363/363 [==============================] - 2s 6ms/step - loss: 0.3476 - output_1_loss: 0.3406 - output_2_loss: 0.4100 - output_1_root_mean_squared_error: 0.5836 - output_2_root_mean_squared_error: 0.6403 - val_loss: 1.2233 - val_output_1_loss: 1.2444 - val_output_2_loss: 1.0332 - val_output_1_root_mean_squared_error: 1.1155 - val_output_2_root_mean_squared_error: 1.0165\n",
      "Epoch 7/100\n",
      "363/363 [==============================] - 2s 6ms/step - loss: 0.3427 - output_1_loss: 0.3363 - output_2_loss: 0.4009 - output_1_root_mean_squared_error: 0.5799 - output_2_root_mean_squared_error: 0.6331 - val_loss: 0.9356 - val_output_1_loss: 0.8884 - val_output_2_loss: 1.3602 - val_output_1_root_mean_squared_error: 0.9426 - val_output_2_root_mean_squared_error: 1.1663\n",
      "Epoch 8/100\n",
      "363/363 [==============================] - 2s 6ms/step - loss: 0.3368 - output_1_loss: 0.3303 - output_2_loss: 0.3957 - output_1_root_mean_squared_error: 0.5747 - output_2_root_mean_squared_error: 0.6291 - val_loss: 0.3617 - val_output_1_loss: 0.3572 - val_output_2_loss: 0.4022 - val_output_1_root_mean_squared_error: 0.5977 - val_output_2_root_mean_squared_error: 0.6342\n",
      "Epoch 9/100\n",
      "363/363 [==============================] - 2s 6ms/step - loss: 0.3327 - output_1_loss: 0.3264 - output_2_loss: 0.3890 - output_1_root_mean_squared_error: 0.5713 - output_2_root_mean_squared_error: 0.6237 - val_loss: 0.7062 - val_output_1_loss: 0.6981 - val_output_2_loss: 0.7791 - val_output_1_root_mean_squared_error: 0.8355 - val_output_2_root_mean_squared_error: 0.8827\n",
      "Epoch 10/100\n",
      "363/363 [==============================] - 2s 5ms/step - loss: 0.3392 - output_1_loss: 0.3329 - output_2_loss: 0.3965 - output_1_root_mean_squared_error: 0.5770 - output_2_root_mean_squared_error: 0.6297 - val_loss: 0.4220 - val_output_1_loss: 0.4258 - val_output_2_loss: 0.3878 - val_output_1_root_mean_squared_error: 0.6525 - val_output_2_root_mean_squared_error: 0.6227\n",
      "Epoch 11/100\n",
      "363/363 [==============================] - 2s 5ms/step - loss: 0.3310 - output_1_loss: 0.3250 - output_2_loss: 0.3847 - output_1_root_mean_squared_error: 0.5701 - output_2_root_mean_squared_error: 0.6202 - val_loss: 0.9954 - val_output_1_loss: 0.9627 - val_output_2_loss: 1.2898 - val_output_1_root_mean_squared_error: 0.9812 - val_output_2_root_mean_squared_error: 1.1357\n",
      "Epoch 12/100\n",
      "363/363 [==============================] - 2s 5ms/step - loss: 0.3324 - output_1_loss: 0.3262 - output_2_loss: 0.3881 - output_1_root_mean_squared_error: 0.5711 - output_2_root_mean_squared_error: 0.6230 - val_loss: 0.4497 - val_output_1_loss: 0.4476 - val_output_2_loss: 0.4684 - val_output_1_root_mean_squared_error: 0.6690 - val_output_2_root_mean_squared_error: 0.6844\n",
      "Epoch 13/100\n",
      "363/363 [==============================] - 2s 6ms/step - loss: 0.3317 - output_1_loss: 0.3259 - output_2_loss: 0.3844 - output_1_root_mean_squared_error: 0.5709 - output_2_root_mean_squared_error: 0.6200 - val_loss: 0.4273 - val_output_1_loss: 0.4178 - val_output_2_loss: 0.5123 - val_output_1_root_mean_squared_error: 0.6464 - val_output_2_root_mean_squared_error: 0.7157\n",
      "Epoch 14/100\n",
      "363/363 [==============================] - 2s 6ms/step - loss: 0.3328 - output_1_loss: 0.3271 - output_2_loss: 0.3838 - output_1_root_mean_squared_error: 0.5720 - output_2_root_mean_squared_error: 0.6195 - val_loss: 0.4803 - val_output_1_loss: 0.4918 - val_output_2_loss: 0.3772 - val_output_1_root_mean_squared_error: 0.7013 - val_output_2_root_mean_squared_error: 0.6142\n"
     ]
    }
   ],
   "source": [
    "early_stopping_cb = tf.keras.callbacks.EarlyStopping(patience=10,\n",
    "                                                     restore_best_weights=True)\n",
    "history = model.fit(\n",
    "    (X_train_wide, X_train_deep), (y_train, y_train), epochs=100,\n",
    "    validation_data=((X_valid_wide, X_valid_deep), (y_valid, y_valid)),\n",
    "    callbacks=[checkpoint_cb, early_stopping_cb])"
   ]
  },
  {
   "cell_type": "code",
   "execution_count": 74,
   "metadata": {},
   "outputs": [
    {
     "name": "stdout",
     "output_type": "stream",
     "text": [
      "Epoch=0, val/train=0.97\n",
      "Epoch=1, val/train=2.02\n",
      "Epoch=2, val/train=2.33\n",
      "Epoch=3, val/train=2.10\n",
      "Epoch=4, val/train=6.52\n",
      "Epoch=5, val/train=3.91\n",
      "Epoch=6, val/train=1.37\n",
      "Epoch=7, val/train=2.07\n",
      "Epoch=8, val/train=0.94\n",
      "Epoch=9, val/train=1.73\n"
     ]
    }
   ],
   "source": [
    "class PrintValTrainRatioCallback(tf.keras.callbacks.Callback):\n",
    "    def on_epoch_end(self, epoch, logs):\n",
    "        ratio = logs[\"val_loss\"] / logs[\"loss\"]\n",
    "        print(f\"Epoch={epoch}, val/train={ratio:.2f}\")\n",
    "\n",
    "\n",
    "val_train_ratio_cb = PrintValTrainRatioCallback()\n",
    "history = model.fit(\n",
    "    (X_train_wide, X_train_deep), (y_train, y_train), epochs=10,\n",
    "    validation_data=((X_valid_wide, X_valid_deep), (y_valid, y_valid)),\n",
    "    callbacks=[val_train_ratio_cb], verbose=0)"
   ]
  },
  {
   "cell_type": "markdown",
   "metadata": {},
   "source": [
    "## Using TensorBoard for Visualization"
   ]
  },
  {
   "cell_type": "markdown",
   "metadata": {},
   "source": []
  }
 ],
 "metadata": {
  "kernelspec": {
   "display_name": "base",
   "language": "python",
   "name": "python3"
  },
  "language_info": {
   "codemirror_mode": {
    "name": "ipython",
    "version": 3
   },
   "file_extension": ".py",
   "mimetype": "text/x-python",
   "name": "python",
   "nbconvert_exporter": "python",
   "pygments_lexer": "ipython3",
   "version": "3.10.13"
  }
 },
 "nbformat": 4,
 "nbformat_minor": 2
}
